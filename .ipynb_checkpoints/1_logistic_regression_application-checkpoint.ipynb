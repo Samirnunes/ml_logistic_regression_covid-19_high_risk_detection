{
 "cells": [
  {
   "cell_type": "markdown",
   "id": "1fb0dd58",
   "metadata": {},
   "source": [
    "# Bibliotecas"
   ]
  },
  {
   "cell_type": "code",
   "execution_count": 356,
   "id": "ff0fe27e",
   "metadata": {},
   "outputs": [],
   "source": [
    "import pandas as pd\n",
    "import numpy as np\n",
    "import matplotlib.pyplot as plt"
   ]
  },
  {
   "cell_type": "markdown",
   "id": "78db4be6",
   "metadata": {},
   "source": [
    "# Importando os dados"
   ]
  },
  {
   "cell_type": "markdown",
   "id": "4b8af32c",
   "metadata": {},
   "source": [
    "#### https://www.kaggle.com/datasets/meirnizri/covid19-dataset"
   ]
  },
  {
   "cell_type": "code",
   "execution_count": 357,
   "id": "c3670774",
   "metadata": {},
   "outputs": [],
   "source": [
    "data = pd.read_csv('Covid Data.csv')"
   ]
  },
  {
   "cell_type": "code",
   "execution_count": 358,
   "id": "3cccd2be",
   "metadata": {},
   "outputs": [
    {
     "data": {
      "text/plain": [
       "Index(['USMER', 'MEDICAL_UNIT', 'SEX', 'PATIENT_TYPE', 'DATE_DIED', 'INTUBED',\n",
       "       'PNEUMONIA', 'AGE', 'PREGNANT', 'DIABETES', 'COPD', 'ASTHMA', 'INMSUPR',\n",
       "       'HIPERTENSION', 'OTHER_DISEASE', 'CARDIOVASCULAR', 'OBESITY',\n",
       "       'RENAL_CHRONIC', 'TOBACCO', 'CLASIFFICATION_FINAL', 'ICU'],\n",
       "      dtype='object')"
      ]
     },
     "execution_count": 358,
     "metadata": {},
     "output_type": "execute_result"
    }
   ],
   "source": [
    "data.columns"
   ]
  },
  {
   "cell_type": "code",
   "execution_count": 359,
   "id": "26d590c9",
   "metadata": {},
   "outputs": [],
   "source": [
    "data = data.rename(columns = {'CLASIFFICATION_FINAL': 'CLASSIFICATION_FINAL'})"
   ]
  },
  {
   "cell_type": "code",
   "execution_count": 360,
   "id": "54e91bd0",
   "metadata": {
    "scrolled": true
   },
   "outputs": [
    {
     "data": {
      "text/html": [
       "<div>\n",
       "<style scoped>\n",
       "    .dataframe tbody tr th:only-of-type {\n",
       "        vertical-align: middle;\n",
       "    }\n",
       "\n",
       "    .dataframe tbody tr th {\n",
       "        vertical-align: top;\n",
       "    }\n",
       "\n",
       "    .dataframe thead th {\n",
       "        text-align: right;\n",
       "    }\n",
       "</style>\n",
       "<table border=\"1\" class=\"dataframe\">\n",
       "  <thead>\n",
       "    <tr style=\"text-align: right;\">\n",
       "      <th></th>\n",
       "      <th>USMER</th>\n",
       "      <th>MEDICAL_UNIT</th>\n",
       "      <th>SEX</th>\n",
       "      <th>PATIENT_TYPE</th>\n",
       "      <th>DATE_DIED</th>\n",
       "      <th>INTUBED</th>\n",
       "      <th>PNEUMONIA</th>\n",
       "      <th>AGE</th>\n",
       "      <th>PREGNANT</th>\n",
       "      <th>DIABETES</th>\n",
       "      <th>...</th>\n",
       "      <th>ASTHMA</th>\n",
       "      <th>INMSUPR</th>\n",
       "      <th>HIPERTENSION</th>\n",
       "      <th>OTHER_DISEASE</th>\n",
       "      <th>CARDIOVASCULAR</th>\n",
       "      <th>OBESITY</th>\n",
       "      <th>RENAL_CHRONIC</th>\n",
       "      <th>TOBACCO</th>\n",
       "      <th>CLASSIFICATION_FINAL</th>\n",
       "      <th>ICU</th>\n",
       "    </tr>\n",
       "  </thead>\n",
       "  <tbody>\n",
       "    <tr>\n",
       "      <th>0</th>\n",
       "      <td>2</td>\n",
       "      <td>1</td>\n",
       "      <td>1</td>\n",
       "      <td>1</td>\n",
       "      <td>03/05/2020</td>\n",
       "      <td>97</td>\n",
       "      <td>1</td>\n",
       "      <td>65</td>\n",
       "      <td>2</td>\n",
       "      <td>2</td>\n",
       "      <td>...</td>\n",
       "      <td>2</td>\n",
       "      <td>2</td>\n",
       "      <td>1</td>\n",
       "      <td>2</td>\n",
       "      <td>2</td>\n",
       "      <td>2</td>\n",
       "      <td>2</td>\n",
       "      <td>2</td>\n",
       "      <td>3</td>\n",
       "      <td>97</td>\n",
       "    </tr>\n",
       "    <tr>\n",
       "      <th>1</th>\n",
       "      <td>2</td>\n",
       "      <td>1</td>\n",
       "      <td>2</td>\n",
       "      <td>1</td>\n",
       "      <td>03/06/2020</td>\n",
       "      <td>97</td>\n",
       "      <td>1</td>\n",
       "      <td>72</td>\n",
       "      <td>97</td>\n",
       "      <td>2</td>\n",
       "      <td>...</td>\n",
       "      <td>2</td>\n",
       "      <td>2</td>\n",
       "      <td>1</td>\n",
       "      <td>2</td>\n",
       "      <td>2</td>\n",
       "      <td>1</td>\n",
       "      <td>1</td>\n",
       "      <td>2</td>\n",
       "      <td>5</td>\n",
       "      <td>97</td>\n",
       "    </tr>\n",
       "    <tr>\n",
       "      <th>2</th>\n",
       "      <td>2</td>\n",
       "      <td>1</td>\n",
       "      <td>2</td>\n",
       "      <td>2</td>\n",
       "      <td>09/06/2020</td>\n",
       "      <td>1</td>\n",
       "      <td>2</td>\n",
       "      <td>55</td>\n",
       "      <td>97</td>\n",
       "      <td>1</td>\n",
       "      <td>...</td>\n",
       "      <td>2</td>\n",
       "      <td>2</td>\n",
       "      <td>2</td>\n",
       "      <td>2</td>\n",
       "      <td>2</td>\n",
       "      <td>2</td>\n",
       "      <td>2</td>\n",
       "      <td>2</td>\n",
       "      <td>3</td>\n",
       "      <td>2</td>\n",
       "    </tr>\n",
       "    <tr>\n",
       "      <th>3</th>\n",
       "      <td>2</td>\n",
       "      <td>1</td>\n",
       "      <td>1</td>\n",
       "      <td>1</td>\n",
       "      <td>12/06/2020</td>\n",
       "      <td>97</td>\n",
       "      <td>2</td>\n",
       "      <td>53</td>\n",
       "      <td>2</td>\n",
       "      <td>2</td>\n",
       "      <td>...</td>\n",
       "      <td>2</td>\n",
       "      <td>2</td>\n",
       "      <td>2</td>\n",
       "      <td>2</td>\n",
       "      <td>2</td>\n",
       "      <td>2</td>\n",
       "      <td>2</td>\n",
       "      <td>2</td>\n",
       "      <td>7</td>\n",
       "      <td>97</td>\n",
       "    </tr>\n",
       "    <tr>\n",
       "      <th>4</th>\n",
       "      <td>2</td>\n",
       "      <td>1</td>\n",
       "      <td>2</td>\n",
       "      <td>1</td>\n",
       "      <td>21/06/2020</td>\n",
       "      <td>97</td>\n",
       "      <td>2</td>\n",
       "      <td>68</td>\n",
       "      <td>97</td>\n",
       "      <td>1</td>\n",
       "      <td>...</td>\n",
       "      <td>2</td>\n",
       "      <td>2</td>\n",
       "      <td>1</td>\n",
       "      <td>2</td>\n",
       "      <td>2</td>\n",
       "      <td>2</td>\n",
       "      <td>2</td>\n",
       "      <td>2</td>\n",
       "      <td>3</td>\n",
       "      <td>97</td>\n",
       "    </tr>\n",
       "    <tr>\n",
       "      <th>5</th>\n",
       "      <td>2</td>\n",
       "      <td>1</td>\n",
       "      <td>1</td>\n",
       "      <td>2</td>\n",
       "      <td>9999-99-99</td>\n",
       "      <td>2</td>\n",
       "      <td>1</td>\n",
       "      <td>40</td>\n",
       "      <td>2</td>\n",
       "      <td>2</td>\n",
       "      <td>...</td>\n",
       "      <td>2</td>\n",
       "      <td>2</td>\n",
       "      <td>2</td>\n",
       "      <td>2</td>\n",
       "      <td>2</td>\n",
       "      <td>2</td>\n",
       "      <td>2</td>\n",
       "      <td>2</td>\n",
       "      <td>3</td>\n",
       "      <td>2</td>\n",
       "    </tr>\n",
       "  </tbody>\n",
       "</table>\n",
       "<p>6 rows × 21 columns</p>\n",
       "</div>"
      ],
      "text/plain": [
       "   USMER  MEDICAL_UNIT  SEX  PATIENT_TYPE   DATE_DIED  INTUBED  PNEUMONIA  \\\n",
       "0      2             1    1             1  03/05/2020       97          1   \n",
       "1      2             1    2             1  03/06/2020       97          1   \n",
       "2      2             1    2             2  09/06/2020        1          2   \n",
       "3      2             1    1             1  12/06/2020       97          2   \n",
       "4      2             1    2             1  21/06/2020       97          2   \n",
       "5      2             1    1             2  9999-99-99        2          1   \n",
       "\n",
       "   AGE  PREGNANT  DIABETES  ...  ASTHMA  INMSUPR  HIPERTENSION  OTHER_DISEASE  \\\n",
       "0   65         2         2  ...       2        2             1              2   \n",
       "1   72        97         2  ...       2        2             1              2   \n",
       "2   55        97         1  ...       2        2             2              2   \n",
       "3   53         2         2  ...       2        2             2              2   \n",
       "4   68        97         1  ...       2        2             1              2   \n",
       "5   40         2         2  ...       2        2             2              2   \n",
       "\n",
       "   CARDIOVASCULAR  OBESITY  RENAL_CHRONIC  TOBACCO  CLASSIFICATION_FINAL  ICU  \n",
       "0               2        2              2        2                     3   97  \n",
       "1               2        1              1        2                     5   97  \n",
       "2               2        2              2        2                     3    2  \n",
       "3               2        2              2        2                     7   97  \n",
       "4               2        2              2        2                     3   97  \n",
       "5               2        2              2        2                     3    2  \n",
       "\n",
       "[6 rows x 21 columns]"
      ]
     },
     "execution_count": 360,
     "metadata": {},
     "output_type": "execute_result"
    }
   ],
   "source": [
    "data.head(6)"
   ]
  },
  {
   "cell_type": "code",
   "execution_count": 361,
   "id": "6b747f24",
   "metadata": {
    "scrolled": false
   },
   "outputs": [
    {
     "data": {
      "text/html": [
       "<div>\n",
       "<style scoped>\n",
       "    .dataframe tbody tr th:only-of-type {\n",
       "        vertical-align: middle;\n",
       "    }\n",
       "\n",
       "    .dataframe tbody tr th {\n",
       "        vertical-align: top;\n",
       "    }\n",
       "\n",
       "    .dataframe thead th {\n",
       "        text-align: right;\n",
       "    }\n",
       "</style>\n",
       "<table border=\"1\" class=\"dataframe\">\n",
       "  <thead>\n",
       "    <tr style=\"text-align: right;\">\n",
       "      <th></th>\n",
       "      <th>USMER</th>\n",
       "      <th>MEDICAL_UNIT</th>\n",
       "      <th>SEX</th>\n",
       "      <th>PATIENT_TYPE</th>\n",
       "      <th>INTUBED</th>\n",
       "      <th>PNEUMONIA</th>\n",
       "      <th>AGE</th>\n",
       "      <th>PREGNANT</th>\n",
       "      <th>DIABETES</th>\n",
       "      <th>COPD</th>\n",
       "      <th>ASTHMA</th>\n",
       "      <th>INMSUPR</th>\n",
       "      <th>HIPERTENSION</th>\n",
       "      <th>OTHER_DISEASE</th>\n",
       "      <th>CARDIOVASCULAR</th>\n",
       "      <th>OBESITY</th>\n",
       "      <th>RENAL_CHRONIC</th>\n",
       "      <th>TOBACCO</th>\n",
       "      <th>CLASSIFICATION_FINAL</th>\n",
       "      <th>ICU</th>\n",
       "    </tr>\n",
       "  </thead>\n",
       "  <tbody>\n",
       "    <tr>\n",
       "      <th>count</th>\n",
       "      <td>1.048575e+06</td>\n",
       "      <td>1.048575e+06</td>\n",
       "      <td>1.048575e+06</td>\n",
       "      <td>1.048575e+06</td>\n",
       "      <td>1.048575e+06</td>\n",
       "      <td>1.048575e+06</td>\n",
       "      <td>1.048575e+06</td>\n",
       "      <td>1.048575e+06</td>\n",
       "      <td>1.048575e+06</td>\n",
       "      <td>1.048575e+06</td>\n",
       "      <td>1.048575e+06</td>\n",
       "      <td>1.048575e+06</td>\n",
       "      <td>1.048575e+06</td>\n",
       "      <td>1.048575e+06</td>\n",
       "      <td>1.048575e+06</td>\n",
       "      <td>1.048575e+06</td>\n",
       "      <td>1.048575e+06</td>\n",
       "      <td>1.048575e+06</td>\n",
       "      <td>1.048575e+06</td>\n",
       "      <td>1.048575e+06</td>\n",
       "    </tr>\n",
       "    <tr>\n",
       "      <th>mean</th>\n",
       "      <td>1.632194e+00</td>\n",
       "      <td>8.980565e+00</td>\n",
       "      <td>1.499259e+00</td>\n",
       "      <td>1.190765e+00</td>\n",
       "      <td>7.952288e+01</td>\n",
       "      <td>3.346831e+00</td>\n",
       "      <td>4.179410e+01</td>\n",
       "      <td>4.976558e+01</td>\n",
       "      <td>2.186404e+00</td>\n",
       "      <td>2.260569e+00</td>\n",
       "      <td>2.242626e+00</td>\n",
       "      <td>2.298132e+00</td>\n",
       "      <td>2.128989e+00</td>\n",
       "      <td>2.435143e+00</td>\n",
       "      <td>2.261810e+00</td>\n",
       "      <td>2.125176e+00</td>\n",
       "      <td>2.257180e+00</td>\n",
       "      <td>2.214333e+00</td>\n",
       "      <td>5.305653e+00</td>\n",
       "      <td>7.955397e+01</td>\n",
       "    </tr>\n",
       "    <tr>\n",
       "      <th>std</th>\n",
       "      <td>4.822084e-01</td>\n",
       "      <td>3.723278e+00</td>\n",
       "      <td>4.999997e-01</td>\n",
       "      <td>3.929041e-01</td>\n",
       "      <td>3.686889e+01</td>\n",
       "      <td>1.191288e+01</td>\n",
       "      <td>1.690739e+01</td>\n",
       "      <td>4.751073e+01</td>\n",
       "      <td>5.424242e+00</td>\n",
       "      <td>5.132258e+00</td>\n",
       "      <td>5.114089e+00</td>\n",
       "      <td>5.462843e+00</td>\n",
       "      <td>5.236397e+00</td>\n",
       "      <td>6.646676e+00</td>\n",
       "      <td>5.194850e+00</td>\n",
       "      <td>5.175445e+00</td>\n",
       "      <td>5.135354e+00</td>\n",
       "      <td>5.323097e+00</td>\n",
       "      <td>1.881165e+00</td>\n",
       "      <td>3.682307e+01</td>\n",
       "    </tr>\n",
       "    <tr>\n",
       "      <th>min</th>\n",
       "      <td>1.000000e+00</td>\n",
       "      <td>1.000000e+00</td>\n",
       "      <td>1.000000e+00</td>\n",
       "      <td>1.000000e+00</td>\n",
       "      <td>1.000000e+00</td>\n",
       "      <td>1.000000e+00</td>\n",
       "      <td>0.000000e+00</td>\n",
       "      <td>1.000000e+00</td>\n",
       "      <td>1.000000e+00</td>\n",
       "      <td>1.000000e+00</td>\n",
       "      <td>1.000000e+00</td>\n",
       "      <td>1.000000e+00</td>\n",
       "      <td>1.000000e+00</td>\n",
       "      <td>1.000000e+00</td>\n",
       "      <td>1.000000e+00</td>\n",
       "      <td>1.000000e+00</td>\n",
       "      <td>1.000000e+00</td>\n",
       "      <td>1.000000e+00</td>\n",
       "      <td>1.000000e+00</td>\n",
       "      <td>1.000000e+00</td>\n",
       "    </tr>\n",
       "    <tr>\n",
       "      <th>25%</th>\n",
       "      <td>1.000000e+00</td>\n",
       "      <td>4.000000e+00</td>\n",
       "      <td>1.000000e+00</td>\n",
       "      <td>1.000000e+00</td>\n",
       "      <td>9.700000e+01</td>\n",
       "      <td>2.000000e+00</td>\n",
       "      <td>3.000000e+01</td>\n",
       "      <td>2.000000e+00</td>\n",
       "      <td>2.000000e+00</td>\n",
       "      <td>2.000000e+00</td>\n",
       "      <td>2.000000e+00</td>\n",
       "      <td>2.000000e+00</td>\n",
       "      <td>2.000000e+00</td>\n",
       "      <td>2.000000e+00</td>\n",
       "      <td>2.000000e+00</td>\n",
       "      <td>2.000000e+00</td>\n",
       "      <td>2.000000e+00</td>\n",
       "      <td>2.000000e+00</td>\n",
       "      <td>3.000000e+00</td>\n",
       "      <td>9.700000e+01</td>\n",
       "    </tr>\n",
       "    <tr>\n",
       "      <th>50%</th>\n",
       "      <td>2.000000e+00</td>\n",
       "      <td>1.200000e+01</td>\n",
       "      <td>1.000000e+00</td>\n",
       "      <td>1.000000e+00</td>\n",
       "      <td>9.700000e+01</td>\n",
       "      <td>2.000000e+00</td>\n",
       "      <td>4.000000e+01</td>\n",
       "      <td>9.700000e+01</td>\n",
       "      <td>2.000000e+00</td>\n",
       "      <td>2.000000e+00</td>\n",
       "      <td>2.000000e+00</td>\n",
       "      <td>2.000000e+00</td>\n",
       "      <td>2.000000e+00</td>\n",
       "      <td>2.000000e+00</td>\n",
       "      <td>2.000000e+00</td>\n",
       "      <td>2.000000e+00</td>\n",
       "      <td>2.000000e+00</td>\n",
       "      <td>2.000000e+00</td>\n",
       "      <td>6.000000e+00</td>\n",
       "      <td>9.700000e+01</td>\n",
       "    </tr>\n",
       "    <tr>\n",
       "      <th>75%</th>\n",
       "      <td>2.000000e+00</td>\n",
       "      <td>1.200000e+01</td>\n",
       "      <td>2.000000e+00</td>\n",
       "      <td>1.000000e+00</td>\n",
       "      <td>9.700000e+01</td>\n",
       "      <td>2.000000e+00</td>\n",
       "      <td>5.300000e+01</td>\n",
       "      <td>9.700000e+01</td>\n",
       "      <td>2.000000e+00</td>\n",
       "      <td>2.000000e+00</td>\n",
       "      <td>2.000000e+00</td>\n",
       "      <td>2.000000e+00</td>\n",
       "      <td>2.000000e+00</td>\n",
       "      <td>2.000000e+00</td>\n",
       "      <td>2.000000e+00</td>\n",
       "      <td>2.000000e+00</td>\n",
       "      <td>2.000000e+00</td>\n",
       "      <td>2.000000e+00</td>\n",
       "      <td>7.000000e+00</td>\n",
       "      <td>9.700000e+01</td>\n",
       "    </tr>\n",
       "    <tr>\n",
       "      <th>max</th>\n",
       "      <td>2.000000e+00</td>\n",
       "      <td>1.300000e+01</td>\n",
       "      <td>2.000000e+00</td>\n",
       "      <td>2.000000e+00</td>\n",
       "      <td>9.900000e+01</td>\n",
       "      <td>9.900000e+01</td>\n",
       "      <td>1.210000e+02</td>\n",
       "      <td>9.800000e+01</td>\n",
       "      <td>9.800000e+01</td>\n",
       "      <td>9.800000e+01</td>\n",
       "      <td>9.800000e+01</td>\n",
       "      <td>9.800000e+01</td>\n",
       "      <td>9.800000e+01</td>\n",
       "      <td>9.800000e+01</td>\n",
       "      <td>9.800000e+01</td>\n",
       "      <td>9.800000e+01</td>\n",
       "      <td>9.800000e+01</td>\n",
       "      <td>9.800000e+01</td>\n",
       "      <td>7.000000e+00</td>\n",
       "      <td>9.900000e+01</td>\n",
       "    </tr>\n",
       "  </tbody>\n",
       "</table>\n",
       "</div>"
      ],
      "text/plain": [
       "              USMER  MEDICAL_UNIT           SEX  PATIENT_TYPE       INTUBED  \\\n",
       "count  1.048575e+06  1.048575e+06  1.048575e+06  1.048575e+06  1.048575e+06   \n",
       "mean   1.632194e+00  8.980565e+00  1.499259e+00  1.190765e+00  7.952288e+01   \n",
       "std    4.822084e-01  3.723278e+00  4.999997e-01  3.929041e-01  3.686889e+01   \n",
       "min    1.000000e+00  1.000000e+00  1.000000e+00  1.000000e+00  1.000000e+00   \n",
       "25%    1.000000e+00  4.000000e+00  1.000000e+00  1.000000e+00  9.700000e+01   \n",
       "50%    2.000000e+00  1.200000e+01  1.000000e+00  1.000000e+00  9.700000e+01   \n",
       "75%    2.000000e+00  1.200000e+01  2.000000e+00  1.000000e+00  9.700000e+01   \n",
       "max    2.000000e+00  1.300000e+01  2.000000e+00  2.000000e+00  9.900000e+01   \n",
       "\n",
       "          PNEUMONIA           AGE      PREGNANT      DIABETES          COPD  \\\n",
       "count  1.048575e+06  1.048575e+06  1.048575e+06  1.048575e+06  1.048575e+06   \n",
       "mean   3.346831e+00  4.179410e+01  4.976558e+01  2.186404e+00  2.260569e+00   \n",
       "std    1.191288e+01  1.690739e+01  4.751073e+01  5.424242e+00  5.132258e+00   \n",
       "min    1.000000e+00  0.000000e+00  1.000000e+00  1.000000e+00  1.000000e+00   \n",
       "25%    2.000000e+00  3.000000e+01  2.000000e+00  2.000000e+00  2.000000e+00   \n",
       "50%    2.000000e+00  4.000000e+01  9.700000e+01  2.000000e+00  2.000000e+00   \n",
       "75%    2.000000e+00  5.300000e+01  9.700000e+01  2.000000e+00  2.000000e+00   \n",
       "max    9.900000e+01  1.210000e+02  9.800000e+01  9.800000e+01  9.800000e+01   \n",
       "\n",
       "             ASTHMA       INMSUPR  HIPERTENSION  OTHER_DISEASE  \\\n",
       "count  1.048575e+06  1.048575e+06  1.048575e+06   1.048575e+06   \n",
       "mean   2.242626e+00  2.298132e+00  2.128989e+00   2.435143e+00   \n",
       "std    5.114089e+00  5.462843e+00  5.236397e+00   6.646676e+00   \n",
       "min    1.000000e+00  1.000000e+00  1.000000e+00   1.000000e+00   \n",
       "25%    2.000000e+00  2.000000e+00  2.000000e+00   2.000000e+00   \n",
       "50%    2.000000e+00  2.000000e+00  2.000000e+00   2.000000e+00   \n",
       "75%    2.000000e+00  2.000000e+00  2.000000e+00   2.000000e+00   \n",
       "max    9.800000e+01  9.800000e+01  9.800000e+01   9.800000e+01   \n",
       "\n",
       "       CARDIOVASCULAR       OBESITY  RENAL_CHRONIC       TOBACCO  \\\n",
       "count    1.048575e+06  1.048575e+06   1.048575e+06  1.048575e+06   \n",
       "mean     2.261810e+00  2.125176e+00   2.257180e+00  2.214333e+00   \n",
       "std      5.194850e+00  5.175445e+00   5.135354e+00  5.323097e+00   \n",
       "min      1.000000e+00  1.000000e+00   1.000000e+00  1.000000e+00   \n",
       "25%      2.000000e+00  2.000000e+00   2.000000e+00  2.000000e+00   \n",
       "50%      2.000000e+00  2.000000e+00   2.000000e+00  2.000000e+00   \n",
       "75%      2.000000e+00  2.000000e+00   2.000000e+00  2.000000e+00   \n",
       "max      9.800000e+01  9.800000e+01   9.800000e+01  9.800000e+01   \n",
       "\n",
       "       CLASSIFICATION_FINAL           ICU  \n",
       "count          1.048575e+06  1.048575e+06  \n",
       "mean           5.305653e+00  7.955397e+01  \n",
       "std            1.881165e+00  3.682307e+01  \n",
       "min            1.000000e+00  1.000000e+00  \n",
       "25%            3.000000e+00  9.700000e+01  \n",
       "50%            6.000000e+00  9.700000e+01  \n",
       "75%            7.000000e+00  9.700000e+01  \n",
       "max            7.000000e+00  9.900000e+01  "
      ]
     },
     "execution_count": 361,
     "metadata": {},
     "output_type": "execute_result"
    }
   ],
   "source": [
    "data.describe()"
   ]
  },
  {
   "cell_type": "markdown",
   "id": "1d3df9bb",
   "metadata": {},
   "source": [
    "# Split"
   ]
  },
  {
   "cell_type": "code",
   "execution_count": 362,
   "id": "4c46d89c",
   "metadata": {},
   "outputs": [],
   "source": [
    "from sklearn.model_selection import train_test_split\n",
    "from sklearn.linear_model import LogisticRegression\n",
    "from sklearn import metrics"
   ]
  },
  {
   "cell_type": "markdown",
   "id": "12ade50a",
   "metadata": {},
   "source": [
    "### Definindo as features e a label"
   ]
  },
  {
   "cell_type": "markdown",
   "id": "2a803483",
   "metadata": {},
   "source": [
    "#### Criando a coluna DIED para indicar se a pessoa morreu ou não com base na presença de data de falecimento"
   ]
  },
  {
   "cell_type": "code",
   "execution_count": 363,
   "id": "33471899",
   "metadata": {},
   "outputs": [],
   "source": [
    "data1 = data.copy()\n",
    "data1.loc[data1['DATE_DIED'] == '9999-99-99', 'DIED'] = 2\n",
    "data1.loc[data1['DATE_DIED'] != '9999-99-99', 'DIED'] = 1\n",
    "data1.drop(columns = ['DATE_DIED'], inplace = True)"
   ]
  },
  {
   "cell_type": "code",
   "execution_count": 364,
   "id": "eef8b0a4",
   "metadata": {},
   "outputs": [],
   "source": [
    "label = 'DIED'"
   ]
  },
  {
   "cell_type": "code",
   "execution_count": 365,
   "id": "b368cd09",
   "metadata": {},
   "outputs": [],
   "source": [
    "features = list(set(data1.columns).difference({label}))"
   ]
  },
  {
   "cell_type": "code",
   "execution_count": 366,
   "id": "97a9c2ee",
   "metadata": {},
   "outputs": [],
   "source": [
    "X = data1[features]\n",
    "y = data1[label]"
   ]
  },
  {
   "cell_type": "code",
   "execution_count": 367,
   "id": "e8ed53de",
   "metadata": {},
   "outputs": [],
   "source": [
    "X_train, X_test, y_train, y_test = train_test_split(X, y, test_size = 0.2, random_state = 0)"
   ]
  },
  {
   "cell_type": "markdown",
   "id": "32efa804",
   "metadata": {},
   "source": [
    "# Pré-Processamento"
   ]
  },
  {
   "cell_type": "markdown",
   "id": "80451854",
   "metadata": {},
   "source": [
    "Os valores 97, 98 e 99 são dados faltantes, segundo a página do Kaggle de onde os dados foram retirados. Ainda, as features booleanas estão indicadas com 1 para 'Sim' e 2 para 'Não', e, se a DATE_DIED for '9999-99-99', a pessoa não faleceu. Outro fato é que valores maiores que 4 em 'CLASSIFICATION FINAL' indicam ou que o paciente não possui covid ou que o teste foi inconclusivo.\n",
    "\n",
    "Vamos fazer as seguintes transformações nos dados de treino e de teste com base nessas informações:\n",
    "\n",
    "- Criar colunas de booleanos indicando se há ou não os valores de variáveis que possuem valores faltantes (casos em que há 97, 98 ou 99 na coluna, por exemplo).\n",
    "\n",
    "- Para todas as linhas em que 'SEX' for 2 (homem), trocar 'PREGNANT' por 0.\n",
    "\n",
    "- Trocar os valores 'mágicos' das colunas de booleanos para o valor mais comum na coluna.\n",
    "\n",
    "- Tratamento da feature 'CLASSIFICATION_FINAL'.\n",
    "\n",
    "- Scaling em todas as features."
   ]
  },
  {
   "cell_type": "code",
   "execution_count": 368,
   "id": "a30de2ae",
   "metadata": {},
   "outputs": [],
   "source": [
    "boolean_features = ['PNEUMONIA', 'PREGNANT', 'DIABETES', 'COPD', 'ASTHMA', 'INMSUPR', 'HIPERTENSION',\n",
    "                   'CARDIOVASCULAR', 'RENAL_CHRONIC', 'OTHER_DISEASE', 'OBESITY', 'TOBACCO',\n",
    "                   'INTUBED', 'ICU']"
   ]
  },
  {
   "cell_type": "code",
   "execution_count": 369,
   "id": "f575b9fa",
   "metadata": {},
   "outputs": [],
   "source": [
    "not_boolean_features = list(set(data1.columns).difference(set(boolean_features)))"
   ]
  },
  {
   "cell_type": "code",
   "execution_count": 370,
   "id": "b447d73f",
   "metadata": {
    "scrolled": true
   },
   "outputs": [
    {
     "data": {
      "text/html": [
       "<div>\n",
       "<style scoped>\n",
       "    .dataframe tbody tr th:only-of-type {\n",
       "        vertical-align: middle;\n",
       "    }\n",
       "\n",
       "    .dataframe tbody tr th {\n",
       "        vertical-align: top;\n",
       "    }\n",
       "\n",
       "    .dataframe thead th {\n",
       "        text-align: right;\n",
       "    }\n",
       "</style>\n",
       "<table border=\"1\" class=\"dataframe\">\n",
       "  <thead>\n",
       "    <tr style=\"text-align: right;\">\n",
       "      <th></th>\n",
       "      <th>PNEUMONIA</th>\n",
       "      <th>PREGNANT</th>\n",
       "      <th>DIABETES</th>\n",
       "      <th>COPD</th>\n",
       "      <th>ASTHMA</th>\n",
       "      <th>INMSUPR</th>\n",
       "      <th>HIPERTENSION</th>\n",
       "      <th>CARDIOVASCULAR</th>\n",
       "      <th>RENAL_CHRONIC</th>\n",
       "      <th>OTHER_DISEASE</th>\n",
       "      <th>OBESITY</th>\n",
       "      <th>TOBACCO</th>\n",
       "      <th>INTUBED</th>\n",
       "      <th>ICU</th>\n",
       "    </tr>\n",
       "  </thead>\n",
       "  <tbody>\n",
       "    <tr>\n",
       "      <th>0</th>\n",
       "      <td>1</td>\n",
       "      <td>2</td>\n",
       "      <td>2</td>\n",
       "      <td>2</td>\n",
       "      <td>2</td>\n",
       "      <td>2</td>\n",
       "      <td>1</td>\n",
       "      <td>2</td>\n",
       "      <td>2</td>\n",
       "      <td>2</td>\n",
       "      <td>2</td>\n",
       "      <td>2</td>\n",
       "      <td>97</td>\n",
       "      <td>97</td>\n",
       "    </tr>\n",
       "    <tr>\n",
       "      <th>1</th>\n",
       "      <td>1</td>\n",
       "      <td>97</td>\n",
       "      <td>2</td>\n",
       "      <td>2</td>\n",
       "      <td>2</td>\n",
       "      <td>2</td>\n",
       "      <td>1</td>\n",
       "      <td>2</td>\n",
       "      <td>1</td>\n",
       "      <td>2</td>\n",
       "      <td>1</td>\n",
       "      <td>2</td>\n",
       "      <td>97</td>\n",
       "      <td>97</td>\n",
       "    </tr>\n",
       "    <tr>\n",
       "      <th>2</th>\n",
       "      <td>2</td>\n",
       "      <td>97</td>\n",
       "      <td>1</td>\n",
       "      <td>2</td>\n",
       "      <td>2</td>\n",
       "      <td>2</td>\n",
       "      <td>2</td>\n",
       "      <td>2</td>\n",
       "      <td>2</td>\n",
       "      <td>2</td>\n",
       "      <td>2</td>\n",
       "      <td>2</td>\n",
       "      <td>1</td>\n",
       "      <td>2</td>\n",
       "    </tr>\n",
       "    <tr>\n",
       "      <th>3</th>\n",
       "      <td>2</td>\n",
       "      <td>2</td>\n",
       "      <td>2</td>\n",
       "      <td>2</td>\n",
       "      <td>2</td>\n",
       "      <td>2</td>\n",
       "      <td>2</td>\n",
       "      <td>2</td>\n",
       "      <td>2</td>\n",
       "      <td>2</td>\n",
       "      <td>2</td>\n",
       "      <td>2</td>\n",
       "      <td>97</td>\n",
       "      <td>97</td>\n",
       "    </tr>\n",
       "    <tr>\n",
       "      <th>4</th>\n",
       "      <td>2</td>\n",
       "      <td>97</td>\n",
       "      <td>1</td>\n",
       "      <td>2</td>\n",
       "      <td>2</td>\n",
       "      <td>2</td>\n",
       "      <td>1</td>\n",
       "      <td>2</td>\n",
       "      <td>2</td>\n",
       "      <td>2</td>\n",
       "      <td>2</td>\n",
       "      <td>2</td>\n",
       "      <td>97</td>\n",
       "      <td>97</td>\n",
       "    </tr>\n",
       "  </tbody>\n",
       "</table>\n",
       "</div>"
      ],
      "text/plain": [
       "   PNEUMONIA  PREGNANT  DIABETES  COPD  ASTHMA  INMSUPR  HIPERTENSION  \\\n",
       "0          1         2         2     2       2        2             1   \n",
       "1          1        97         2     2       2        2             1   \n",
       "2          2        97         1     2       2        2             2   \n",
       "3          2         2         2     2       2        2             2   \n",
       "4          2        97         1     2       2        2             1   \n",
       "\n",
       "   CARDIOVASCULAR  RENAL_CHRONIC  OTHER_DISEASE  OBESITY  TOBACCO  INTUBED  \\\n",
       "0               2              2              2        2        2       97   \n",
       "1               2              1              2        1        2       97   \n",
       "2               2              2              2        2        2        1   \n",
       "3               2              2              2        2        2       97   \n",
       "4               2              2              2        2        2       97   \n",
       "\n",
       "   ICU  \n",
       "0   97  \n",
       "1   97  \n",
       "2    2  \n",
       "3   97  \n",
       "4   97  "
      ]
     },
     "execution_count": 370,
     "metadata": {},
     "output_type": "execute_result"
    }
   ],
   "source": [
    "data1[boolean_features].head()"
   ]
  },
  {
   "cell_type": "markdown",
   "id": "87677af5",
   "metadata": {},
   "source": [
    "#### Criar colunas de booleanos indicando se há ou não os valores de variáveis que possuem valores faltantes (casos em que há valores diferentes de 1 ou 2)"
   ]
  },
  {
   "cell_type": "code",
   "execution_count": 371,
   "id": "692ff384",
   "metadata": {
    "scrolled": true
   },
   "outputs": [
    {
     "name": "stdout",
     "output_type": "stream",
     "text": [
      "2    662903\n",
      "1    385672\n",
      "Name: USMER, dtype: int64\n",
      "1    525064\n",
      "2    523511\n",
      "Name: SEX, dtype: int64\n",
      "2.0    971633\n",
      "1.0     76942\n",
      "Name: DIED, dtype: int64\n",
      "30     27010\n",
      "31     25927\n",
      "28     25313\n",
      "29     25134\n",
      "34     24872\n",
      "       ...  \n",
      "114        2\n",
      "116        2\n",
      "111        1\n",
      "121        1\n",
      "113        1\n",
      "Name: AGE, Length: 121, dtype: int64\n",
      "7    499250\n",
      "3    381527\n",
      "6    128133\n",
      "5     26091\n",
      "1      8601\n",
      "4      3122\n",
      "2      1851\n",
      "Name: CLASSIFICATION_FINAL, dtype: int64\n",
      "12    602995\n",
      "4     314405\n",
      "6      40584\n",
      "9      38116\n",
      "3      19175\n",
      "8      10399\n",
      "10      7873\n",
      "5       7244\n",
      "11      5577\n",
      "13       996\n",
      "7        891\n",
      "2        169\n",
      "1        151\n",
      "Name: MEDICAL_UNIT, dtype: int64\n",
      "1    848544\n",
      "2    200031\n",
      "Name: PATIENT_TYPE, dtype: int64\n"
     ]
    }
   ],
   "source": [
    "for feature in not_boolean_features:\n",
    "    print(data1[feature].value_counts())"
   ]
  },
  {
   "cell_type": "markdown",
   "id": "d8a64a01",
   "metadata": {},
   "source": [
    "Com o resultado acima, vemos que somente as features booleanas possuem a característica de que valores entre 97 e 99 indicam valores faltantes. Assim, podemos realizar o processo de Imputation + criação de coluna booleana somente nas features booleanas. E de fato, é o que faz sentido: as características do paciente elencadas nas variáveis não booleanas deverão ser adquiridas na maioria das vezes, pois são de mais fácil conhecimento.\n",
    "\n",
    "Logo, vamos fazer:"
   ]
  },
  {
   "cell_type": "code",
   "execution_count": 372,
   "id": "5eb78d1b",
   "metadata": {},
   "outputs": [],
   "source": [
    "def one_hot_encoding(data, boolean_features):\n",
    "    new_data = data.copy()\n",
    "    for feature in boolean_features:\n",
    "        new_data.loc[new_data[feature] < 3, f'is_{feature}_defined'] = 1\n",
    "        new_data.loc[new_data[feature] >= 3, f'is_{feature}_defined'] = 2\n",
    "    return new_data"
   ]
  },
  {
   "cell_type": "code",
   "execution_count": 373,
   "id": "d2ed425f",
   "metadata": {},
   "outputs": [],
   "source": [
    "X_train = one_hot_encoding(X_train, boolean_features)\n",
    "X_test = one_hot_encoding(X_test, boolean_features)"
   ]
  },
  {
   "cell_type": "code",
   "execution_count": 374,
   "id": "d81a2f22",
   "metadata": {},
   "outputs": [
    {
     "data": {
      "text/plain": [
       "Index(['HIPERTENSION', 'USMER', 'SEX', 'TOBACCO', 'PNEUMONIA', 'INTUBED',\n",
       "       'MEDICAL_UNIT', 'CLASSIFICATION_FINAL', 'PATIENT_TYPE', 'AGE',\n",
       "       'OTHER_DISEASE', 'INMSUPR', 'CARDIOVASCULAR', 'DIABETES', 'ICU',\n",
       "       'PREGNANT', 'COPD', 'RENAL_CHRONIC', 'ASTHMA', 'OBESITY',\n",
       "       'is_PNEUMONIA_defined', 'is_PREGNANT_defined', 'is_DIABETES_defined',\n",
       "       'is_COPD_defined', 'is_ASTHMA_defined', 'is_INMSUPR_defined',\n",
       "       'is_HIPERTENSION_defined', 'is_CARDIOVASCULAR_defined',\n",
       "       'is_RENAL_CHRONIC_defined', 'is_OTHER_DISEASE_defined',\n",
       "       'is_OBESITY_defined', 'is_TOBACCO_defined', 'is_INTUBED_defined',\n",
       "       'is_ICU_defined'],\n",
       "      dtype='object')"
      ]
     },
     "execution_count": 374,
     "metadata": {},
     "output_type": "execute_result"
    }
   ],
   "source": [
    "X_train.columns"
   ]
  },
  {
   "cell_type": "markdown",
   "id": "a91fcd20",
   "metadata": {},
   "source": [
    "#### Para todas as linhas em que 'SEX' for 2 (homem), trocar 'PREGNANT' por 0"
   ]
  },
  {
   "cell_type": "code",
   "execution_count": 375,
   "id": "a1c5a6fa",
   "metadata": {
    "scrolled": true
   },
   "outputs": [
    {
     "data": {
      "text/plain": [
       "97    523511\n",
       "2     513179\n",
       "1       8131\n",
       "98      3754\n",
       "Name: PREGNANT, dtype: int64"
      ]
     },
     "execution_count": 375,
     "metadata": {},
     "output_type": "execute_result"
    }
   ],
   "source": [
    "data1['PREGNANT'].value_counts()"
   ]
  },
  {
   "cell_type": "code",
   "execution_count": 376,
   "id": "88af423e",
   "metadata": {
    "scrolled": false
   },
   "outputs": [
    {
     "data": {
      "text/plain": [
       "1    525064\n",
       "2    523511\n",
       "Name: SEX, dtype: int64"
      ]
     },
     "execution_count": 376,
     "metadata": {},
     "output_type": "execute_result"
    }
   ],
   "source": [
    "data1['SEX'].value_counts()"
   ]
  },
  {
   "cell_type": "markdown",
   "id": "6d9e2968",
   "metadata": {},
   "source": [
    "Note então que 97 indica 'PREGNANT' indefinido, que é o caso dos homens. Enquanto isso, 98 indica que não temos essa informação para as mulheres."
   ]
  },
  {
   "cell_type": "code",
   "execution_count": 377,
   "id": "91c94936",
   "metadata": {},
   "outputs": [],
   "source": [
    "def correct_pregnant_for_men(data):\n",
    "    new_data = data.copy()\n",
    "    new_data.loc[new_data['SEX'] == 2, 'PREGNANT'] = 0\n",
    "    return new_data"
   ]
  },
  {
   "cell_type": "code",
   "execution_count": 378,
   "id": "06175cb4",
   "metadata": {},
   "outputs": [],
   "source": [
    "X_train = correct_pregnant_for_men(X_train)\n",
    "X_test = correct_pregnant_for_men(X_test)"
   ]
  },
  {
   "cell_type": "code",
   "execution_count": 379,
   "id": "21af5a76",
   "metadata": {},
   "outputs": [
    {
     "data": {
      "text/plain": [
       "0     418432\n",
       "2     410965\n",
       "1       6468\n",
       "98      2995\n",
       "Name: PREGNANT, dtype: int64"
      ]
     },
     "execution_count": 379,
     "metadata": {},
     "output_type": "execute_result"
    }
   ],
   "source": [
    "X_train['PREGNANT'].value_counts()"
   ]
  },
  {
   "cell_type": "markdown",
   "id": "3fd16e0f",
   "metadata": {},
   "source": [
    "#### Trocar os valores 'mágicos' das colunas de booleanos para o valor mais comum na coluna."
   ]
  },
  {
   "cell_type": "code",
   "execution_count": 380,
   "id": "4ddd9e0e",
   "metadata": {
    "scrolled": false
   },
   "outputs": [
    {
     "data": {
      "text/html": [
       "<div>\n",
       "<style scoped>\n",
       "    .dataframe tbody tr th:only-of-type {\n",
       "        vertical-align: middle;\n",
       "    }\n",
       "\n",
       "    .dataframe tbody tr th {\n",
       "        vertical-align: top;\n",
       "    }\n",
       "\n",
       "    .dataframe thead th {\n",
       "        text-align: right;\n",
       "    }\n",
       "</style>\n",
       "<table border=\"1\" class=\"dataframe\">\n",
       "  <thead>\n",
       "    <tr style=\"text-align: right;\">\n",
       "      <th></th>\n",
       "      <th>PNEUMONIA</th>\n",
       "      <th>PREGNANT</th>\n",
       "      <th>DIABETES</th>\n",
       "      <th>COPD</th>\n",
       "      <th>ASTHMA</th>\n",
       "      <th>INMSUPR</th>\n",
       "      <th>HIPERTENSION</th>\n",
       "      <th>CARDIOVASCULAR</th>\n",
       "      <th>RENAL_CHRONIC</th>\n",
       "      <th>OTHER_DISEASE</th>\n",
       "      <th>OBESITY</th>\n",
       "      <th>TOBACCO</th>\n",
       "      <th>INTUBED</th>\n",
       "      <th>ICU</th>\n",
       "    </tr>\n",
       "  </thead>\n",
       "  <tbody>\n",
       "    <tr>\n",
       "      <th>0</th>\n",
       "      <td>2</td>\n",
       "      <td>97</td>\n",
       "      <td>2</td>\n",
       "      <td>2</td>\n",
       "      <td>2</td>\n",
       "      <td>2</td>\n",
       "      <td>2</td>\n",
       "      <td>2</td>\n",
       "      <td>2</td>\n",
       "      <td>2</td>\n",
       "      <td>2</td>\n",
       "      <td>2</td>\n",
       "      <td>97</td>\n",
       "      <td>97</td>\n",
       "    </tr>\n",
       "  </tbody>\n",
       "</table>\n",
       "</div>"
      ],
      "text/plain": [
       "   PNEUMONIA  PREGNANT  DIABETES  COPD  ASTHMA  INMSUPR  HIPERTENSION  \\\n",
       "0          2        97         2     2       2        2             2   \n",
       "\n",
       "   CARDIOVASCULAR  RENAL_CHRONIC  OTHER_DISEASE  OBESITY  TOBACCO  INTUBED  \\\n",
       "0               2              2              2        2        2       97   \n",
       "\n",
       "   ICU  \n",
       "0   97  "
      ]
     },
     "execution_count": 380,
     "metadata": {},
     "output_type": "execute_result"
    }
   ],
   "source": [
    "# Valor mais comum de cada coluna\n",
    "data1[boolean_features].mode()"
   ]
  },
  {
   "cell_type": "code",
   "execution_count": 381,
   "id": "cf27459c",
   "metadata": {
    "scrolled": true
   },
   "outputs": [
    {
     "data": {
      "text/plain": [
       "2"
      ]
     },
     "execution_count": 381,
     "metadata": {},
     "output_type": "execute_result"
    }
   ],
   "source": [
    "# Valor mais comum da colona PNEUMONIA\n",
    "data1['PNEUMONIA'].mode()[0]"
   ]
  },
  {
   "cell_type": "code",
   "execution_count": 382,
   "id": "04a965b7",
   "metadata": {},
   "outputs": [
    {
     "name": "stdout",
     "output_type": "stream",
     "text": [
      "2     892534\n",
      "1     140038\n",
      "99     16003\n",
      "Name: PNEUMONIA, dtype: int64\n",
      "97    523511\n",
      "2     513179\n",
      "1       8131\n",
      "98      3754\n",
      "Name: PREGNANT, dtype: int64\n",
      "2     920248\n",
      "1     124989\n",
      "98      3338\n",
      "Name: DIABETES, dtype: int64\n",
      "2     1030510\n",
      "1       15062\n",
      "98       3003\n",
      "Name: COPD, dtype: int64\n",
      "2     1014024\n",
      "1       31572\n",
      "98       2979\n",
      "Name: ASTHMA, dtype: int64\n",
      "2     1031001\n",
      "1       14170\n",
      "98       3404\n",
      "Name: INMSUPR, dtype: int64\n",
      "2     882742\n",
      "1     162729\n",
      "98      3104\n",
      "Name: HIPERTENSION, dtype: int64\n",
      "2     1024730\n",
      "1       20769\n",
      "98       3076\n",
      "Name: CARDIOVASCULAR, dtype: int64\n",
      "2     1026665\n",
      "1       18904\n",
      "98       3006\n",
      "Name: RENAL_CHRONIC, dtype: int64\n",
      "2     1015490\n",
      "1       28040\n",
      "98       5045\n",
      "Name: OTHER_DISEASE, dtype: int64\n",
      "2     885727\n",
      "1     159816\n",
      "98      3032\n",
      "Name: OBESITY, dtype: int64\n",
      "2     960979\n",
      "1      84376\n",
      "98      3220\n",
      "Name: TOBACCO, dtype: int64\n",
      "97    848544\n",
      "2     159050\n",
      "1      33656\n",
      "99      7325\n",
      "Name: INTUBED, dtype: int64\n",
      "97    848544\n",
      "2     175685\n",
      "1      16858\n",
      "99      7488\n",
      "Name: ICU, dtype: int64\n"
     ]
    }
   ],
   "source": [
    "for feature in boolean_features:\n",
    "    print(data1[feature].value_counts())"
   ]
  },
  {
   "cell_type": "code",
   "execution_count": 383,
   "id": "fbacaf9b",
   "metadata": {
    "scrolled": true
   },
   "outputs": [
    {
     "data": {
      "text/plain": [
       "97    848544\n",
       "2     159050\n",
       "1      33656\n",
       "99      7325\n",
       "Name: INTUBED, dtype: int64"
      ]
     },
     "execution_count": 383,
     "metadata": {},
     "output_type": "execute_result"
    }
   ],
   "source": [
    "data1['INTUBED'].value_counts()"
   ]
  },
  {
   "cell_type": "code",
   "execution_count": 384,
   "id": "f5f7433c",
   "metadata": {
    "scrolled": true
   },
   "outputs": [
    {
     "data": {
      "text/plain": [
       "97    848544\n",
       "2     175685\n",
       "1      16858\n",
       "99      7488\n",
       "Name: ICU, dtype: int64"
      ]
     },
     "execution_count": 384,
     "metadata": {},
     "output_type": "execute_result"
    }
   ],
   "source": [
    "data1['ICU'].value_counts()"
   ]
  },
  {
   "cell_type": "markdown",
   "id": "e874cd7b",
   "metadata": {},
   "source": [
    "Somente nas colunas 'INTUBED' e 'ICU', os valores desconhecidos preponderam sobre os conhecidos. Nesse sentido, vamos substituir os valores desconhecidos em todas as outras colunas pela moda, mas, nessas duas, vamos criar um novo valor para definir essa situação de valor desconhecido - no caso - o valor 3.\n",
    "\n",
    "Nas outras colunas, trocamos os valores pela moda porque os valores desconhecidos são poucos em relação aos conhecidos. Assim, a correção da influência desses valores no modelo se dará pelas variáveis booleanas que criamos anteriormente, as quais indicam se o valor é conhecido ou não."
   ]
  },
  {
   "cell_type": "code",
   "execution_count": 385,
   "id": "3f7c775b",
   "metadata": {},
   "outputs": [],
   "source": [
    "def mode_imputing(data, boolean_features):\n",
    "    new_data = data.copy()\n",
    "    for feature in boolean_features:\n",
    "        most_common = new_data[feature].mode()[0]\n",
    "        new_data.loc[new_data[feature] >= 3, feature] = most_common\n",
    "    return new_data"
   ]
  },
  {
   "cell_type": "code",
   "execution_count": 386,
   "id": "eae411f9",
   "metadata": {},
   "outputs": [],
   "source": [
    "X_train = mode_imputing(X_train, boolean_features)\n",
    "X_test = mode_imputing(X_test, boolean_features)"
   ]
  },
  {
   "cell_type": "code",
   "execution_count": 387,
   "id": "58b50043",
   "metadata": {},
   "outputs": [
    {
     "data": {
      "text/html": [
       "<div>\n",
       "<style scoped>\n",
       "    .dataframe tbody tr th:only-of-type {\n",
       "        vertical-align: middle;\n",
       "    }\n",
       "\n",
       "    .dataframe tbody tr th {\n",
       "        vertical-align: top;\n",
       "    }\n",
       "\n",
       "    .dataframe thead th {\n",
       "        text-align: right;\n",
       "    }\n",
       "</style>\n",
       "<table border=\"1\" class=\"dataframe\">\n",
       "  <thead>\n",
       "    <tr style=\"text-align: right;\">\n",
       "      <th></th>\n",
       "      <th>PNEUMONIA</th>\n",
       "      <th>PREGNANT</th>\n",
       "      <th>DIABETES</th>\n",
       "      <th>COPD</th>\n",
       "      <th>ASTHMA</th>\n",
       "      <th>INMSUPR</th>\n",
       "      <th>HIPERTENSION</th>\n",
       "      <th>CARDIOVASCULAR</th>\n",
       "      <th>RENAL_CHRONIC</th>\n",
       "      <th>OTHER_DISEASE</th>\n",
       "      <th>OBESITY</th>\n",
       "      <th>TOBACCO</th>\n",
       "      <th>INTUBED</th>\n",
       "      <th>ICU</th>\n",
       "    </tr>\n",
       "  </thead>\n",
       "  <tbody>\n",
       "    <tr>\n",
       "      <th>592908</th>\n",
       "      <td>2</td>\n",
       "      <td>0</td>\n",
       "      <td>1</td>\n",
       "      <td>2</td>\n",
       "      <td>2</td>\n",
       "      <td>2</td>\n",
       "      <td>2</td>\n",
       "      <td>2</td>\n",
       "      <td>2</td>\n",
       "      <td>2</td>\n",
       "      <td>1</td>\n",
       "      <td>2</td>\n",
       "      <td>97</td>\n",
       "      <td>97</td>\n",
       "    </tr>\n",
       "    <tr>\n",
       "      <th>184386</th>\n",
       "      <td>2</td>\n",
       "      <td>0</td>\n",
       "      <td>2</td>\n",
       "      <td>2</td>\n",
       "      <td>2</td>\n",
       "      <td>2</td>\n",
       "      <td>1</td>\n",
       "      <td>2</td>\n",
       "      <td>2</td>\n",
       "      <td>2</td>\n",
       "      <td>2</td>\n",
       "      <td>2</td>\n",
       "      <td>97</td>\n",
       "      <td>97</td>\n",
       "    </tr>\n",
       "    <tr>\n",
       "      <th>1021782</th>\n",
       "      <td>2</td>\n",
       "      <td>0</td>\n",
       "      <td>2</td>\n",
       "      <td>2</td>\n",
       "      <td>2</td>\n",
       "      <td>2</td>\n",
       "      <td>2</td>\n",
       "      <td>2</td>\n",
       "      <td>2</td>\n",
       "      <td>2</td>\n",
       "      <td>2</td>\n",
       "      <td>2</td>\n",
       "      <td>97</td>\n",
       "      <td>97</td>\n",
       "    </tr>\n",
       "    <tr>\n",
       "      <th>59606</th>\n",
       "      <td>2</td>\n",
       "      <td>2</td>\n",
       "      <td>2</td>\n",
       "      <td>2</td>\n",
       "      <td>2</td>\n",
       "      <td>2</td>\n",
       "      <td>2</td>\n",
       "      <td>2</td>\n",
       "      <td>2</td>\n",
       "      <td>2</td>\n",
       "      <td>1</td>\n",
       "      <td>1</td>\n",
       "      <td>97</td>\n",
       "      <td>97</td>\n",
       "    </tr>\n",
       "    <tr>\n",
       "      <th>93792</th>\n",
       "      <td>2</td>\n",
       "      <td>2</td>\n",
       "      <td>1</td>\n",
       "      <td>2</td>\n",
       "      <td>2</td>\n",
       "      <td>2</td>\n",
       "      <td>2</td>\n",
       "      <td>2</td>\n",
       "      <td>2</td>\n",
       "      <td>2</td>\n",
       "      <td>2</td>\n",
       "      <td>2</td>\n",
       "      <td>2</td>\n",
       "      <td>2</td>\n",
       "    </tr>\n",
       "  </tbody>\n",
       "</table>\n",
       "</div>"
      ],
      "text/plain": [
       "         PNEUMONIA  PREGNANT  DIABETES  COPD  ASTHMA  INMSUPR  HIPERTENSION  \\\n",
       "592908           2         0         1     2       2        2             2   \n",
       "184386           2         0         2     2       2        2             1   \n",
       "1021782          2         0         2     2       2        2             2   \n",
       "59606            2         2         2     2       2        2             2   \n",
       "93792            2         2         1     2       2        2             2   \n",
       "\n",
       "         CARDIOVASCULAR  RENAL_CHRONIC  OTHER_DISEASE  OBESITY  TOBACCO  \\\n",
       "592908                2              2              2        1        2   \n",
       "184386                2              2              2        2        2   \n",
       "1021782               2              2              2        2        2   \n",
       "59606                 2              2              2        1        1   \n",
       "93792                 2              2              2        2        2   \n",
       "\n",
       "         INTUBED  ICU  \n",
       "592908        97   97  \n",
       "184386        97   97  \n",
       "1021782       97   97  \n",
       "59606         97   97  \n",
       "93792          2    2  "
      ]
     },
     "execution_count": 387,
     "metadata": {},
     "output_type": "execute_result"
    }
   ],
   "source": [
    "X_train[boolean_features].head()"
   ]
  },
  {
   "cell_type": "markdown",
   "id": "dc63cd74",
   "metadata": {},
   "source": [
    "#### Agora para 'INTUBED' e 'ICU':"
   ]
  },
  {
   "cell_type": "code",
   "execution_count": 388,
   "id": "53301313",
   "metadata": {},
   "outputs": [],
   "source": [
    "def intubed_and_icu_imputing(data):\n",
    "    new_data = data.copy()\n",
    "    more_nan_features = ['INTUBED', 'ICU']\n",
    "    for feature in more_nan_features:\n",
    "        new_data.loc[new_data[feature] >= 3, feature] = 3\n",
    "    return new_data"
   ]
  },
  {
   "cell_type": "code",
   "execution_count": 389,
   "id": "01d1eac6",
   "metadata": {},
   "outputs": [],
   "source": [
    "X_train = intubed_and_icu_imputing(X_train)\n",
    "X_test = intubed_and_icu_imputing(X_test)"
   ]
  },
  {
   "cell_type": "code",
   "execution_count": 390,
   "id": "a8caccae",
   "metadata": {},
   "outputs": [
    {
     "data": {
      "text/html": [
       "<div>\n",
       "<style scoped>\n",
       "    .dataframe tbody tr th:only-of-type {\n",
       "        vertical-align: middle;\n",
       "    }\n",
       "\n",
       "    .dataframe tbody tr th {\n",
       "        vertical-align: top;\n",
       "    }\n",
       "\n",
       "    .dataframe thead th {\n",
       "        text-align: right;\n",
       "    }\n",
       "</style>\n",
       "<table border=\"1\" class=\"dataframe\">\n",
       "  <thead>\n",
       "    <tr style=\"text-align: right;\">\n",
       "      <th></th>\n",
       "      <th>HIPERTENSION</th>\n",
       "      <th>USMER</th>\n",
       "      <th>SEX</th>\n",
       "      <th>TOBACCO</th>\n",
       "      <th>PNEUMONIA</th>\n",
       "      <th>INTUBED</th>\n",
       "      <th>MEDICAL_UNIT</th>\n",
       "      <th>CLASSIFICATION_FINAL</th>\n",
       "      <th>PATIENT_TYPE</th>\n",
       "      <th>AGE</th>\n",
       "      <th>...</th>\n",
       "      <th>is_ASTHMA_defined</th>\n",
       "      <th>is_INMSUPR_defined</th>\n",
       "      <th>is_HIPERTENSION_defined</th>\n",
       "      <th>is_CARDIOVASCULAR_defined</th>\n",
       "      <th>is_RENAL_CHRONIC_defined</th>\n",
       "      <th>is_OTHER_DISEASE_defined</th>\n",
       "      <th>is_OBESITY_defined</th>\n",
       "      <th>is_TOBACCO_defined</th>\n",
       "      <th>is_INTUBED_defined</th>\n",
       "      <th>is_ICU_defined</th>\n",
       "    </tr>\n",
       "  </thead>\n",
       "  <tbody>\n",
       "    <tr>\n",
       "      <th>592908</th>\n",
       "      <td>2</td>\n",
       "      <td>1</td>\n",
       "      <td>2</td>\n",
       "      <td>2</td>\n",
       "      <td>2</td>\n",
       "      <td>3</td>\n",
       "      <td>12</td>\n",
       "      <td>3</td>\n",
       "      <td>1</td>\n",
       "      <td>29</td>\n",
       "      <td>...</td>\n",
       "      <td>1.0</td>\n",
       "      <td>1.0</td>\n",
       "      <td>1.0</td>\n",
       "      <td>1.0</td>\n",
       "      <td>1.0</td>\n",
       "      <td>1.0</td>\n",
       "      <td>1.0</td>\n",
       "      <td>1.0</td>\n",
       "      <td>2.0</td>\n",
       "      <td>2.0</td>\n",
       "    </tr>\n",
       "    <tr>\n",
       "      <th>184386</th>\n",
       "      <td>1</td>\n",
       "      <td>2</td>\n",
       "      <td>2</td>\n",
       "      <td>2</td>\n",
       "      <td>2</td>\n",
       "      <td>3</td>\n",
       "      <td>4</td>\n",
       "      <td>6</td>\n",
       "      <td>1</td>\n",
       "      <td>27</td>\n",
       "      <td>...</td>\n",
       "      <td>1.0</td>\n",
       "      <td>1.0</td>\n",
       "      <td>1.0</td>\n",
       "      <td>1.0</td>\n",
       "      <td>1.0</td>\n",
       "      <td>1.0</td>\n",
       "      <td>1.0</td>\n",
       "      <td>1.0</td>\n",
       "      <td>2.0</td>\n",
       "      <td>2.0</td>\n",
       "    </tr>\n",
       "    <tr>\n",
       "      <th>1021782</th>\n",
       "      <td>2</td>\n",
       "      <td>2</td>\n",
       "      <td>2</td>\n",
       "      <td>2</td>\n",
       "      <td>2</td>\n",
       "      <td>3</td>\n",
       "      <td>12</td>\n",
       "      <td>7</td>\n",
       "      <td>1</td>\n",
       "      <td>25</td>\n",
       "      <td>...</td>\n",
       "      <td>1.0</td>\n",
       "      <td>1.0</td>\n",
       "      <td>1.0</td>\n",
       "      <td>1.0</td>\n",
       "      <td>1.0</td>\n",
       "      <td>1.0</td>\n",
       "      <td>1.0</td>\n",
       "      <td>1.0</td>\n",
       "      <td>2.0</td>\n",
       "      <td>2.0</td>\n",
       "    </tr>\n",
       "    <tr>\n",
       "      <th>59606</th>\n",
       "      <td>2</td>\n",
       "      <td>1</td>\n",
       "      <td>1</td>\n",
       "      <td>1</td>\n",
       "      <td>2</td>\n",
       "      <td>3</td>\n",
       "      <td>4</td>\n",
       "      <td>3</td>\n",
       "      <td>1</td>\n",
       "      <td>26</td>\n",
       "      <td>...</td>\n",
       "      <td>1.0</td>\n",
       "      <td>1.0</td>\n",
       "      <td>1.0</td>\n",
       "      <td>1.0</td>\n",
       "      <td>1.0</td>\n",
       "      <td>1.0</td>\n",
       "      <td>1.0</td>\n",
       "      <td>1.0</td>\n",
       "      <td>2.0</td>\n",
       "      <td>2.0</td>\n",
       "    </tr>\n",
       "    <tr>\n",
       "      <th>93792</th>\n",
       "      <td>2</td>\n",
       "      <td>1</td>\n",
       "      <td>1</td>\n",
       "      <td>2</td>\n",
       "      <td>2</td>\n",
       "      <td>2</td>\n",
       "      <td>4</td>\n",
       "      <td>3</td>\n",
       "      <td>2</td>\n",
       "      <td>46</td>\n",
       "      <td>...</td>\n",
       "      <td>1.0</td>\n",
       "      <td>1.0</td>\n",
       "      <td>1.0</td>\n",
       "      <td>1.0</td>\n",
       "      <td>1.0</td>\n",
       "      <td>1.0</td>\n",
       "      <td>1.0</td>\n",
       "      <td>1.0</td>\n",
       "      <td>1.0</td>\n",
       "      <td>1.0</td>\n",
       "    </tr>\n",
       "  </tbody>\n",
       "</table>\n",
       "<p>5 rows × 34 columns</p>\n",
       "</div>"
      ],
      "text/plain": [
       "         HIPERTENSION  USMER  SEX  TOBACCO  PNEUMONIA  INTUBED  MEDICAL_UNIT  \\\n",
       "592908              2      1    2        2          2        3            12   \n",
       "184386              1      2    2        2          2        3             4   \n",
       "1021782             2      2    2        2          2        3            12   \n",
       "59606               2      1    1        1          2        3             4   \n",
       "93792               2      1    1        2          2        2             4   \n",
       "\n",
       "         CLASSIFICATION_FINAL  PATIENT_TYPE  AGE  ...  is_ASTHMA_defined  \\\n",
       "592908                      3             1   29  ...                1.0   \n",
       "184386                      6             1   27  ...                1.0   \n",
       "1021782                     7             1   25  ...                1.0   \n",
       "59606                       3             1   26  ...                1.0   \n",
       "93792                       3             2   46  ...                1.0   \n",
       "\n",
       "         is_INMSUPR_defined  is_HIPERTENSION_defined  \\\n",
       "592908                  1.0                      1.0   \n",
       "184386                  1.0                      1.0   \n",
       "1021782                 1.0                      1.0   \n",
       "59606                   1.0                      1.0   \n",
       "93792                   1.0                      1.0   \n",
       "\n",
       "         is_CARDIOVASCULAR_defined  is_RENAL_CHRONIC_defined  \\\n",
       "592908                         1.0                       1.0   \n",
       "184386                         1.0                       1.0   \n",
       "1021782                        1.0                       1.0   \n",
       "59606                          1.0                       1.0   \n",
       "93792                          1.0                       1.0   \n",
       "\n",
       "         is_OTHER_DISEASE_defined  is_OBESITY_defined  is_TOBACCO_defined  \\\n",
       "592908                        1.0                 1.0                 1.0   \n",
       "184386                        1.0                 1.0                 1.0   \n",
       "1021782                       1.0                 1.0                 1.0   \n",
       "59606                         1.0                 1.0                 1.0   \n",
       "93792                         1.0                 1.0                 1.0   \n",
       "\n",
       "         is_INTUBED_defined  is_ICU_defined  \n",
       "592908                  2.0             2.0  \n",
       "184386                  2.0             2.0  \n",
       "1021782                 2.0             2.0  \n",
       "59606                   2.0             2.0  \n",
       "93792                   1.0             1.0  \n",
       "\n",
       "[5 rows x 34 columns]"
      ]
     },
     "execution_count": 390,
     "metadata": {},
     "output_type": "execute_result"
    }
   ],
   "source": [
    "X_train.head()"
   ]
  },
  {
   "cell_type": "markdown",
   "id": "5dc79c22",
   "metadata": {},
   "source": [
    "#### Tratamento da feature  'CLASSIFICATION_FINAL'"
   ]
  },
  {
   "cell_type": "code",
   "execution_count": 391,
   "id": "6aaaec4b",
   "metadata": {},
   "outputs": [
    {
     "data": {
      "text/plain": [
       "7    499250\n",
       "3    381527\n",
       "6    128133\n",
       "5     26091\n",
       "1      8601\n",
       "4      3122\n",
       "2      1851\n",
       "Name: CLASSIFICATION_FINAL, dtype: int64"
      ]
     },
     "execution_count": 391,
     "metadata": {},
     "output_type": "execute_result"
    }
   ],
   "source": [
    "data1['CLASSIFICATION_FINAL'].value_counts()"
   ]
  },
  {
   "cell_type": "markdown",
   "id": "765a9f46",
   "metadata": {},
   "source": [
    "Segundo a página do Kaggle: 'Values 1-3 mean that the patient was diagnosed with covid in different\n",
    "degrees. 4 or higher means that the patient is not a carrier of covid or that the test is inconclusive'. Como não sabemos qual valor maior que 4 representa qual situação, isso atrapalhará nas conclusões do modelo, caso modifiquemos diretamente os valores, já que o paciente ter o teste inconclusivo é diferente de ser de fato não portador de covid. No entanto, sabemos que um paciente com CLASSIFICATION_FINAL = 3 possui um grau elevado da doença, influenciando na sua probabilidade de óbito. Então, devemos separar o grau da doença da classificação final que foi dada ao paciente.\n",
    "\n",
    "Criaremos a coluna 'covid_degree'. Nela, para as pessoas efetivamente doentes, que consideraremos aquelas com valores de 1 a 3 em 'CLASSIFICATION_FINAL', os valores irão variar de 1 a 3, e para as outras o valor será 0 (consideramos então que todas as pessoas com testes inconclusivos estão saudáveis). Notemos da análise de mortes dessas pessoas, mostrada a seguir, que, de fato, a maior quantidade de pessoas com testes inconclusivos ou negativos para a doença não morreram, então não é um erro muito grande considerar os testes inconclusivos como testes negativos. "
   ]
  },
  {
   "cell_type": "code",
   "execution_count": 392,
   "id": "0b8ad435",
   "metadata": {
    "scrolled": true
   },
   "outputs": [
    {
     "data": {
      "text/plain": [
       "2.0    633890\n",
       "1.0     22706\n",
       "Name: DIED, dtype: int64"
      ]
     },
     "execution_count": 392,
     "metadata": {},
     "output_type": "execute_result"
    }
   ],
   "source": [
    "data1[data1['CLASSIFICATION_FINAL'] >= 4]['DIED'].value_counts()"
   ]
  },
  {
   "cell_type": "code",
   "execution_count": 393,
   "id": "bffe63ef",
   "metadata": {},
   "outputs": [],
   "source": [
    "def covid_degree(data):\n",
    "    new_data = data.copy()\n",
    "    new_data.loc[new_data['CLASSIFICATION_FINAL'] >= 4, 'covid_degree'] = 0\n",
    "    new_data.loc[new_data['CLASSIFICATION_FINAL'] < 4, 'covid_degree'] = new_data['CLASSIFICATION_FINAL']\n",
    "    new_data.drop('CLASSIFICATION_FINAL', axis = 1, inplace = True)\n",
    "    return new_data"
   ]
  },
  {
   "cell_type": "code",
   "execution_count": 394,
   "id": "6325c997",
   "metadata": {},
   "outputs": [],
   "source": [
    "X_train = covid_degree(X_train)\n",
    "X_test = covid_degree(X_test)"
   ]
  },
  {
   "cell_type": "code",
   "execution_count": 395,
   "id": "df520014",
   "metadata": {},
   "outputs": [
    {
     "data": {
      "text/plain": [
       "592908     3.0\n",
       "184386     0.0\n",
       "1021782    0.0\n",
       "59606      3.0\n",
       "93792      3.0\n",
       "Name: covid_degree, dtype: float64"
      ]
     },
     "execution_count": 395,
     "metadata": {},
     "output_type": "execute_result"
    }
   ],
   "source": [
    "X_train['covid_degree'].head()"
   ]
  },
  {
   "cell_type": "markdown",
   "id": "74e8c1d8",
   "metadata": {},
   "source": [
    "#### Scaling em todas as features"
   ]
  },
  {
   "cell_type": "code",
   "execution_count": 396,
   "id": "3c5be39a",
   "metadata": {},
   "outputs": [],
   "source": [
    "def z_scale(feature):\n",
    "    std = feature.std()\n",
    "    mean = feature.mean()\n",
    "    return (feature - mean)/std\n",
    "\n",
    "def scale(feature):\n",
    "    minimum = min(feature)\n",
    "    maximum = max(feature)\n",
    "    return (feature - minimum)/(maximum - minimum)"
   ]
  },
  {
   "cell_type": "code",
   "execution_count": 397,
   "id": "298aab32",
   "metadata": {},
   "outputs": [],
   "source": [
    "#def shuffle_data(data, random_state):\n",
    "    #rand = np.random.RandomState(random_state)\n",
    "    #return data.reindex(rand.permutation(data.index))"
   ]
  },
  {
   "cell_type": "markdown",
   "id": "a26d2d94",
   "metadata": {},
   "source": [
    "#### Redefinindo as features"
   ]
  },
  {
   "cell_type": "code",
   "execution_count": 398,
   "id": "cf7b6973",
   "metadata": {},
   "outputs": [],
   "source": [
    "features = X_train.columns"
   ]
  },
  {
   "cell_type": "code",
   "execution_count": 399,
   "id": "4c5fd957",
   "metadata": {},
   "outputs": [],
   "source": [
    "for feature in features:\n",
    "    X_train[feature] = scale(X_train[feature])\n",
    "    X_test[feature] = scale(X_test[feature])"
   ]
  },
  {
   "cell_type": "code",
   "execution_count": 400,
   "id": "6be13566",
   "metadata": {
    "scrolled": false
   },
   "outputs": [
    {
     "data": {
      "text/html": [
       "<div>\n",
       "<style scoped>\n",
       "    .dataframe tbody tr th:only-of-type {\n",
       "        vertical-align: middle;\n",
       "    }\n",
       "\n",
       "    .dataframe tbody tr th {\n",
       "        vertical-align: top;\n",
       "    }\n",
       "\n",
       "    .dataframe thead th {\n",
       "        text-align: right;\n",
       "    }\n",
       "</style>\n",
       "<table border=\"1\" class=\"dataframe\">\n",
       "  <thead>\n",
       "    <tr style=\"text-align: right;\">\n",
       "      <th></th>\n",
       "      <th>HIPERTENSION</th>\n",
       "      <th>USMER</th>\n",
       "      <th>SEX</th>\n",
       "      <th>TOBACCO</th>\n",
       "      <th>PNEUMONIA</th>\n",
       "      <th>INTUBED</th>\n",
       "      <th>MEDICAL_UNIT</th>\n",
       "      <th>PATIENT_TYPE</th>\n",
       "      <th>AGE</th>\n",
       "      <th>OTHER_DISEASE</th>\n",
       "      <th>...</th>\n",
       "      <th>is_INMSUPR_defined</th>\n",
       "      <th>is_HIPERTENSION_defined</th>\n",
       "      <th>is_CARDIOVASCULAR_defined</th>\n",
       "      <th>is_RENAL_CHRONIC_defined</th>\n",
       "      <th>is_OTHER_DISEASE_defined</th>\n",
       "      <th>is_OBESITY_defined</th>\n",
       "      <th>is_TOBACCO_defined</th>\n",
       "      <th>is_INTUBED_defined</th>\n",
       "      <th>is_ICU_defined</th>\n",
       "      <th>covid_degree</th>\n",
       "    </tr>\n",
       "  </thead>\n",
       "  <tbody>\n",
       "    <tr>\n",
       "      <th>592908</th>\n",
       "      <td>1.0</td>\n",
       "      <td>0.0</td>\n",
       "      <td>1.0</td>\n",
       "      <td>1.0</td>\n",
       "      <td>1.0</td>\n",
       "      <td>1.0</td>\n",
       "      <td>0.916667</td>\n",
       "      <td>0.0</td>\n",
       "      <td>0.239669</td>\n",
       "      <td>1.0</td>\n",
       "      <td>...</td>\n",
       "      <td>0.0</td>\n",
       "      <td>0.0</td>\n",
       "      <td>0.0</td>\n",
       "      <td>0.0</td>\n",
       "      <td>0.0</td>\n",
       "      <td>0.0</td>\n",
       "      <td>0.0</td>\n",
       "      <td>1.0</td>\n",
       "      <td>1.0</td>\n",
       "      <td>1.0</td>\n",
       "    </tr>\n",
       "    <tr>\n",
       "      <th>184386</th>\n",
       "      <td>0.0</td>\n",
       "      <td>1.0</td>\n",
       "      <td>1.0</td>\n",
       "      <td>1.0</td>\n",
       "      <td>1.0</td>\n",
       "      <td>1.0</td>\n",
       "      <td>0.250000</td>\n",
       "      <td>0.0</td>\n",
       "      <td>0.223140</td>\n",
       "      <td>1.0</td>\n",
       "      <td>...</td>\n",
       "      <td>0.0</td>\n",
       "      <td>0.0</td>\n",
       "      <td>0.0</td>\n",
       "      <td>0.0</td>\n",
       "      <td>0.0</td>\n",
       "      <td>0.0</td>\n",
       "      <td>0.0</td>\n",
       "      <td>1.0</td>\n",
       "      <td>1.0</td>\n",
       "      <td>0.0</td>\n",
       "    </tr>\n",
       "    <tr>\n",
       "      <th>1021782</th>\n",
       "      <td>1.0</td>\n",
       "      <td>1.0</td>\n",
       "      <td>1.0</td>\n",
       "      <td>1.0</td>\n",
       "      <td>1.0</td>\n",
       "      <td>1.0</td>\n",
       "      <td>0.916667</td>\n",
       "      <td>0.0</td>\n",
       "      <td>0.206612</td>\n",
       "      <td>1.0</td>\n",
       "      <td>...</td>\n",
       "      <td>0.0</td>\n",
       "      <td>0.0</td>\n",
       "      <td>0.0</td>\n",
       "      <td>0.0</td>\n",
       "      <td>0.0</td>\n",
       "      <td>0.0</td>\n",
       "      <td>0.0</td>\n",
       "      <td>1.0</td>\n",
       "      <td>1.0</td>\n",
       "      <td>0.0</td>\n",
       "    </tr>\n",
       "    <tr>\n",
       "      <th>59606</th>\n",
       "      <td>1.0</td>\n",
       "      <td>0.0</td>\n",
       "      <td>0.0</td>\n",
       "      <td>0.0</td>\n",
       "      <td>1.0</td>\n",
       "      <td>1.0</td>\n",
       "      <td>0.250000</td>\n",
       "      <td>0.0</td>\n",
       "      <td>0.214876</td>\n",
       "      <td>1.0</td>\n",
       "      <td>...</td>\n",
       "      <td>0.0</td>\n",
       "      <td>0.0</td>\n",
       "      <td>0.0</td>\n",
       "      <td>0.0</td>\n",
       "      <td>0.0</td>\n",
       "      <td>0.0</td>\n",
       "      <td>0.0</td>\n",
       "      <td>1.0</td>\n",
       "      <td>1.0</td>\n",
       "      <td>1.0</td>\n",
       "    </tr>\n",
       "    <tr>\n",
       "      <th>93792</th>\n",
       "      <td>1.0</td>\n",
       "      <td>0.0</td>\n",
       "      <td>0.0</td>\n",
       "      <td>1.0</td>\n",
       "      <td>1.0</td>\n",
       "      <td>0.5</td>\n",
       "      <td>0.250000</td>\n",
       "      <td>1.0</td>\n",
       "      <td>0.380165</td>\n",
       "      <td>1.0</td>\n",
       "      <td>...</td>\n",
       "      <td>0.0</td>\n",
       "      <td>0.0</td>\n",
       "      <td>0.0</td>\n",
       "      <td>0.0</td>\n",
       "      <td>0.0</td>\n",
       "      <td>0.0</td>\n",
       "      <td>0.0</td>\n",
       "      <td>0.0</td>\n",
       "      <td>0.0</td>\n",
       "      <td>1.0</td>\n",
       "    </tr>\n",
       "  </tbody>\n",
       "</table>\n",
       "<p>5 rows × 34 columns</p>\n",
       "</div>"
      ],
      "text/plain": [
       "         HIPERTENSION  USMER  SEX  TOBACCO  PNEUMONIA  INTUBED  MEDICAL_UNIT  \\\n",
       "592908            1.0    0.0  1.0      1.0        1.0      1.0      0.916667   \n",
       "184386            0.0    1.0  1.0      1.0        1.0      1.0      0.250000   \n",
       "1021782           1.0    1.0  1.0      1.0        1.0      1.0      0.916667   \n",
       "59606             1.0    0.0  0.0      0.0        1.0      1.0      0.250000   \n",
       "93792             1.0    0.0  0.0      1.0        1.0      0.5      0.250000   \n",
       "\n",
       "         PATIENT_TYPE       AGE  OTHER_DISEASE  ...  is_INMSUPR_defined  \\\n",
       "592908            0.0  0.239669            1.0  ...                 0.0   \n",
       "184386            0.0  0.223140            1.0  ...                 0.0   \n",
       "1021782           0.0  0.206612            1.0  ...                 0.0   \n",
       "59606             0.0  0.214876            1.0  ...                 0.0   \n",
       "93792             1.0  0.380165            1.0  ...                 0.0   \n",
       "\n",
       "         is_HIPERTENSION_defined  is_CARDIOVASCULAR_defined  \\\n",
       "592908                       0.0                        0.0   \n",
       "184386                       0.0                        0.0   \n",
       "1021782                      0.0                        0.0   \n",
       "59606                        0.0                        0.0   \n",
       "93792                        0.0                        0.0   \n",
       "\n",
       "         is_RENAL_CHRONIC_defined  is_OTHER_DISEASE_defined  \\\n",
       "592908                        0.0                       0.0   \n",
       "184386                        0.0                       0.0   \n",
       "1021782                       0.0                       0.0   \n",
       "59606                         0.0                       0.0   \n",
       "93792                         0.0                       0.0   \n",
       "\n",
       "         is_OBESITY_defined  is_TOBACCO_defined  is_INTUBED_defined  \\\n",
       "592908                  0.0                 0.0                 1.0   \n",
       "184386                  0.0                 0.0                 1.0   \n",
       "1021782                 0.0                 0.0                 1.0   \n",
       "59606                   0.0                 0.0                 1.0   \n",
       "93792                   0.0                 0.0                 0.0   \n",
       "\n",
       "         is_ICU_defined  covid_degree  \n",
       "592908              1.0           1.0  \n",
       "184386              1.0           0.0  \n",
       "1021782             1.0           0.0  \n",
       "59606               1.0           1.0  \n",
       "93792               0.0           1.0  \n",
       "\n",
       "[5 rows x 34 columns]"
      ]
     },
     "execution_count": 400,
     "metadata": {},
     "output_type": "execute_result"
    }
   ],
   "source": [
    "X_train.head()"
   ]
  },
  {
   "cell_type": "markdown",
   "id": "2efc0b2c",
   "metadata": {},
   "source": [
    "# Criando o Modelo"
   ]
  },
  {
   "cell_type": "code",
   "execution_count": 401,
   "id": "a7a2469c",
   "metadata": {},
   "outputs": [],
   "source": [
    "model = LogisticRegression(random_state = 0, max_iter = 1000)"
   ]
  },
  {
   "cell_type": "code",
   "execution_count": 402,
   "id": "6c378dfe",
   "metadata": {
    "scrolled": false
   },
   "outputs": [
    {
     "data": {
      "text/plain": [
       "LogisticRegression(max_iter=1000, random_state=0)"
      ]
     },
     "execution_count": 402,
     "metadata": {},
     "output_type": "execute_result"
    }
   ],
   "source": [
    "model.fit(X_train, y_train)"
   ]
  },
  {
   "cell_type": "markdown",
   "id": "e6162083",
   "metadata": {},
   "source": [
    "#### Threshold = 0.5 (default)"
   ]
  },
  {
   "cell_type": "code",
   "execution_count": 403,
   "id": "d59f8a85",
   "metadata": {},
   "outputs": [
    {
     "data": {
      "text/plain": [
       "array([[  7768,   7631],\n",
       "       [  3262, 191054]], dtype=int64)"
      ]
     },
     "execution_count": 403,
     "metadata": {},
     "output_type": "execute_result"
    }
   ],
   "source": [
    "init_y_pred = model.predict(X_test)\n",
    "init_cnf_matrix = metrics.confusion_matrix(y_test, init_y_pred)\n",
    "init_cnf_matrix"
   ]
  },
  {
   "cell_type": "code",
   "execution_count": 404,
   "id": "6595ecc5",
   "metadata": {},
   "outputs": [
    {
     "name": "stdout",
     "output_type": "stream",
     "text": [
      "              precision    recall  f1-score   support\n",
      "\n",
      "         1.0       0.70      0.50      0.59     15399\n",
      "         2.0       0.96      0.98      0.97    194316\n",
      "\n",
      "    accuracy                           0.95    209715\n",
      "   macro avg       0.83      0.74      0.78    209715\n",
      "weighted avg       0.94      0.95      0.94    209715\n",
      "\n"
     ]
    }
   ],
   "source": [
    "print(metrics.classification_report(y_test, init_y_pred))"
   ]
  },
  {
   "cell_type": "markdown",
   "id": "5d56f573",
   "metadata": {},
   "source": [
    "## Analisando a performance do modelo"
   ]
  },
  {
   "cell_type": "code",
   "execution_count": 405,
   "id": "471995fa",
   "metadata": {
    "scrolled": true
   },
   "outputs": [
    {
     "data": {
      "text/plain": [
       "array([[0.00444331, 0.99555669],\n",
       "       [0.0020162 , 0.9979838 ],\n",
       "       [0.00517529, 0.99482471],\n",
       "       ...,\n",
       "       [0.00895674, 0.99104326],\n",
       "       [0.00646997, 0.99353003],\n",
       "       [0.00790005, 0.99209995]])"
      ]
     },
     "execution_count": 405,
     "metadata": {},
     "output_type": "execute_result"
    }
   ],
   "source": [
    "model.predict_proba(X_test)"
   ]
  },
  {
   "cell_type": "code",
   "execution_count": 406,
   "id": "c9694079",
   "metadata": {},
   "outputs": [],
   "source": [
    "def custom_predict(ml_model, X_data, threshold):\n",
    "    probs = ml_model.predict_proba(X_data) \n",
    "    return (probs[:, 1] > threshold).astype(int) + 1 # Para corrigir o fato de estamos usando {1,2}."
   ]
  },
  {
   "cell_type": "code",
   "execution_count": 407,
   "id": "a84280f6",
   "metadata": {},
   "outputs": [],
   "source": [
    "y_pred = custom_predict(model, X_test, 0.81)\n",
    "y_pred_proba = model.predict_proba(X_test)[:, 1]"
   ]
  },
  {
   "cell_type": "code",
   "execution_count": 408,
   "id": "7556a9fd",
   "metadata": {
    "scrolled": true
   },
   "outputs": [
    {
     "data": {
      "text/plain": [
       "array([[ 12398,   3001],\n",
       "       [ 13153, 181163]], dtype=int64)"
      ]
     },
     "execution_count": 408,
     "metadata": {},
     "output_type": "execute_result"
    }
   ],
   "source": [
    "cnf_matrix = metrics.confusion_matrix(y_test, y_pred)\n",
    "cnf_matrix"
   ]
  },
  {
   "cell_type": "code",
   "execution_count": 409,
   "id": "85b8fe22",
   "metadata": {
    "scrolled": true
   },
   "outputs": [
    {
     "name": "stdout",
     "output_type": "stream",
     "text": [
      "              precision    recall  f1-score   support\n",
      "\n",
      "         1.0       0.49      0.81      0.61     15399\n",
      "         2.0       0.98      0.93      0.96    194316\n",
      "\n",
      "    accuracy                           0.92    209715\n",
      "   macro avg       0.73      0.87      0.78    209715\n",
      "weighted avg       0.95      0.92      0.93    209715\n",
      "\n"
     ]
    }
   ],
   "source": [
    "print(metrics.classification_report(y_test, y_pred))"
   ]
  },
  {
   "cell_type": "markdown",
   "id": "e9d11bed",
   "metadata": {},
   "source": [
    "Nesse caso, aumentar o threshold aumenta o recall do positivo. Isso acontece porque o valor 1, que representa o positivo, é menor que o valor 2, que representa o negativo, gerando um resultado contrário ao esperado."
   ]
  },
  {
   "cell_type": "code",
   "execution_count": 410,
   "id": "5e3bad1d",
   "metadata": {
    "scrolled": true
   },
   "outputs": [
    {
     "data": {
      "text/plain": [
       "0.8687142510868006"
      ]
     },
     "execution_count": 410,
     "metadata": {},
     "output_type": "execute_result"
    }
   ],
   "source": [
    "metrics.roc_auc_score(y_test, y_pred)"
   ]
  },
  {
   "cell_type": "markdown",
   "id": "885c03c5",
   "metadata": {},
   "source": [
    "Tratamos a label como sendo binária no conjunto {1, 2}, com 1 significando 'Sim' e 2 significando 'Não'. E se modificássemos a label para o caso padrão, em que 0 significa 'Não' e 1 'Sim'?"
   ]
  },
  {
   "cell_type": "code",
   "execution_count": 411,
   "id": "c3e2d656",
   "metadata": {},
   "outputs": [],
   "source": [
    "def custom_predict2(ml_model, X_data, threshold):\n",
    "    probs = ml_model.predict_proba(X_data) \n",
    "    return (probs[:, 1] > threshold).astype(int)"
   ]
  },
  {
   "cell_type": "code",
   "execution_count": 429,
   "id": "707f3002",
   "metadata": {},
   "outputs": [],
   "source": [
    "def binary_change(data):  \n",
    "    new_data = data.copy()\n",
    "    new_data.loc[new_data == 2] = 0\n",
    "    return new_data"
   ]
  },
  {
   "cell_type": "code",
   "execution_count": 430,
   "id": "b64734cf",
   "metadata": {},
   "outputs": [],
   "source": [
    "y_train = binary_change(y_train)\n",
    "y_test = binary_change(y_test)"
   ]
  },
  {
   "cell_type": "code",
   "execution_count": 432,
   "id": "be3cc49e",
   "metadata": {},
   "outputs": [
    {
     "data": {
      "text/plain": [
       "592908     0.0\n",
       "184386     0.0\n",
       "1021782    0.0\n",
       "59606      0.0\n",
       "93792      0.0\n",
       "Name: DIED, dtype: float64"
      ]
     },
     "execution_count": 432,
     "metadata": {},
     "output_type": "execute_result"
    }
   ],
   "source": [
    "y_train.head()"
   ]
  },
  {
   "cell_type": "markdown",
   "id": "f2efa03a",
   "metadata": {},
   "source": [
    "Os sinais das correlações mudaram, mas será que o resultado do modelo muda?"
   ]
  },
  {
   "cell_type": "code",
   "execution_count": 433,
   "id": "ab3ff40a",
   "metadata": {},
   "outputs": [],
   "source": [
    "model2 = LogisticRegression(random_state = 0, max_iter = 1000)"
   ]
  },
  {
   "cell_type": "code",
   "execution_count": 434,
   "id": "5db945df",
   "metadata": {},
   "outputs": [
    {
     "data": {
      "text/plain": [
       "LogisticRegression(max_iter=1000, random_state=0)"
      ]
     },
     "execution_count": 434,
     "metadata": {},
     "output_type": "execute_result"
    }
   ],
   "source": [
    "model2.fit(X_train, y_train)"
   ]
  },
  {
   "cell_type": "code",
   "execution_count": 435,
   "id": "f1730150",
   "metadata": {
    "scrolled": true
   },
   "outputs": [],
   "source": [
    "y_pred2 = custom_predict2(model2, X_test, 0.19) # 0.81 + 0.19 = 1.00"
   ]
  },
  {
   "cell_type": "code",
   "execution_count": 436,
   "id": "43a6a456",
   "metadata": {
    "scrolled": true
   },
   "outputs": [
    {
     "data": {
      "text/plain": [
       "array([0, 0, 0, ..., 0, 0, 0])"
      ]
     },
     "execution_count": 436,
     "metadata": {},
     "output_type": "execute_result"
    }
   ],
   "source": [
    "y_pred2"
   ]
  },
  {
   "cell_type": "code",
   "execution_count": 437,
   "id": "69041cfa",
   "metadata": {},
   "outputs": [
    {
     "data": {
      "text/plain": [
       "array([[181163,  13153],\n",
       "       [  3001,  12398]], dtype=int64)"
      ]
     },
     "execution_count": 437,
     "metadata": {},
     "output_type": "execute_result"
    }
   ],
   "source": [
    "cnf_matrix2 = metrics.confusion_matrix(y_test, y_pred2)\n",
    "cnf_matrix2"
   ]
  },
  {
   "cell_type": "code",
   "execution_count": 438,
   "id": "75a32fd3",
   "metadata": {
    "scrolled": true
   },
   "outputs": [
    {
     "name": "stdout",
     "output_type": "stream",
     "text": [
      "              precision    recall  f1-score   support\n",
      "\n",
      "         0.0       0.98      0.93      0.96    194316\n",
      "         1.0       0.49      0.81      0.61     15399\n",
      "\n",
      "    accuracy                           0.92    209715\n",
      "   macro avg       0.73      0.87      0.78    209715\n",
      "weighted avg       0.95      0.92      0.93    209715\n",
      "\n"
     ]
    }
   ],
   "source": [
    "print(metrics.classification_report(y_test, y_pred2))"
   ]
  },
  {
   "cell_type": "code",
   "execution_count": 439,
   "id": "e46a2e53",
   "metadata": {},
   "outputs": [
    {
     "data": {
      "text/plain": [
       "0.8687142510868007"
      ]
     },
     "execution_count": 439,
     "metadata": {},
     "output_type": "execute_result"
    }
   ],
   "source": [
    "metrics.roc_auc_score(y_test, y_pred2)"
   ]
  },
  {
   "cell_type": "markdown",
   "id": "9d5293d4",
   "metadata": {},
   "source": [
    "O resultado final não muda! Isso acontece porque, depois da convergência do modelo, temos valores de pesos que se adaptam à forma como os dados são representados devido ao fato de estarmos sempre minimizando a mesma função, a log loss. Além disso, no caso de chamarmos o método 'predict' do modelo, a biblioteca sklearn já possui uma forma de corrigir o resultado da predição para diferentes valores binários de label que possamos colocar. No fim, o que importa são as probabilidades geradas pela função de ativação (sigmoid) no interior do modelo (que são as mesmas em ambos) e o significado de cada número ligado a uma classificação: no primeiro modelo, 1 significa 'Positivo' e 2 significa 'Negativo'; por sua vez, no segundo modelo, 0 significa 'Negativo' e 1 significa 'Positivo'."
   ]
  },
  {
   "cell_type": "markdown",
   "id": "083b2023",
   "metadata": {},
   "source": [
    "#### Boas práticas\n",
    "\n",
    "Em termos de boas práticas, é melhor utilizar a seguinte convenção para a label de um modelo de classificação como a Regressão Logística: \n",
    "\n",
    "- 0 significa 'Negativo' e \n",
    "- 1 significa 'Positivo'\n",
    "\n",
    "Isso facilita o entendimento do código e das relações entre features e labels, além de facilitar a convergência  do modelo por parte da label. Nesse sentido, também é útil utilizar a mesma convenção para as features binárias."
   ]
  }
 ],
 "metadata": {
  "kernelspec": {
   "display_name": "Python 3 (ipykernel)",
   "language": "python",
   "name": "python3"
  },
  "language_info": {
   "codemirror_mode": {
    "name": "ipython",
    "version": 3
   },
   "file_extension": ".py",
   "mimetype": "text/x-python",
   "name": "python",
   "nbconvert_exporter": "python",
   "pygments_lexer": "ipython3",
   "version": "3.9.7"
  }
 },
 "nbformat": 4,
 "nbformat_minor": 5
}
