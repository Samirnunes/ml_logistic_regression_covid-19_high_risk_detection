{
 "cells": [
  {
   "cell_type": "markdown",
   "id": "1fb0dd58",
   "metadata": {},
   "source": [
    "# Bibliotecas"
   ]
  },
  {
   "cell_type": "code",
   "execution_count": 196,
   "id": "ff0fe27e",
   "metadata": {},
   "outputs": [],
   "source": [
    "import pandas as pd\n",
    "import numpy as np\n",
    "import matplotlib.pyplot as plt"
   ]
  },
  {
   "cell_type": "markdown",
   "id": "78db4be6",
   "metadata": {},
   "source": [
    "# Importando os dados"
   ]
  },
  {
   "cell_type": "markdown",
   "id": "4b8af32c",
   "metadata": {},
   "source": [
    "#### https://www.kaggle.com/datasets/meirnizri/covid19-dataset"
   ]
  },
  {
   "cell_type": "code",
   "execution_count": 197,
   "id": "c3670774",
   "metadata": {},
   "outputs": [],
   "source": [
    "data = pd.read_csv('Covid Data.csv')"
   ]
  },
  {
   "cell_type": "code",
   "execution_count": 198,
   "id": "3cccd2be",
   "metadata": {},
   "outputs": [
    {
     "data": {
      "text/plain": [
       "Index(['USMER', 'MEDICAL_UNIT', 'SEX', 'PATIENT_TYPE', 'DATE_DIED', 'INTUBED',\n",
       "       'PNEUMONIA', 'AGE', 'PREGNANT', 'DIABETES', 'COPD', 'ASTHMA', 'INMSUPR',\n",
       "       'HIPERTENSION', 'OTHER_DISEASE', 'CARDIOVASCULAR', 'OBESITY',\n",
       "       'RENAL_CHRONIC', 'TOBACCO', 'CLASIFFICATION_FINAL', 'ICU'],\n",
       "      dtype='object')"
      ]
     },
     "execution_count": 198,
     "metadata": {},
     "output_type": "execute_result"
    }
   ],
   "source": [
    "data.columns"
   ]
  },
  {
   "cell_type": "code",
   "execution_count": 199,
   "id": "26d590c9",
   "metadata": {},
   "outputs": [],
   "source": [
    "data = data.rename(columns = {'CLASIFFICATION_FINAL': 'CLASSIFICATION_FINAL'})"
   ]
  },
  {
   "cell_type": "code",
   "execution_count": 200,
   "id": "54e91bd0",
   "metadata": {
    "scrolled": true
   },
   "outputs": [
    {
     "data": {
      "text/html": [
       "<div>\n",
       "<style scoped>\n",
       "    .dataframe tbody tr th:only-of-type {\n",
       "        vertical-align: middle;\n",
       "    }\n",
       "\n",
       "    .dataframe tbody tr th {\n",
       "        vertical-align: top;\n",
       "    }\n",
       "\n",
       "    .dataframe thead th {\n",
       "        text-align: right;\n",
       "    }\n",
       "</style>\n",
       "<table border=\"1\" class=\"dataframe\">\n",
       "  <thead>\n",
       "    <tr style=\"text-align: right;\">\n",
       "      <th></th>\n",
       "      <th>USMER</th>\n",
       "      <th>MEDICAL_UNIT</th>\n",
       "      <th>SEX</th>\n",
       "      <th>PATIENT_TYPE</th>\n",
       "      <th>DATE_DIED</th>\n",
       "      <th>INTUBED</th>\n",
       "      <th>PNEUMONIA</th>\n",
       "      <th>AGE</th>\n",
       "      <th>PREGNANT</th>\n",
       "      <th>DIABETES</th>\n",
       "      <th>...</th>\n",
       "      <th>ASTHMA</th>\n",
       "      <th>INMSUPR</th>\n",
       "      <th>HIPERTENSION</th>\n",
       "      <th>OTHER_DISEASE</th>\n",
       "      <th>CARDIOVASCULAR</th>\n",
       "      <th>OBESITY</th>\n",
       "      <th>RENAL_CHRONIC</th>\n",
       "      <th>TOBACCO</th>\n",
       "      <th>CLASSIFICATION_FINAL</th>\n",
       "      <th>ICU</th>\n",
       "    </tr>\n",
       "  </thead>\n",
       "  <tbody>\n",
       "    <tr>\n",
       "      <th>0</th>\n",
       "      <td>2</td>\n",
       "      <td>1</td>\n",
       "      <td>1</td>\n",
       "      <td>1</td>\n",
       "      <td>03/05/2020</td>\n",
       "      <td>97</td>\n",
       "      <td>1</td>\n",
       "      <td>65</td>\n",
       "      <td>2</td>\n",
       "      <td>2</td>\n",
       "      <td>...</td>\n",
       "      <td>2</td>\n",
       "      <td>2</td>\n",
       "      <td>1</td>\n",
       "      <td>2</td>\n",
       "      <td>2</td>\n",
       "      <td>2</td>\n",
       "      <td>2</td>\n",
       "      <td>2</td>\n",
       "      <td>3</td>\n",
       "      <td>97</td>\n",
       "    </tr>\n",
       "    <tr>\n",
       "      <th>1</th>\n",
       "      <td>2</td>\n",
       "      <td>1</td>\n",
       "      <td>2</td>\n",
       "      <td>1</td>\n",
       "      <td>03/06/2020</td>\n",
       "      <td>97</td>\n",
       "      <td>1</td>\n",
       "      <td>72</td>\n",
       "      <td>97</td>\n",
       "      <td>2</td>\n",
       "      <td>...</td>\n",
       "      <td>2</td>\n",
       "      <td>2</td>\n",
       "      <td>1</td>\n",
       "      <td>2</td>\n",
       "      <td>2</td>\n",
       "      <td>1</td>\n",
       "      <td>1</td>\n",
       "      <td>2</td>\n",
       "      <td>5</td>\n",
       "      <td>97</td>\n",
       "    </tr>\n",
       "    <tr>\n",
       "      <th>2</th>\n",
       "      <td>2</td>\n",
       "      <td>1</td>\n",
       "      <td>2</td>\n",
       "      <td>2</td>\n",
       "      <td>09/06/2020</td>\n",
       "      <td>1</td>\n",
       "      <td>2</td>\n",
       "      <td>55</td>\n",
       "      <td>97</td>\n",
       "      <td>1</td>\n",
       "      <td>...</td>\n",
       "      <td>2</td>\n",
       "      <td>2</td>\n",
       "      <td>2</td>\n",
       "      <td>2</td>\n",
       "      <td>2</td>\n",
       "      <td>2</td>\n",
       "      <td>2</td>\n",
       "      <td>2</td>\n",
       "      <td>3</td>\n",
       "      <td>2</td>\n",
       "    </tr>\n",
       "    <tr>\n",
       "      <th>3</th>\n",
       "      <td>2</td>\n",
       "      <td>1</td>\n",
       "      <td>1</td>\n",
       "      <td>1</td>\n",
       "      <td>12/06/2020</td>\n",
       "      <td>97</td>\n",
       "      <td>2</td>\n",
       "      <td>53</td>\n",
       "      <td>2</td>\n",
       "      <td>2</td>\n",
       "      <td>...</td>\n",
       "      <td>2</td>\n",
       "      <td>2</td>\n",
       "      <td>2</td>\n",
       "      <td>2</td>\n",
       "      <td>2</td>\n",
       "      <td>2</td>\n",
       "      <td>2</td>\n",
       "      <td>2</td>\n",
       "      <td>7</td>\n",
       "      <td>97</td>\n",
       "    </tr>\n",
       "    <tr>\n",
       "      <th>4</th>\n",
       "      <td>2</td>\n",
       "      <td>1</td>\n",
       "      <td>2</td>\n",
       "      <td>1</td>\n",
       "      <td>21/06/2020</td>\n",
       "      <td>97</td>\n",
       "      <td>2</td>\n",
       "      <td>68</td>\n",
       "      <td>97</td>\n",
       "      <td>1</td>\n",
       "      <td>...</td>\n",
       "      <td>2</td>\n",
       "      <td>2</td>\n",
       "      <td>1</td>\n",
       "      <td>2</td>\n",
       "      <td>2</td>\n",
       "      <td>2</td>\n",
       "      <td>2</td>\n",
       "      <td>2</td>\n",
       "      <td>3</td>\n",
       "      <td>97</td>\n",
       "    </tr>\n",
       "    <tr>\n",
       "      <th>5</th>\n",
       "      <td>2</td>\n",
       "      <td>1</td>\n",
       "      <td>1</td>\n",
       "      <td>2</td>\n",
       "      <td>9999-99-99</td>\n",
       "      <td>2</td>\n",
       "      <td>1</td>\n",
       "      <td>40</td>\n",
       "      <td>2</td>\n",
       "      <td>2</td>\n",
       "      <td>...</td>\n",
       "      <td>2</td>\n",
       "      <td>2</td>\n",
       "      <td>2</td>\n",
       "      <td>2</td>\n",
       "      <td>2</td>\n",
       "      <td>2</td>\n",
       "      <td>2</td>\n",
       "      <td>2</td>\n",
       "      <td>3</td>\n",
       "      <td>2</td>\n",
       "    </tr>\n",
       "  </tbody>\n",
       "</table>\n",
       "<p>6 rows × 21 columns</p>\n",
       "</div>"
      ],
      "text/plain": [
       "   USMER  MEDICAL_UNIT  SEX  PATIENT_TYPE   DATE_DIED  INTUBED  PNEUMONIA  \\\n",
       "0      2             1    1             1  03/05/2020       97          1   \n",
       "1      2             1    2             1  03/06/2020       97          1   \n",
       "2      2             1    2             2  09/06/2020        1          2   \n",
       "3      2             1    1             1  12/06/2020       97          2   \n",
       "4      2             1    2             1  21/06/2020       97          2   \n",
       "5      2             1    1             2  9999-99-99        2          1   \n",
       "\n",
       "   AGE  PREGNANT  DIABETES  ...  ASTHMA  INMSUPR  HIPERTENSION  OTHER_DISEASE  \\\n",
       "0   65         2         2  ...       2        2             1              2   \n",
       "1   72        97         2  ...       2        2             1              2   \n",
       "2   55        97         1  ...       2        2             2              2   \n",
       "3   53         2         2  ...       2        2             2              2   \n",
       "4   68        97         1  ...       2        2             1              2   \n",
       "5   40         2         2  ...       2        2             2              2   \n",
       "\n",
       "   CARDIOVASCULAR  OBESITY  RENAL_CHRONIC  TOBACCO  CLASSIFICATION_FINAL  ICU  \n",
       "0               2        2              2        2                     3   97  \n",
       "1               2        1              1        2                     5   97  \n",
       "2               2        2              2        2                     3    2  \n",
       "3               2        2              2        2                     7   97  \n",
       "4               2        2              2        2                     3   97  \n",
       "5               2        2              2        2                     3    2  \n",
       "\n",
       "[6 rows x 21 columns]"
      ]
     },
     "execution_count": 200,
     "metadata": {},
     "output_type": "execute_result"
    }
   ],
   "source": [
    "data.head(6)"
   ]
  },
  {
   "cell_type": "code",
   "execution_count": 201,
   "id": "6b747f24",
   "metadata": {
    "scrolled": true
   },
   "outputs": [
    {
     "data": {
      "text/html": [
       "<div>\n",
       "<style scoped>\n",
       "    .dataframe tbody tr th:only-of-type {\n",
       "        vertical-align: middle;\n",
       "    }\n",
       "\n",
       "    .dataframe tbody tr th {\n",
       "        vertical-align: top;\n",
       "    }\n",
       "\n",
       "    .dataframe thead th {\n",
       "        text-align: right;\n",
       "    }\n",
       "</style>\n",
       "<table border=\"1\" class=\"dataframe\">\n",
       "  <thead>\n",
       "    <tr style=\"text-align: right;\">\n",
       "      <th></th>\n",
       "      <th>USMER</th>\n",
       "      <th>MEDICAL_UNIT</th>\n",
       "      <th>SEX</th>\n",
       "      <th>PATIENT_TYPE</th>\n",
       "      <th>INTUBED</th>\n",
       "      <th>PNEUMONIA</th>\n",
       "      <th>AGE</th>\n",
       "      <th>PREGNANT</th>\n",
       "      <th>DIABETES</th>\n",
       "      <th>COPD</th>\n",
       "      <th>ASTHMA</th>\n",
       "      <th>INMSUPR</th>\n",
       "      <th>HIPERTENSION</th>\n",
       "      <th>OTHER_DISEASE</th>\n",
       "      <th>CARDIOVASCULAR</th>\n",
       "      <th>OBESITY</th>\n",
       "      <th>RENAL_CHRONIC</th>\n",
       "      <th>TOBACCO</th>\n",
       "      <th>CLASSIFICATION_FINAL</th>\n",
       "      <th>ICU</th>\n",
       "    </tr>\n",
       "  </thead>\n",
       "  <tbody>\n",
       "    <tr>\n",
       "      <th>count</th>\n",
       "      <td>1.048575e+06</td>\n",
       "      <td>1.048575e+06</td>\n",
       "      <td>1.048575e+06</td>\n",
       "      <td>1.048575e+06</td>\n",
       "      <td>1.048575e+06</td>\n",
       "      <td>1.048575e+06</td>\n",
       "      <td>1.048575e+06</td>\n",
       "      <td>1.048575e+06</td>\n",
       "      <td>1.048575e+06</td>\n",
       "      <td>1.048575e+06</td>\n",
       "      <td>1.048575e+06</td>\n",
       "      <td>1.048575e+06</td>\n",
       "      <td>1.048575e+06</td>\n",
       "      <td>1.048575e+06</td>\n",
       "      <td>1.048575e+06</td>\n",
       "      <td>1.048575e+06</td>\n",
       "      <td>1.048575e+06</td>\n",
       "      <td>1.048575e+06</td>\n",
       "      <td>1.048575e+06</td>\n",
       "      <td>1.048575e+06</td>\n",
       "    </tr>\n",
       "    <tr>\n",
       "      <th>mean</th>\n",
       "      <td>1.632194e+00</td>\n",
       "      <td>8.980565e+00</td>\n",
       "      <td>1.499259e+00</td>\n",
       "      <td>1.190765e+00</td>\n",
       "      <td>7.952288e+01</td>\n",
       "      <td>3.346831e+00</td>\n",
       "      <td>4.179410e+01</td>\n",
       "      <td>4.976558e+01</td>\n",
       "      <td>2.186404e+00</td>\n",
       "      <td>2.260569e+00</td>\n",
       "      <td>2.242626e+00</td>\n",
       "      <td>2.298132e+00</td>\n",
       "      <td>2.128989e+00</td>\n",
       "      <td>2.435143e+00</td>\n",
       "      <td>2.261810e+00</td>\n",
       "      <td>2.125176e+00</td>\n",
       "      <td>2.257180e+00</td>\n",
       "      <td>2.214333e+00</td>\n",
       "      <td>5.305653e+00</td>\n",
       "      <td>7.955397e+01</td>\n",
       "    </tr>\n",
       "    <tr>\n",
       "      <th>std</th>\n",
       "      <td>4.822084e-01</td>\n",
       "      <td>3.723278e+00</td>\n",
       "      <td>4.999997e-01</td>\n",
       "      <td>3.929041e-01</td>\n",
       "      <td>3.686889e+01</td>\n",
       "      <td>1.191288e+01</td>\n",
       "      <td>1.690739e+01</td>\n",
       "      <td>4.751073e+01</td>\n",
       "      <td>5.424242e+00</td>\n",
       "      <td>5.132258e+00</td>\n",
       "      <td>5.114089e+00</td>\n",
       "      <td>5.462843e+00</td>\n",
       "      <td>5.236397e+00</td>\n",
       "      <td>6.646676e+00</td>\n",
       "      <td>5.194850e+00</td>\n",
       "      <td>5.175445e+00</td>\n",
       "      <td>5.135354e+00</td>\n",
       "      <td>5.323097e+00</td>\n",
       "      <td>1.881165e+00</td>\n",
       "      <td>3.682307e+01</td>\n",
       "    </tr>\n",
       "    <tr>\n",
       "      <th>min</th>\n",
       "      <td>1.000000e+00</td>\n",
       "      <td>1.000000e+00</td>\n",
       "      <td>1.000000e+00</td>\n",
       "      <td>1.000000e+00</td>\n",
       "      <td>1.000000e+00</td>\n",
       "      <td>1.000000e+00</td>\n",
       "      <td>0.000000e+00</td>\n",
       "      <td>1.000000e+00</td>\n",
       "      <td>1.000000e+00</td>\n",
       "      <td>1.000000e+00</td>\n",
       "      <td>1.000000e+00</td>\n",
       "      <td>1.000000e+00</td>\n",
       "      <td>1.000000e+00</td>\n",
       "      <td>1.000000e+00</td>\n",
       "      <td>1.000000e+00</td>\n",
       "      <td>1.000000e+00</td>\n",
       "      <td>1.000000e+00</td>\n",
       "      <td>1.000000e+00</td>\n",
       "      <td>1.000000e+00</td>\n",
       "      <td>1.000000e+00</td>\n",
       "    </tr>\n",
       "    <tr>\n",
       "      <th>25%</th>\n",
       "      <td>1.000000e+00</td>\n",
       "      <td>4.000000e+00</td>\n",
       "      <td>1.000000e+00</td>\n",
       "      <td>1.000000e+00</td>\n",
       "      <td>9.700000e+01</td>\n",
       "      <td>2.000000e+00</td>\n",
       "      <td>3.000000e+01</td>\n",
       "      <td>2.000000e+00</td>\n",
       "      <td>2.000000e+00</td>\n",
       "      <td>2.000000e+00</td>\n",
       "      <td>2.000000e+00</td>\n",
       "      <td>2.000000e+00</td>\n",
       "      <td>2.000000e+00</td>\n",
       "      <td>2.000000e+00</td>\n",
       "      <td>2.000000e+00</td>\n",
       "      <td>2.000000e+00</td>\n",
       "      <td>2.000000e+00</td>\n",
       "      <td>2.000000e+00</td>\n",
       "      <td>3.000000e+00</td>\n",
       "      <td>9.700000e+01</td>\n",
       "    </tr>\n",
       "    <tr>\n",
       "      <th>50%</th>\n",
       "      <td>2.000000e+00</td>\n",
       "      <td>1.200000e+01</td>\n",
       "      <td>1.000000e+00</td>\n",
       "      <td>1.000000e+00</td>\n",
       "      <td>9.700000e+01</td>\n",
       "      <td>2.000000e+00</td>\n",
       "      <td>4.000000e+01</td>\n",
       "      <td>9.700000e+01</td>\n",
       "      <td>2.000000e+00</td>\n",
       "      <td>2.000000e+00</td>\n",
       "      <td>2.000000e+00</td>\n",
       "      <td>2.000000e+00</td>\n",
       "      <td>2.000000e+00</td>\n",
       "      <td>2.000000e+00</td>\n",
       "      <td>2.000000e+00</td>\n",
       "      <td>2.000000e+00</td>\n",
       "      <td>2.000000e+00</td>\n",
       "      <td>2.000000e+00</td>\n",
       "      <td>6.000000e+00</td>\n",
       "      <td>9.700000e+01</td>\n",
       "    </tr>\n",
       "    <tr>\n",
       "      <th>75%</th>\n",
       "      <td>2.000000e+00</td>\n",
       "      <td>1.200000e+01</td>\n",
       "      <td>2.000000e+00</td>\n",
       "      <td>1.000000e+00</td>\n",
       "      <td>9.700000e+01</td>\n",
       "      <td>2.000000e+00</td>\n",
       "      <td>5.300000e+01</td>\n",
       "      <td>9.700000e+01</td>\n",
       "      <td>2.000000e+00</td>\n",
       "      <td>2.000000e+00</td>\n",
       "      <td>2.000000e+00</td>\n",
       "      <td>2.000000e+00</td>\n",
       "      <td>2.000000e+00</td>\n",
       "      <td>2.000000e+00</td>\n",
       "      <td>2.000000e+00</td>\n",
       "      <td>2.000000e+00</td>\n",
       "      <td>2.000000e+00</td>\n",
       "      <td>2.000000e+00</td>\n",
       "      <td>7.000000e+00</td>\n",
       "      <td>9.700000e+01</td>\n",
       "    </tr>\n",
       "    <tr>\n",
       "      <th>max</th>\n",
       "      <td>2.000000e+00</td>\n",
       "      <td>1.300000e+01</td>\n",
       "      <td>2.000000e+00</td>\n",
       "      <td>2.000000e+00</td>\n",
       "      <td>9.900000e+01</td>\n",
       "      <td>9.900000e+01</td>\n",
       "      <td>1.210000e+02</td>\n",
       "      <td>9.800000e+01</td>\n",
       "      <td>9.800000e+01</td>\n",
       "      <td>9.800000e+01</td>\n",
       "      <td>9.800000e+01</td>\n",
       "      <td>9.800000e+01</td>\n",
       "      <td>9.800000e+01</td>\n",
       "      <td>9.800000e+01</td>\n",
       "      <td>9.800000e+01</td>\n",
       "      <td>9.800000e+01</td>\n",
       "      <td>9.800000e+01</td>\n",
       "      <td>9.800000e+01</td>\n",
       "      <td>7.000000e+00</td>\n",
       "      <td>9.900000e+01</td>\n",
       "    </tr>\n",
       "  </tbody>\n",
       "</table>\n",
       "</div>"
      ],
      "text/plain": [
       "              USMER  MEDICAL_UNIT           SEX  PATIENT_TYPE       INTUBED  \\\n",
       "count  1.048575e+06  1.048575e+06  1.048575e+06  1.048575e+06  1.048575e+06   \n",
       "mean   1.632194e+00  8.980565e+00  1.499259e+00  1.190765e+00  7.952288e+01   \n",
       "std    4.822084e-01  3.723278e+00  4.999997e-01  3.929041e-01  3.686889e+01   \n",
       "min    1.000000e+00  1.000000e+00  1.000000e+00  1.000000e+00  1.000000e+00   \n",
       "25%    1.000000e+00  4.000000e+00  1.000000e+00  1.000000e+00  9.700000e+01   \n",
       "50%    2.000000e+00  1.200000e+01  1.000000e+00  1.000000e+00  9.700000e+01   \n",
       "75%    2.000000e+00  1.200000e+01  2.000000e+00  1.000000e+00  9.700000e+01   \n",
       "max    2.000000e+00  1.300000e+01  2.000000e+00  2.000000e+00  9.900000e+01   \n",
       "\n",
       "          PNEUMONIA           AGE      PREGNANT      DIABETES          COPD  \\\n",
       "count  1.048575e+06  1.048575e+06  1.048575e+06  1.048575e+06  1.048575e+06   \n",
       "mean   3.346831e+00  4.179410e+01  4.976558e+01  2.186404e+00  2.260569e+00   \n",
       "std    1.191288e+01  1.690739e+01  4.751073e+01  5.424242e+00  5.132258e+00   \n",
       "min    1.000000e+00  0.000000e+00  1.000000e+00  1.000000e+00  1.000000e+00   \n",
       "25%    2.000000e+00  3.000000e+01  2.000000e+00  2.000000e+00  2.000000e+00   \n",
       "50%    2.000000e+00  4.000000e+01  9.700000e+01  2.000000e+00  2.000000e+00   \n",
       "75%    2.000000e+00  5.300000e+01  9.700000e+01  2.000000e+00  2.000000e+00   \n",
       "max    9.900000e+01  1.210000e+02  9.800000e+01  9.800000e+01  9.800000e+01   \n",
       "\n",
       "             ASTHMA       INMSUPR  HIPERTENSION  OTHER_DISEASE  \\\n",
       "count  1.048575e+06  1.048575e+06  1.048575e+06   1.048575e+06   \n",
       "mean   2.242626e+00  2.298132e+00  2.128989e+00   2.435143e+00   \n",
       "std    5.114089e+00  5.462843e+00  5.236397e+00   6.646676e+00   \n",
       "min    1.000000e+00  1.000000e+00  1.000000e+00   1.000000e+00   \n",
       "25%    2.000000e+00  2.000000e+00  2.000000e+00   2.000000e+00   \n",
       "50%    2.000000e+00  2.000000e+00  2.000000e+00   2.000000e+00   \n",
       "75%    2.000000e+00  2.000000e+00  2.000000e+00   2.000000e+00   \n",
       "max    9.800000e+01  9.800000e+01  9.800000e+01   9.800000e+01   \n",
       "\n",
       "       CARDIOVASCULAR       OBESITY  RENAL_CHRONIC       TOBACCO  \\\n",
       "count    1.048575e+06  1.048575e+06   1.048575e+06  1.048575e+06   \n",
       "mean     2.261810e+00  2.125176e+00   2.257180e+00  2.214333e+00   \n",
       "std      5.194850e+00  5.175445e+00   5.135354e+00  5.323097e+00   \n",
       "min      1.000000e+00  1.000000e+00   1.000000e+00  1.000000e+00   \n",
       "25%      2.000000e+00  2.000000e+00   2.000000e+00  2.000000e+00   \n",
       "50%      2.000000e+00  2.000000e+00   2.000000e+00  2.000000e+00   \n",
       "75%      2.000000e+00  2.000000e+00   2.000000e+00  2.000000e+00   \n",
       "max      9.800000e+01  9.800000e+01   9.800000e+01  9.800000e+01   \n",
       "\n",
       "       CLASSIFICATION_FINAL           ICU  \n",
       "count          1.048575e+06  1.048575e+06  \n",
       "mean           5.305653e+00  7.955397e+01  \n",
       "std            1.881165e+00  3.682307e+01  \n",
       "min            1.000000e+00  1.000000e+00  \n",
       "25%            3.000000e+00  9.700000e+01  \n",
       "50%            6.000000e+00  9.700000e+01  \n",
       "75%            7.000000e+00  9.700000e+01  \n",
       "max            7.000000e+00  9.900000e+01  "
      ]
     },
     "execution_count": 201,
     "metadata": {},
     "output_type": "execute_result"
    }
   ],
   "source": [
    "data.describe()"
   ]
  },
  {
   "cell_type": "markdown",
   "id": "32efa804",
   "metadata": {},
   "source": [
    "# Pré-Processamento"
   ]
  },
  {
   "cell_type": "markdown",
   "id": "80451854",
   "metadata": {},
   "source": [
    "Os valores 97, 98 e 99 são dados faltantes, segundo a página do Kaggle de onde os dados foram retirados. Ainda, as features booleanas estão indicadas com 1 para 'Sim' e 2 para 'Não', e, se a DATE_DIED for '9999-99-99', a pessoa não faleceu. Outro fato é que valores maiores que 4 em 'CLASSIFICATION FINAL' indicam ou que o paciente não possui covid ou que o teste foi inconclusivo.\n",
    "\n",
    "Vamos fazer as seguintes transformações com base nessas informações:\n",
    "\n",
    "- Criar a coluna DIED para indicar se a pessoa morreu ou não com base na presença de data de óbito.\n",
    "\n",
    "- Criar colunas de booleanos indicando se há ou não os valores de variáveis que possuem valores faltantes (casos em que há 97, 98 ou 99 na coluna, por exemplo).\n",
    "\n",
    "- Para todas as linhas em que 'SEX' for 2 (homem), trocar 'PREGNANT' por 0.\n",
    "\n",
    "- Trocar os valores 'mágicos' das colunas de booleanos para o valor mais comum na coluna.\n",
    "\n",
    "- Tratamento da feature 'CLASSIFICATION_FINAL'.\n",
    "\n",
    "- Scaling em todas as features e embaralhar os dados."
   ]
  },
  {
   "cell_type": "code",
   "execution_count": 202,
   "id": "a30de2ae",
   "metadata": {},
   "outputs": [],
   "source": [
    "boolean_features = ['PNEUMONIA', 'PREGNANT', 'DIABETES', 'COPD', 'ASTHMA', 'INMSUPR', 'HIPERTENSION',\n",
    "                   'CARDIOVASCULAR', 'RENAL_CHRONIC', 'OTHER_DISEASE', 'OBESITY', 'TOBACCO',\n",
    "                   'INTUBED', 'ICU']"
   ]
  },
  {
   "cell_type": "code",
   "execution_count": 203,
   "id": "b447d73f",
   "metadata": {
    "scrolled": true
   },
   "outputs": [
    {
     "data": {
      "text/html": [
       "<div>\n",
       "<style scoped>\n",
       "    .dataframe tbody tr th:only-of-type {\n",
       "        vertical-align: middle;\n",
       "    }\n",
       "\n",
       "    .dataframe tbody tr th {\n",
       "        vertical-align: top;\n",
       "    }\n",
       "\n",
       "    .dataframe thead th {\n",
       "        text-align: right;\n",
       "    }\n",
       "</style>\n",
       "<table border=\"1\" class=\"dataframe\">\n",
       "  <thead>\n",
       "    <tr style=\"text-align: right;\">\n",
       "      <th></th>\n",
       "      <th>PNEUMONIA</th>\n",
       "      <th>PREGNANT</th>\n",
       "      <th>DIABETES</th>\n",
       "      <th>COPD</th>\n",
       "      <th>ASTHMA</th>\n",
       "      <th>INMSUPR</th>\n",
       "      <th>HIPERTENSION</th>\n",
       "      <th>CARDIOVASCULAR</th>\n",
       "      <th>RENAL_CHRONIC</th>\n",
       "      <th>OTHER_DISEASE</th>\n",
       "      <th>OBESITY</th>\n",
       "      <th>TOBACCO</th>\n",
       "      <th>INTUBED</th>\n",
       "      <th>ICU</th>\n",
       "    </tr>\n",
       "  </thead>\n",
       "  <tbody>\n",
       "    <tr>\n",
       "      <th>0</th>\n",
       "      <td>1</td>\n",
       "      <td>2</td>\n",
       "      <td>2</td>\n",
       "      <td>2</td>\n",
       "      <td>2</td>\n",
       "      <td>2</td>\n",
       "      <td>1</td>\n",
       "      <td>2</td>\n",
       "      <td>2</td>\n",
       "      <td>2</td>\n",
       "      <td>2</td>\n",
       "      <td>2</td>\n",
       "      <td>97</td>\n",
       "      <td>97</td>\n",
       "    </tr>\n",
       "    <tr>\n",
       "      <th>1</th>\n",
       "      <td>1</td>\n",
       "      <td>97</td>\n",
       "      <td>2</td>\n",
       "      <td>2</td>\n",
       "      <td>2</td>\n",
       "      <td>2</td>\n",
       "      <td>1</td>\n",
       "      <td>2</td>\n",
       "      <td>1</td>\n",
       "      <td>2</td>\n",
       "      <td>1</td>\n",
       "      <td>2</td>\n",
       "      <td>97</td>\n",
       "      <td>97</td>\n",
       "    </tr>\n",
       "    <tr>\n",
       "      <th>2</th>\n",
       "      <td>2</td>\n",
       "      <td>97</td>\n",
       "      <td>1</td>\n",
       "      <td>2</td>\n",
       "      <td>2</td>\n",
       "      <td>2</td>\n",
       "      <td>2</td>\n",
       "      <td>2</td>\n",
       "      <td>2</td>\n",
       "      <td>2</td>\n",
       "      <td>2</td>\n",
       "      <td>2</td>\n",
       "      <td>1</td>\n",
       "      <td>2</td>\n",
       "    </tr>\n",
       "    <tr>\n",
       "      <th>3</th>\n",
       "      <td>2</td>\n",
       "      <td>2</td>\n",
       "      <td>2</td>\n",
       "      <td>2</td>\n",
       "      <td>2</td>\n",
       "      <td>2</td>\n",
       "      <td>2</td>\n",
       "      <td>2</td>\n",
       "      <td>2</td>\n",
       "      <td>2</td>\n",
       "      <td>2</td>\n",
       "      <td>2</td>\n",
       "      <td>97</td>\n",
       "      <td>97</td>\n",
       "    </tr>\n",
       "    <tr>\n",
       "      <th>4</th>\n",
       "      <td>2</td>\n",
       "      <td>97</td>\n",
       "      <td>1</td>\n",
       "      <td>2</td>\n",
       "      <td>2</td>\n",
       "      <td>2</td>\n",
       "      <td>1</td>\n",
       "      <td>2</td>\n",
       "      <td>2</td>\n",
       "      <td>2</td>\n",
       "      <td>2</td>\n",
       "      <td>2</td>\n",
       "      <td>97</td>\n",
       "      <td>97</td>\n",
       "    </tr>\n",
       "  </tbody>\n",
       "</table>\n",
       "</div>"
      ],
      "text/plain": [
       "   PNEUMONIA  PREGNANT  DIABETES  COPD  ASTHMA  INMSUPR  HIPERTENSION  \\\n",
       "0          1         2         2     2       2        2             1   \n",
       "1          1        97         2     2       2        2             1   \n",
       "2          2        97         1     2       2        2             2   \n",
       "3          2         2         2     2       2        2             2   \n",
       "4          2        97         1     2       2        2             1   \n",
       "\n",
       "   CARDIOVASCULAR  RENAL_CHRONIC  OTHER_DISEASE  OBESITY  TOBACCO  INTUBED  \\\n",
       "0               2              2              2        2        2       97   \n",
       "1               2              1              2        1        2       97   \n",
       "2               2              2              2        2        2        1   \n",
       "3               2              2              2        2        2       97   \n",
       "4               2              2              2        2        2       97   \n",
       "\n",
       "   ICU  \n",
       "0   97  \n",
       "1   97  \n",
       "2    2  \n",
       "3   97  \n",
       "4   97  "
      ]
     },
     "execution_count": 203,
     "metadata": {},
     "output_type": "execute_result"
    }
   ],
   "source": [
    "data[boolean_features].head()"
   ]
  },
  {
   "cell_type": "markdown",
   "id": "285f76d4",
   "metadata": {},
   "source": [
    "#### Criar a coluna DIED para indicar se a pessoa morreu ou não com base na presença de data de falecimento"
   ]
  },
  {
   "cell_type": "code",
   "execution_count": 204,
   "id": "a1e36b0c",
   "metadata": {},
   "outputs": [],
   "source": [
    "data1 = data.copy()\n",
    "data1.loc[data1['DATE_DIED'] == '9999-99-99', 'DIED'] = 2\n",
    "data1.loc[data1['DATE_DIED'] != '9999-99-99', 'DIED'] = 1"
   ]
  },
  {
   "cell_type": "code",
   "execution_count": 205,
   "id": "aa1905dd",
   "metadata": {
    "scrolled": true
   },
   "outputs": [
    {
     "data": {
      "text/html": [
       "<div>\n",
       "<style scoped>\n",
       "    .dataframe tbody tr th:only-of-type {\n",
       "        vertical-align: middle;\n",
       "    }\n",
       "\n",
       "    .dataframe tbody tr th {\n",
       "        vertical-align: top;\n",
       "    }\n",
       "\n",
       "    .dataframe thead th {\n",
       "        text-align: right;\n",
       "    }\n",
       "</style>\n",
       "<table border=\"1\" class=\"dataframe\">\n",
       "  <thead>\n",
       "    <tr style=\"text-align: right;\">\n",
       "      <th></th>\n",
       "      <th>DATE_DIED</th>\n",
       "      <th>DIED</th>\n",
       "    </tr>\n",
       "  </thead>\n",
       "  <tbody>\n",
       "    <tr>\n",
       "      <th>0</th>\n",
       "      <td>03/05/2020</td>\n",
       "      <td>1.0</td>\n",
       "    </tr>\n",
       "    <tr>\n",
       "      <th>1</th>\n",
       "      <td>03/06/2020</td>\n",
       "      <td>1.0</td>\n",
       "    </tr>\n",
       "    <tr>\n",
       "      <th>2</th>\n",
       "      <td>09/06/2020</td>\n",
       "      <td>1.0</td>\n",
       "    </tr>\n",
       "    <tr>\n",
       "      <th>3</th>\n",
       "      <td>12/06/2020</td>\n",
       "      <td>1.0</td>\n",
       "    </tr>\n",
       "    <tr>\n",
       "      <th>4</th>\n",
       "      <td>21/06/2020</td>\n",
       "      <td>1.0</td>\n",
       "    </tr>\n",
       "    <tr>\n",
       "      <th>5</th>\n",
       "      <td>9999-99-99</td>\n",
       "      <td>2.0</td>\n",
       "    </tr>\n",
       "  </tbody>\n",
       "</table>\n",
       "</div>"
      ],
      "text/plain": [
       "    DATE_DIED  DIED\n",
       "0  03/05/2020   1.0\n",
       "1  03/06/2020   1.0\n",
       "2  09/06/2020   1.0\n",
       "3  12/06/2020   1.0\n",
       "4  21/06/2020   1.0\n",
       "5  9999-99-99   2.0"
      ]
     },
     "execution_count": 205,
     "metadata": {},
     "output_type": "execute_result"
    }
   ],
   "source": [
    "data1[['DATE_DIED', 'DIED']].head(6)"
   ]
  },
  {
   "cell_type": "code",
   "execution_count": 206,
   "id": "e50da637",
   "metadata": {},
   "outputs": [],
   "source": [
    "label = 'DIED'"
   ]
  },
  {
   "cell_type": "markdown",
   "id": "f42ed8db",
   "metadata": {},
   "source": [
    "Retirando a coluna 'DATE_DIED':"
   ]
  },
  {
   "cell_type": "code",
   "execution_count": 207,
   "id": "8cda6694",
   "metadata": {},
   "outputs": [],
   "source": [
    "data1.drop(columns = ['DATE_DIED'], inplace = True)"
   ]
  },
  {
   "cell_type": "markdown",
   "id": "87677af5",
   "metadata": {},
   "source": [
    "#### Criar colunas de booleanos indicando se há ou não os valores de variáveis que possuem valores faltantes (casos em que há valores diferentes de 1 ou 2)"
   ]
  },
  {
   "cell_type": "code",
   "execution_count": 208,
   "id": "3c9668e4",
   "metadata": {},
   "outputs": [],
   "source": [
    "not_boolean_features = list(set(data1.columns).difference(boolean_features))"
   ]
  },
  {
   "cell_type": "code",
   "execution_count": 209,
   "id": "d62231d3",
   "metadata": {},
   "outputs": [
    {
     "data": {
      "text/plain": [
       "True"
      ]
     },
     "execution_count": 209,
     "metadata": {},
     "output_type": "execute_result"
    }
   ],
   "source": [
    "len(boolean_features) + len(not_boolean_features) == len(data1.columns)"
   ]
  },
  {
   "cell_type": "code",
   "execution_count": 210,
   "id": "692ff384",
   "metadata": {
    "scrolled": true
   },
   "outputs": [
    {
     "name": "stdout",
     "output_type": "stream",
     "text": [
      "7    499250\n",
      "3    381527\n",
      "6    128133\n",
      "5     26091\n",
      "1      8601\n",
      "4      3122\n",
      "2      1851\n",
      "Name: CLASSIFICATION_FINAL, dtype: int64\n",
      "1    525064\n",
      "2    523511\n",
      "Name: SEX, dtype: int64\n",
      "2    662903\n",
      "1    385672\n",
      "Name: USMER, dtype: int64\n",
      "30     27010\n",
      "31     25927\n",
      "28     25313\n",
      "29     25134\n",
      "34     24872\n",
      "       ...  \n",
      "114        2\n",
      "116        2\n",
      "111        1\n",
      "121        1\n",
      "113        1\n",
      "Name: AGE, Length: 121, dtype: int64\n",
      "2.0    971633\n",
      "1.0     76942\n",
      "Name: DIED, dtype: int64\n",
      "1    848544\n",
      "2    200031\n",
      "Name: PATIENT_TYPE, dtype: int64\n",
      "12    602995\n",
      "4     314405\n",
      "6      40584\n",
      "9      38116\n",
      "3      19175\n",
      "8      10399\n",
      "10      7873\n",
      "5       7244\n",
      "11      5577\n",
      "13       996\n",
      "7        891\n",
      "2        169\n",
      "1        151\n",
      "Name: MEDICAL_UNIT, dtype: int64\n"
     ]
    }
   ],
   "source": [
    "for feature in not_boolean_features:\n",
    "    print(data1[feature].value_counts())"
   ]
  },
  {
   "cell_type": "markdown",
   "id": "d8a64a01",
   "metadata": {},
   "source": [
    "Com o resultado acima, vemos que somente as features booleanas possuem a característica de que valores entre 97 e 99 indicam valores faltantes. Assim, podemos realizar o processo de Imputation + criação de coluna booleana somente nas features booleanas. E de fato, é o que faz sentido: as características do paciente elencadas nas variáveis não booleanas deverão ser adquiridas na maioria das vezes, pois são de mais fácil conhecimento.\n",
    "\n",
    "Logo, vamos fazer:"
   ]
  },
  {
   "cell_type": "code",
   "execution_count": 211,
   "id": "5eb78d1b",
   "metadata": {},
   "outputs": [],
   "source": [
    "data2 = data1.copy()\n",
    "for feature in boolean_features:\n",
    "    data2.loc[data2[feature] < 3, f'is_{feature}_defined'] = 1\n",
    "    data2.loc[data2[feature] >= 3, f'is_{feature}_defined'] = 2"
   ]
  },
  {
   "cell_type": "code",
   "execution_count": 212,
   "id": "69b89d1a",
   "metadata": {
    "scrolled": true
   },
   "outputs": [
    {
     "data": {
      "text/html": [
       "<div>\n",
       "<style scoped>\n",
       "    .dataframe tbody tr th:only-of-type {\n",
       "        vertical-align: middle;\n",
       "    }\n",
       "\n",
       "    .dataframe tbody tr th {\n",
       "        vertical-align: top;\n",
       "    }\n",
       "\n",
       "    .dataframe thead th {\n",
       "        text-align: right;\n",
       "    }\n",
       "</style>\n",
       "<table border=\"1\" class=\"dataframe\">\n",
       "  <thead>\n",
       "    <tr style=\"text-align: right;\">\n",
       "      <th></th>\n",
       "      <th>USMER</th>\n",
       "      <th>MEDICAL_UNIT</th>\n",
       "      <th>SEX</th>\n",
       "      <th>PATIENT_TYPE</th>\n",
       "      <th>INTUBED</th>\n",
       "      <th>PNEUMONIA</th>\n",
       "      <th>AGE</th>\n",
       "      <th>PREGNANT</th>\n",
       "      <th>DIABETES</th>\n",
       "      <th>COPD</th>\n",
       "      <th>...</th>\n",
       "      <th>is_ASTHMA_defined</th>\n",
       "      <th>is_INMSUPR_defined</th>\n",
       "      <th>is_HIPERTENSION_defined</th>\n",
       "      <th>is_CARDIOVASCULAR_defined</th>\n",
       "      <th>is_RENAL_CHRONIC_defined</th>\n",
       "      <th>is_OTHER_DISEASE_defined</th>\n",
       "      <th>is_OBESITY_defined</th>\n",
       "      <th>is_TOBACCO_defined</th>\n",
       "      <th>is_INTUBED_defined</th>\n",
       "      <th>is_ICU_defined</th>\n",
       "    </tr>\n",
       "  </thead>\n",
       "  <tbody>\n",
       "    <tr>\n",
       "      <th>0</th>\n",
       "      <td>2</td>\n",
       "      <td>1</td>\n",
       "      <td>1</td>\n",
       "      <td>1</td>\n",
       "      <td>97</td>\n",
       "      <td>1</td>\n",
       "      <td>65</td>\n",
       "      <td>2</td>\n",
       "      <td>2</td>\n",
       "      <td>2</td>\n",
       "      <td>...</td>\n",
       "      <td>1.0</td>\n",
       "      <td>1.0</td>\n",
       "      <td>1.0</td>\n",
       "      <td>1.0</td>\n",
       "      <td>1.0</td>\n",
       "      <td>1.0</td>\n",
       "      <td>1.0</td>\n",
       "      <td>1.0</td>\n",
       "      <td>2.0</td>\n",
       "      <td>2.0</td>\n",
       "    </tr>\n",
       "    <tr>\n",
       "      <th>1</th>\n",
       "      <td>2</td>\n",
       "      <td>1</td>\n",
       "      <td>2</td>\n",
       "      <td>1</td>\n",
       "      <td>97</td>\n",
       "      <td>1</td>\n",
       "      <td>72</td>\n",
       "      <td>97</td>\n",
       "      <td>2</td>\n",
       "      <td>2</td>\n",
       "      <td>...</td>\n",
       "      <td>1.0</td>\n",
       "      <td>1.0</td>\n",
       "      <td>1.0</td>\n",
       "      <td>1.0</td>\n",
       "      <td>1.0</td>\n",
       "      <td>1.0</td>\n",
       "      <td>1.0</td>\n",
       "      <td>1.0</td>\n",
       "      <td>2.0</td>\n",
       "      <td>2.0</td>\n",
       "    </tr>\n",
       "    <tr>\n",
       "      <th>2</th>\n",
       "      <td>2</td>\n",
       "      <td>1</td>\n",
       "      <td>2</td>\n",
       "      <td>2</td>\n",
       "      <td>1</td>\n",
       "      <td>2</td>\n",
       "      <td>55</td>\n",
       "      <td>97</td>\n",
       "      <td>1</td>\n",
       "      <td>2</td>\n",
       "      <td>...</td>\n",
       "      <td>1.0</td>\n",
       "      <td>1.0</td>\n",
       "      <td>1.0</td>\n",
       "      <td>1.0</td>\n",
       "      <td>1.0</td>\n",
       "      <td>1.0</td>\n",
       "      <td>1.0</td>\n",
       "      <td>1.0</td>\n",
       "      <td>1.0</td>\n",
       "      <td>1.0</td>\n",
       "    </tr>\n",
       "    <tr>\n",
       "      <th>3</th>\n",
       "      <td>2</td>\n",
       "      <td>1</td>\n",
       "      <td>1</td>\n",
       "      <td>1</td>\n",
       "      <td>97</td>\n",
       "      <td>2</td>\n",
       "      <td>53</td>\n",
       "      <td>2</td>\n",
       "      <td>2</td>\n",
       "      <td>2</td>\n",
       "      <td>...</td>\n",
       "      <td>1.0</td>\n",
       "      <td>1.0</td>\n",
       "      <td>1.0</td>\n",
       "      <td>1.0</td>\n",
       "      <td>1.0</td>\n",
       "      <td>1.0</td>\n",
       "      <td>1.0</td>\n",
       "      <td>1.0</td>\n",
       "      <td>2.0</td>\n",
       "      <td>2.0</td>\n",
       "    </tr>\n",
       "    <tr>\n",
       "      <th>4</th>\n",
       "      <td>2</td>\n",
       "      <td>1</td>\n",
       "      <td>2</td>\n",
       "      <td>1</td>\n",
       "      <td>97</td>\n",
       "      <td>2</td>\n",
       "      <td>68</td>\n",
       "      <td>97</td>\n",
       "      <td>1</td>\n",
       "      <td>2</td>\n",
       "      <td>...</td>\n",
       "      <td>1.0</td>\n",
       "      <td>1.0</td>\n",
       "      <td>1.0</td>\n",
       "      <td>1.0</td>\n",
       "      <td>1.0</td>\n",
       "      <td>1.0</td>\n",
       "      <td>1.0</td>\n",
       "      <td>1.0</td>\n",
       "      <td>2.0</td>\n",
       "      <td>2.0</td>\n",
       "    </tr>\n",
       "  </tbody>\n",
       "</table>\n",
       "<p>5 rows × 35 columns</p>\n",
       "</div>"
      ],
      "text/plain": [
       "   USMER  MEDICAL_UNIT  SEX  PATIENT_TYPE  INTUBED  PNEUMONIA  AGE  PREGNANT  \\\n",
       "0      2             1    1             1       97          1   65         2   \n",
       "1      2             1    2             1       97          1   72        97   \n",
       "2      2             1    2             2        1          2   55        97   \n",
       "3      2             1    1             1       97          2   53         2   \n",
       "4      2             1    2             1       97          2   68        97   \n",
       "\n",
       "   DIABETES  COPD  ...  is_ASTHMA_defined  is_INMSUPR_defined  \\\n",
       "0         2     2  ...                1.0                 1.0   \n",
       "1         2     2  ...                1.0                 1.0   \n",
       "2         1     2  ...                1.0                 1.0   \n",
       "3         2     2  ...                1.0                 1.0   \n",
       "4         1     2  ...                1.0                 1.0   \n",
       "\n",
       "   is_HIPERTENSION_defined  is_CARDIOVASCULAR_defined  \\\n",
       "0                      1.0                        1.0   \n",
       "1                      1.0                        1.0   \n",
       "2                      1.0                        1.0   \n",
       "3                      1.0                        1.0   \n",
       "4                      1.0                        1.0   \n",
       "\n",
       "   is_RENAL_CHRONIC_defined  is_OTHER_DISEASE_defined  is_OBESITY_defined  \\\n",
       "0                       1.0                       1.0                 1.0   \n",
       "1                       1.0                       1.0                 1.0   \n",
       "2                       1.0                       1.0                 1.0   \n",
       "3                       1.0                       1.0                 1.0   \n",
       "4                       1.0                       1.0                 1.0   \n",
       "\n",
       "   is_TOBACCO_defined  is_INTUBED_defined  is_ICU_defined  \n",
       "0                 1.0                 2.0             2.0  \n",
       "1                 1.0                 2.0             2.0  \n",
       "2                 1.0                 1.0             1.0  \n",
       "3                 1.0                 2.0             2.0  \n",
       "4                 1.0                 2.0             2.0  \n",
       "\n",
       "[5 rows x 35 columns]"
      ]
     },
     "execution_count": 212,
     "metadata": {},
     "output_type": "execute_result"
    }
   ],
   "source": [
    "data2.head()"
   ]
  },
  {
   "cell_type": "markdown",
   "id": "a91fcd20",
   "metadata": {},
   "source": [
    "#### Para todas as linhas em que 'SEX' for 2 (homem), trocar 'PREGNANT' por 0"
   ]
  },
  {
   "cell_type": "code",
   "execution_count": 213,
   "id": "a1c5a6fa",
   "metadata": {
    "scrolled": false
   },
   "outputs": [
    {
     "data": {
      "text/plain": [
       "97    523511\n",
       "2     513179\n",
       "1       8131\n",
       "98      3754\n",
       "Name: PREGNANT, dtype: int64"
      ]
     },
     "execution_count": 213,
     "metadata": {},
     "output_type": "execute_result"
    }
   ],
   "source": [
    "data2['PREGNANT'].value_counts()"
   ]
  },
  {
   "cell_type": "code",
   "execution_count": 214,
   "id": "88af423e",
   "metadata": {
    "scrolled": false
   },
   "outputs": [
    {
     "data": {
      "text/plain": [
       "1    525064\n",
       "2    523511\n",
       "Name: SEX, dtype: int64"
      ]
     },
     "execution_count": 214,
     "metadata": {},
     "output_type": "execute_result"
    }
   ],
   "source": [
    "data2['SEX'].value_counts()"
   ]
  },
  {
   "cell_type": "markdown",
   "id": "6d9e2968",
   "metadata": {},
   "source": [
    "Note então que 97 indica 'PREGNANT' indefinido, que é o caso dos homens. Enquanto isso, 98 indica que não temos essa informação para as mulheres."
   ]
  },
  {
   "cell_type": "code",
   "execution_count": 215,
   "id": "91c94936",
   "metadata": {},
   "outputs": [],
   "source": [
    "data3 = data2.copy()\n",
    "data3.loc[data3['SEX'] == 2, 'PREGNANT'] = 0"
   ]
  },
  {
   "cell_type": "code",
   "execution_count": 216,
   "id": "8d525b95",
   "metadata": {},
   "outputs": [
    {
     "data": {
      "text/plain": [
       "0     523511\n",
       "2     513179\n",
       "1       8131\n",
       "98      3754\n",
       "Name: PREGNANT, dtype: int64"
      ]
     },
     "execution_count": 216,
     "metadata": {},
     "output_type": "execute_result"
    }
   ],
   "source": [
    "data3['PREGNANT'].value_counts()"
   ]
  },
  {
   "cell_type": "markdown",
   "id": "3fd16e0f",
   "metadata": {},
   "source": [
    "#### Trocar os valores 'mágicos' das colunas de booleanos para o valor mais comum na coluna."
   ]
  },
  {
   "cell_type": "code",
   "execution_count": 217,
   "id": "fc56136f",
   "metadata": {
    "scrolled": true
   },
   "outputs": [
    {
     "data": {
      "text/plain": [
       "['PNEUMONIA',\n",
       " 'PREGNANT',\n",
       " 'DIABETES',\n",
       " 'COPD',\n",
       " 'ASTHMA',\n",
       " 'INMSUPR',\n",
       " 'HIPERTENSION',\n",
       " 'CARDIOVASCULAR',\n",
       " 'RENAL_CHRONIC',\n",
       " 'OTHER_DISEASE',\n",
       " 'OBESITY',\n",
       " 'TOBACCO',\n",
       " 'INTUBED',\n",
       " 'ICU']"
      ]
     },
     "execution_count": 217,
     "metadata": {},
     "output_type": "execute_result"
    }
   ],
   "source": [
    "boolean_features"
   ]
  },
  {
   "cell_type": "code",
   "execution_count": 218,
   "id": "4ddd9e0e",
   "metadata": {
    "scrolled": false
   },
   "outputs": [
    {
     "data": {
      "text/html": [
       "<div>\n",
       "<style scoped>\n",
       "    .dataframe tbody tr th:only-of-type {\n",
       "        vertical-align: middle;\n",
       "    }\n",
       "\n",
       "    .dataframe tbody tr th {\n",
       "        vertical-align: top;\n",
       "    }\n",
       "\n",
       "    .dataframe thead th {\n",
       "        text-align: right;\n",
       "    }\n",
       "</style>\n",
       "<table border=\"1\" class=\"dataframe\">\n",
       "  <thead>\n",
       "    <tr style=\"text-align: right;\">\n",
       "      <th></th>\n",
       "      <th>PNEUMONIA</th>\n",
       "      <th>PREGNANT</th>\n",
       "      <th>DIABETES</th>\n",
       "      <th>COPD</th>\n",
       "      <th>ASTHMA</th>\n",
       "      <th>INMSUPR</th>\n",
       "      <th>HIPERTENSION</th>\n",
       "      <th>CARDIOVASCULAR</th>\n",
       "      <th>RENAL_CHRONIC</th>\n",
       "      <th>OTHER_DISEASE</th>\n",
       "      <th>OBESITY</th>\n",
       "      <th>TOBACCO</th>\n",
       "      <th>INTUBED</th>\n",
       "      <th>ICU</th>\n",
       "    </tr>\n",
       "  </thead>\n",
       "  <tbody>\n",
       "    <tr>\n",
       "      <th>0</th>\n",
       "      <td>2</td>\n",
       "      <td>0</td>\n",
       "      <td>2</td>\n",
       "      <td>2</td>\n",
       "      <td>2</td>\n",
       "      <td>2</td>\n",
       "      <td>2</td>\n",
       "      <td>2</td>\n",
       "      <td>2</td>\n",
       "      <td>2</td>\n",
       "      <td>2</td>\n",
       "      <td>2</td>\n",
       "      <td>97</td>\n",
       "      <td>97</td>\n",
       "    </tr>\n",
       "  </tbody>\n",
       "</table>\n",
       "</div>"
      ],
      "text/plain": [
       "   PNEUMONIA  PREGNANT  DIABETES  COPD  ASTHMA  INMSUPR  HIPERTENSION  \\\n",
       "0          2         0         2     2       2        2             2   \n",
       "\n",
       "   CARDIOVASCULAR  RENAL_CHRONIC  OTHER_DISEASE  OBESITY  TOBACCO  INTUBED  \\\n",
       "0               2              2              2        2        2       97   \n",
       "\n",
       "   ICU  \n",
       "0   97  "
      ]
     },
     "execution_count": 218,
     "metadata": {},
     "output_type": "execute_result"
    }
   ],
   "source": [
    "# Valor mais comum de cada coluna\n",
    "data3[boolean_features].mode()"
   ]
  },
  {
   "cell_type": "code",
   "execution_count": 219,
   "id": "cf27459c",
   "metadata": {
    "scrolled": true
   },
   "outputs": [
    {
     "data": {
      "text/plain": [
       "2"
      ]
     },
     "execution_count": 219,
     "metadata": {},
     "output_type": "execute_result"
    }
   ],
   "source": [
    "# Valor mais comum da colona PNEUMONIA\n",
    "data3['PNEUMONIA'].mode()[0]"
   ]
  },
  {
   "cell_type": "code",
   "execution_count": 220,
   "id": "04a965b7",
   "metadata": {},
   "outputs": [
    {
     "name": "stdout",
     "output_type": "stream",
     "text": [
      "2     892534\n",
      "1     140038\n",
      "99     16003\n",
      "Name: PNEUMONIA, dtype: int64\n",
      "0     523511\n",
      "2     513179\n",
      "1       8131\n",
      "98      3754\n",
      "Name: PREGNANT, dtype: int64\n",
      "2     920248\n",
      "1     124989\n",
      "98      3338\n",
      "Name: DIABETES, dtype: int64\n",
      "2     1030510\n",
      "1       15062\n",
      "98       3003\n",
      "Name: COPD, dtype: int64\n",
      "2     1014024\n",
      "1       31572\n",
      "98       2979\n",
      "Name: ASTHMA, dtype: int64\n",
      "2     1031001\n",
      "1       14170\n",
      "98       3404\n",
      "Name: INMSUPR, dtype: int64\n",
      "2     882742\n",
      "1     162729\n",
      "98      3104\n",
      "Name: HIPERTENSION, dtype: int64\n",
      "2     1024730\n",
      "1       20769\n",
      "98       3076\n",
      "Name: CARDIOVASCULAR, dtype: int64\n",
      "2     1026665\n",
      "1       18904\n",
      "98       3006\n",
      "Name: RENAL_CHRONIC, dtype: int64\n",
      "2     1015490\n",
      "1       28040\n",
      "98       5045\n",
      "Name: OTHER_DISEASE, dtype: int64\n",
      "2     885727\n",
      "1     159816\n",
      "98      3032\n",
      "Name: OBESITY, dtype: int64\n",
      "2     960979\n",
      "1      84376\n",
      "98      3220\n",
      "Name: TOBACCO, dtype: int64\n",
      "97    848544\n",
      "2     159050\n",
      "1      33656\n",
      "99      7325\n",
      "Name: INTUBED, dtype: int64\n",
      "97    848544\n",
      "2     175685\n",
      "1      16858\n",
      "99      7488\n",
      "Name: ICU, dtype: int64\n"
     ]
    }
   ],
   "source": [
    "for feature in boolean_features:\n",
    "    print(data3[feature].value_counts())"
   ]
  },
  {
   "cell_type": "code",
   "execution_count": 221,
   "id": "fbacaf9b",
   "metadata": {
    "scrolled": true
   },
   "outputs": [
    {
     "data": {
      "text/plain": [
       "97    848544\n",
       "2     159050\n",
       "1      33656\n",
       "99      7325\n",
       "Name: INTUBED, dtype: int64"
      ]
     },
     "execution_count": 221,
     "metadata": {},
     "output_type": "execute_result"
    }
   ],
   "source": [
    "data['INTUBED'].value_counts()"
   ]
  },
  {
   "cell_type": "code",
   "execution_count": 222,
   "id": "f5f7433c",
   "metadata": {
    "scrolled": true
   },
   "outputs": [
    {
     "data": {
      "text/plain": [
       "97    848544\n",
       "2     175685\n",
       "1      16858\n",
       "99      7488\n",
       "Name: ICU, dtype: int64"
      ]
     },
     "execution_count": 222,
     "metadata": {},
     "output_type": "execute_result"
    }
   ],
   "source": [
    "data['ICU'].value_counts()"
   ]
  },
  {
   "cell_type": "markdown",
   "id": "e874cd7b",
   "metadata": {},
   "source": [
    "Somente nas colunas 'INTUBED' e 'ICU', os valores desconhecidos preponderam sobre os conhecidos. Nesse sentido, vamos substituir os valores desconhecidos em todas as outras colunas pela moda, mas, nessas duas, vamos criar um novo valor para definir essa situação de valor desconhecido - no caso - o valor 3.\n",
    "\n",
    "Nas outras colunas, trocamos os valores pela moda porque os valores desconhecidos são poucos em relação aos conhecidos. Assim, a correção da influência desses valores no modelo se dará pelas variáveis booleanas que criamos anteriormente, as quais indicam se o valor é conhecido ou não."
   ]
  },
  {
   "cell_type": "code",
   "execution_count": 223,
   "id": "3f7c775b",
   "metadata": {},
   "outputs": [],
   "source": [
    "data4 = data3.copy()\n",
    "for feature in boolean_features:\n",
    "    most_common = data4[feature].mode()[0]\n",
    "    data4.loc[data4[feature] >= 3, feature] = most_common"
   ]
  },
  {
   "cell_type": "code",
   "execution_count": 224,
   "id": "aa6ff3cb",
   "metadata": {},
   "outputs": [
    {
     "data": {
      "text/html": [
       "<div>\n",
       "<style scoped>\n",
       "    .dataframe tbody tr th:only-of-type {\n",
       "        vertical-align: middle;\n",
       "    }\n",
       "\n",
       "    .dataframe tbody tr th {\n",
       "        vertical-align: top;\n",
       "    }\n",
       "\n",
       "    .dataframe thead th {\n",
       "        text-align: right;\n",
       "    }\n",
       "</style>\n",
       "<table border=\"1\" class=\"dataframe\">\n",
       "  <thead>\n",
       "    <tr style=\"text-align: right;\">\n",
       "      <th></th>\n",
       "      <th>PNEUMONIA</th>\n",
       "      <th>PREGNANT</th>\n",
       "      <th>DIABETES</th>\n",
       "      <th>COPD</th>\n",
       "      <th>ASTHMA</th>\n",
       "      <th>INMSUPR</th>\n",
       "      <th>HIPERTENSION</th>\n",
       "      <th>CARDIOVASCULAR</th>\n",
       "      <th>RENAL_CHRONIC</th>\n",
       "      <th>OTHER_DISEASE</th>\n",
       "      <th>OBESITY</th>\n",
       "      <th>TOBACCO</th>\n",
       "      <th>INTUBED</th>\n",
       "      <th>ICU</th>\n",
       "    </tr>\n",
       "  </thead>\n",
       "  <tbody>\n",
       "    <tr>\n",
       "      <th>0</th>\n",
       "      <td>1</td>\n",
       "      <td>2</td>\n",
       "      <td>2</td>\n",
       "      <td>2</td>\n",
       "      <td>2</td>\n",
       "      <td>2</td>\n",
       "      <td>1</td>\n",
       "      <td>2</td>\n",
       "      <td>2</td>\n",
       "      <td>2</td>\n",
       "      <td>2</td>\n",
       "      <td>2</td>\n",
       "      <td>97</td>\n",
       "      <td>97</td>\n",
       "    </tr>\n",
       "    <tr>\n",
       "      <th>1</th>\n",
       "      <td>1</td>\n",
       "      <td>0</td>\n",
       "      <td>2</td>\n",
       "      <td>2</td>\n",
       "      <td>2</td>\n",
       "      <td>2</td>\n",
       "      <td>1</td>\n",
       "      <td>2</td>\n",
       "      <td>1</td>\n",
       "      <td>2</td>\n",
       "      <td>1</td>\n",
       "      <td>2</td>\n",
       "      <td>97</td>\n",
       "      <td>97</td>\n",
       "    </tr>\n",
       "    <tr>\n",
       "      <th>2</th>\n",
       "      <td>2</td>\n",
       "      <td>0</td>\n",
       "      <td>1</td>\n",
       "      <td>2</td>\n",
       "      <td>2</td>\n",
       "      <td>2</td>\n",
       "      <td>2</td>\n",
       "      <td>2</td>\n",
       "      <td>2</td>\n",
       "      <td>2</td>\n",
       "      <td>2</td>\n",
       "      <td>2</td>\n",
       "      <td>1</td>\n",
       "      <td>2</td>\n",
       "    </tr>\n",
       "    <tr>\n",
       "      <th>3</th>\n",
       "      <td>2</td>\n",
       "      <td>2</td>\n",
       "      <td>2</td>\n",
       "      <td>2</td>\n",
       "      <td>2</td>\n",
       "      <td>2</td>\n",
       "      <td>2</td>\n",
       "      <td>2</td>\n",
       "      <td>2</td>\n",
       "      <td>2</td>\n",
       "      <td>2</td>\n",
       "      <td>2</td>\n",
       "      <td>97</td>\n",
       "      <td>97</td>\n",
       "    </tr>\n",
       "    <tr>\n",
       "      <th>4</th>\n",
       "      <td>2</td>\n",
       "      <td>0</td>\n",
       "      <td>1</td>\n",
       "      <td>2</td>\n",
       "      <td>2</td>\n",
       "      <td>2</td>\n",
       "      <td>1</td>\n",
       "      <td>2</td>\n",
       "      <td>2</td>\n",
       "      <td>2</td>\n",
       "      <td>2</td>\n",
       "      <td>2</td>\n",
       "      <td>97</td>\n",
       "      <td>97</td>\n",
       "    </tr>\n",
       "  </tbody>\n",
       "</table>\n",
       "</div>"
      ],
      "text/plain": [
       "   PNEUMONIA  PREGNANT  DIABETES  COPD  ASTHMA  INMSUPR  HIPERTENSION  \\\n",
       "0          1         2         2     2       2        2             1   \n",
       "1          1         0         2     2       2        2             1   \n",
       "2          2         0         1     2       2        2             2   \n",
       "3          2         2         2     2       2        2             2   \n",
       "4          2         0         1     2       2        2             1   \n",
       "\n",
       "   CARDIOVASCULAR  RENAL_CHRONIC  OTHER_DISEASE  OBESITY  TOBACCO  INTUBED  \\\n",
       "0               2              2              2        2        2       97   \n",
       "1               2              1              2        1        2       97   \n",
       "2               2              2              2        2        2        1   \n",
       "3               2              2              2        2        2       97   \n",
       "4               2              2              2        2        2       97   \n",
       "\n",
       "   ICU  \n",
       "0   97  \n",
       "1   97  \n",
       "2    2  \n",
       "3   97  \n",
       "4   97  "
      ]
     },
     "execution_count": 224,
     "metadata": {},
     "output_type": "execute_result"
    }
   ],
   "source": [
    "data4[boolean_features].head()"
   ]
  },
  {
   "cell_type": "markdown",
   "id": "dc63cd74",
   "metadata": {},
   "source": [
    "Agora para 'INTUBED' e 'ICU':"
   ]
  },
  {
   "cell_type": "code",
   "execution_count": 225,
   "id": "dde96746",
   "metadata": {},
   "outputs": [],
   "source": [
    "data5 = data4.copy()\n",
    "more_nan_features = ['INTUBED', 'ICU']\n",
    "for feature in more_nan_features:\n",
    "    data5.loc[data5[feature] >= 3, feature] = 3"
   ]
  },
  {
   "cell_type": "code",
   "execution_count": 226,
   "id": "e52059c2",
   "metadata": {},
   "outputs": [
    {
     "data": {
      "text/html": [
       "<div>\n",
       "<style scoped>\n",
       "    .dataframe tbody tr th:only-of-type {\n",
       "        vertical-align: middle;\n",
       "    }\n",
       "\n",
       "    .dataframe tbody tr th {\n",
       "        vertical-align: top;\n",
       "    }\n",
       "\n",
       "    .dataframe thead th {\n",
       "        text-align: right;\n",
       "    }\n",
       "</style>\n",
       "<table border=\"1\" class=\"dataframe\">\n",
       "  <thead>\n",
       "    <tr style=\"text-align: right;\">\n",
       "      <th></th>\n",
       "      <th>PNEUMONIA</th>\n",
       "      <th>PREGNANT</th>\n",
       "      <th>DIABETES</th>\n",
       "      <th>COPD</th>\n",
       "      <th>ASTHMA</th>\n",
       "      <th>INMSUPR</th>\n",
       "      <th>HIPERTENSION</th>\n",
       "      <th>CARDIOVASCULAR</th>\n",
       "      <th>RENAL_CHRONIC</th>\n",
       "      <th>OTHER_DISEASE</th>\n",
       "      <th>OBESITY</th>\n",
       "      <th>TOBACCO</th>\n",
       "      <th>INTUBED</th>\n",
       "      <th>ICU</th>\n",
       "    </tr>\n",
       "  </thead>\n",
       "  <tbody>\n",
       "    <tr>\n",
       "      <th>0</th>\n",
       "      <td>1</td>\n",
       "      <td>2</td>\n",
       "      <td>2</td>\n",
       "      <td>2</td>\n",
       "      <td>2</td>\n",
       "      <td>2</td>\n",
       "      <td>1</td>\n",
       "      <td>2</td>\n",
       "      <td>2</td>\n",
       "      <td>2</td>\n",
       "      <td>2</td>\n",
       "      <td>2</td>\n",
       "      <td>3</td>\n",
       "      <td>3</td>\n",
       "    </tr>\n",
       "    <tr>\n",
       "      <th>1</th>\n",
       "      <td>1</td>\n",
       "      <td>0</td>\n",
       "      <td>2</td>\n",
       "      <td>2</td>\n",
       "      <td>2</td>\n",
       "      <td>2</td>\n",
       "      <td>1</td>\n",
       "      <td>2</td>\n",
       "      <td>1</td>\n",
       "      <td>2</td>\n",
       "      <td>1</td>\n",
       "      <td>2</td>\n",
       "      <td>3</td>\n",
       "      <td>3</td>\n",
       "    </tr>\n",
       "    <tr>\n",
       "      <th>2</th>\n",
       "      <td>2</td>\n",
       "      <td>0</td>\n",
       "      <td>1</td>\n",
       "      <td>2</td>\n",
       "      <td>2</td>\n",
       "      <td>2</td>\n",
       "      <td>2</td>\n",
       "      <td>2</td>\n",
       "      <td>2</td>\n",
       "      <td>2</td>\n",
       "      <td>2</td>\n",
       "      <td>2</td>\n",
       "      <td>1</td>\n",
       "      <td>2</td>\n",
       "    </tr>\n",
       "    <tr>\n",
       "      <th>3</th>\n",
       "      <td>2</td>\n",
       "      <td>2</td>\n",
       "      <td>2</td>\n",
       "      <td>2</td>\n",
       "      <td>2</td>\n",
       "      <td>2</td>\n",
       "      <td>2</td>\n",
       "      <td>2</td>\n",
       "      <td>2</td>\n",
       "      <td>2</td>\n",
       "      <td>2</td>\n",
       "      <td>2</td>\n",
       "      <td>3</td>\n",
       "      <td>3</td>\n",
       "    </tr>\n",
       "    <tr>\n",
       "      <th>4</th>\n",
       "      <td>2</td>\n",
       "      <td>0</td>\n",
       "      <td>1</td>\n",
       "      <td>2</td>\n",
       "      <td>2</td>\n",
       "      <td>2</td>\n",
       "      <td>1</td>\n",
       "      <td>2</td>\n",
       "      <td>2</td>\n",
       "      <td>2</td>\n",
       "      <td>2</td>\n",
       "      <td>2</td>\n",
       "      <td>3</td>\n",
       "      <td>3</td>\n",
       "    </tr>\n",
       "  </tbody>\n",
       "</table>\n",
       "</div>"
      ],
      "text/plain": [
       "   PNEUMONIA  PREGNANT  DIABETES  COPD  ASTHMA  INMSUPR  HIPERTENSION  \\\n",
       "0          1         2         2     2       2        2             1   \n",
       "1          1         0         2     2       2        2             1   \n",
       "2          2         0         1     2       2        2             2   \n",
       "3          2         2         2     2       2        2             2   \n",
       "4          2         0         1     2       2        2             1   \n",
       "\n",
       "   CARDIOVASCULAR  RENAL_CHRONIC  OTHER_DISEASE  OBESITY  TOBACCO  INTUBED  \\\n",
       "0               2              2              2        2        2        3   \n",
       "1               2              1              2        1        2        3   \n",
       "2               2              2              2        2        2        1   \n",
       "3               2              2              2        2        2        3   \n",
       "4               2              2              2        2        2        3   \n",
       "\n",
       "   ICU  \n",
       "0    3  \n",
       "1    3  \n",
       "2    2  \n",
       "3    3  \n",
       "4    3  "
      ]
     },
     "execution_count": 226,
     "metadata": {},
     "output_type": "execute_result"
    }
   ],
   "source": [
    "data5[boolean_features].head()"
   ]
  },
  {
   "cell_type": "markdown",
   "id": "5dc79c22",
   "metadata": {},
   "source": [
    "#### Tratamento da feature  'CLASSIFICATION_FINAL'"
   ]
  },
  {
   "cell_type": "code",
   "execution_count": 227,
   "id": "6aaaec4b",
   "metadata": {},
   "outputs": [
    {
     "data": {
      "text/plain": [
       "7    499250\n",
       "3    381527\n",
       "6    128133\n",
       "5     26091\n",
       "1      8601\n",
       "4      3122\n",
       "2      1851\n",
       "Name: CLASSIFICATION_FINAL, dtype: int64"
      ]
     },
     "execution_count": 227,
     "metadata": {},
     "output_type": "execute_result"
    }
   ],
   "source": [
    "data5['CLASSIFICATION_FINAL'].value_counts()"
   ]
  },
  {
   "cell_type": "markdown",
   "id": "765a9f46",
   "metadata": {},
   "source": [
    "Segundo a página do Kaggle: 'Values 1-3 mean that the patient was diagnosed with covid in different\n",
    "degrees. 4 or higher means that the patient is not a carrier of covid or that the test is inconclusive'. Como não sabemos qual valor maior que 4 representa qual situação, isso atrapalhará nas conclusões do modelo, caso modifiquemos diretamente os valores, já que o paciente ter o teste inconclusivo é diferente de ser de fato não portador de covid. No entanto, sabemos que um paciente com CLASSIFICATION_FINAL = 3 possui um grau elevado da doença, influenciando na sua probabilidade de óbito. Então, devemos separar o grau da doença da classificação final que foi dada ao paciente.\n",
    "\n",
    "Criaremos a coluna 'covid_degree'. Nela, para as pessoas efetivamente doentes, que consideraremos aquelas com valores de 1 a 3 em 'CLASSIFICATION_FINAL', os valores irão variar de 1 a 3, e para as outras o valor será 0 (consideramos então que todas as pessoas com testes inconclusivos estão saudáveis). Notemos da análise de mortes dessas pessoas, mostrada a seguir, que, de fato, a maior quantidade de pessoas com testes inconclusivos ou negativos para a doença não morreram, então não é um erro muito grande considerar os testes inconclusivos como testes negativos. "
   ]
  },
  {
   "cell_type": "code",
   "execution_count": 228,
   "id": "0b8ad435",
   "metadata": {},
   "outputs": [
    {
     "data": {
      "text/plain": [
       "2.0    633890\n",
       "1.0     22706\n",
       "Name: DIED, dtype: int64"
      ]
     },
     "execution_count": 228,
     "metadata": {},
     "output_type": "execute_result"
    }
   ],
   "source": [
    "data5[data5['CLASSIFICATION_FINAL'] >= 4]['DIED'].value_counts()"
   ]
  },
  {
   "cell_type": "code",
   "execution_count": 229,
   "id": "2f166588",
   "metadata": {},
   "outputs": [],
   "source": [
    "data6 = data5.copy()\n",
    "data6.loc[data6['CLASSIFICATION_FINAL'] >= 4, 'covid_degree'] = 0\n",
    "data6.loc[data6['CLASSIFICATION_FINAL'] < 4, 'covid_degree'] = data6['CLASSIFICATION_FINAL']"
   ]
  },
  {
   "cell_type": "code",
   "execution_count": 230,
   "id": "116dedae",
   "metadata": {},
   "outputs": [
    {
     "data": {
      "text/plain": [
       "0.0    633890\n",
       "3.0    330097\n",
       "1.0      7646\n",
       "Name: covid_degree, dtype: int64"
      ]
     },
     "execution_count": 230,
     "metadata": {},
     "output_type": "execute_result"
    }
   ],
   "source": [
    "data6[data6['DIED'] == 2]['covid_degree'].value_counts()"
   ]
  },
  {
   "cell_type": "code",
   "execution_count": 231,
   "id": "315c217c",
   "metadata": {
    "scrolled": true
   },
   "outputs": [
    {
     "data": {
      "text/plain": [
       "0.0    656596\n",
       "3.0    381527\n",
       "1.0      8601\n",
       "2.0      1851\n",
       "Name: covid_degree, dtype: int64"
      ]
     },
     "execution_count": 231,
     "metadata": {},
     "output_type": "execute_result"
    }
   ],
   "source": [
    "data6['covid_degree'].value_counts()"
   ]
  },
  {
   "cell_type": "markdown",
   "id": "19d6fab5",
   "metadata": {},
   "source": [
    "Por fim, eliminamos a coluna 'CLASSIFICATION_FINAL':"
   ]
  },
  {
   "cell_type": "code",
   "execution_count": 232,
   "id": "a09a594f",
   "metadata": {},
   "outputs": [],
   "source": [
    "data6.drop('CLASSIFICATION_FINAL', axis = 1, inplace = True)"
   ]
  },
  {
   "cell_type": "code",
   "execution_count": 233,
   "id": "abcb31af",
   "metadata": {},
   "outputs": [
    {
     "data": {
      "text/plain": [
       "2    941541\n",
       "1     30092\n",
       "Name: ASTHMA, dtype: int64"
      ]
     },
     "execution_count": 233,
     "metadata": {},
     "output_type": "execute_result"
    }
   ],
   "source": [
    "data6[data6['DIED'] == 2]['ASTHMA'].value_counts()"
   ]
  },
  {
   "cell_type": "code",
   "execution_count": 234,
   "id": "a4aabe0c",
   "metadata": {
    "scrolled": true
   },
   "outputs": [
    {
     "data": {
      "text/html": [
       "<div>\n",
       "<style scoped>\n",
       "    .dataframe tbody tr th:only-of-type {\n",
       "        vertical-align: middle;\n",
       "    }\n",
       "\n",
       "    .dataframe tbody tr th {\n",
       "        vertical-align: top;\n",
       "    }\n",
       "\n",
       "    .dataframe thead th {\n",
       "        text-align: right;\n",
       "    }\n",
       "</style>\n",
       "<table border=\"1\" class=\"dataframe\">\n",
       "  <thead>\n",
       "    <tr style=\"text-align: right;\">\n",
       "      <th></th>\n",
       "      <th>USMER</th>\n",
       "      <th>MEDICAL_UNIT</th>\n",
       "      <th>SEX</th>\n",
       "      <th>PATIENT_TYPE</th>\n",
       "      <th>INTUBED</th>\n",
       "      <th>PNEUMONIA</th>\n",
       "      <th>AGE</th>\n",
       "      <th>PREGNANT</th>\n",
       "      <th>DIABETES</th>\n",
       "      <th>COPD</th>\n",
       "      <th>...</th>\n",
       "      <th>is_INMSUPR_defined</th>\n",
       "      <th>is_HIPERTENSION_defined</th>\n",
       "      <th>is_CARDIOVASCULAR_defined</th>\n",
       "      <th>is_RENAL_CHRONIC_defined</th>\n",
       "      <th>is_OTHER_DISEASE_defined</th>\n",
       "      <th>is_OBESITY_defined</th>\n",
       "      <th>is_TOBACCO_defined</th>\n",
       "      <th>is_INTUBED_defined</th>\n",
       "      <th>is_ICU_defined</th>\n",
       "      <th>covid_degree</th>\n",
       "    </tr>\n",
       "  </thead>\n",
       "  <tbody>\n",
       "    <tr>\n",
       "      <th>0</th>\n",
       "      <td>2</td>\n",
       "      <td>1</td>\n",
       "      <td>1</td>\n",
       "      <td>1</td>\n",
       "      <td>3</td>\n",
       "      <td>1</td>\n",
       "      <td>65</td>\n",
       "      <td>2</td>\n",
       "      <td>2</td>\n",
       "      <td>2</td>\n",
       "      <td>...</td>\n",
       "      <td>1.0</td>\n",
       "      <td>1.0</td>\n",
       "      <td>1.0</td>\n",
       "      <td>1.0</td>\n",
       "      <td>1.0</td>\n",
       "      <td>1.0</td>\n",
       "      <td>1.0</td>\n",
       "      <td>2.0</td>\n",
       "      <td>2.0</td>\n",
       "      <td>3.0</td>\n",
       "    </tr>\n",
       "    <tr>\n",
       "      <th>1</th>\n",
       "      <td>2</td>\n",
       "      <td>1</td>\n",
       "      <td>2</td>\n",
       "      <td>1</td>\n",
       "      <td>3</td>\n",
       "      <td>1</td>\n",
       "      <td>72</td>\n",
       "      <td>0</td>\n",
       "      <td>2</td>\n",
       "      <td>2</td>\n",
       "      <td>...</td>\n",
       "      <td>1.0</td>\n",
       "      <td>1.0</td>\n",
       "      <td>1.0</td>\n",
       "      <td>1.0</td>\n",
       "      <td>1.0</td>\n",
       "      <td>1.0</td>\n",
       "      <td>1.0</td>\n",
       "      <td>2.0</td>\n",
       "      <td>2.0</td>\n",
       "      <td>0.0</td>\n",
       "    </tr>\n",
       "    <tr>\n",
       "      <th>2</th>\n",
       "      <td>2</td>\n",
       "      <td>1</td>\n",
       "      <td>2</td>\n",
       "      <td>2</td>\n",
       "      <td>1</td>\n",
       "      <td>2</td>\n",
       "      <td>55</td>\n",
       "      <td>0</td>\n",
       "      <td>1</td>\n",
       "      <td>2</td>\n",
       "      <td>...</td>\n",
       "      <td>1.0</td>\n",
       "      <td>1.0</td>\n",
       "      <td>1.0</td>\n",
       "      <td>1.0</td>\n",
       "      <td>1.0</td>\n",
       "      <td>1.0</td>\n",
       "      <td>1.0</td>\n",
       "      <td>1.0</td>\n",
       "      <td>1.0</td>\n",
       "      <td>3.0</td>\n",
       "    </tr>\n",
       "    <tr>\n",
       "      <th>3</th>\n",
       "      <td>2</td>\n",
       "      <td>1</td>\n",
       "      <td>1</td>\n",
       "      <td>1</td>\n",
       "      <td>3</td>\n",
       "      <td>2</td>\n",
       "      <td>53</td>\n",
       "      <td>2</td>\n",
       "      <td>2</td>\n",
       "      <td>2</td>\n",
       "      <td>...</td>\n",
       "      <td>1.0</td>\n",
       "      <td>1.0</td>\n",
       "      <td>1.0</td>\n",
       "      <td>1.0</td>\n",
       "      <td>1.0</td>\n",
       "      <td>1.0</td>\n",
       "      <td>1.0</td>\n",
       "      <td>2.0</td>\n",
       "      <td>2.0</td>\n",
       "      <td>0.0</td>\n",
       "    </tr>\n",
       "    <tr>\n",
       "      <th>4</th>\n",
       "      <td>2</td>\n",
       "      <td>1</td>\n",
       "      <td>2</td>\n",
       "      <td>1</td>\n",
       "      <td>3</td>\n",
       "      <td>2</td>\n",
       "      <td>68</td>\n",
       "      <td>0</td>\n",
       "      <td>1</td>\n",
       "      <td>2</td>\n",
       "      <td>...</td>\n",
       "      <td>1.0</td>\n",
       "      <td>1.0</td>\n",
       "      <td>1.0</td>\n",
       "      <td>1.0</td>\n",
       "      <td>1.0</td>\n",
       "      <td>1.0</td>\n",
       "      <td>1.0</td>\n",
       "      <td>2.0</td>\n",
       "      <td>2.0</td>\n",
       "      <td>3.0</td>\n",
       "    </tr>\n",
       "  </tbody>\n",
       "</table>\n",
       "<p>5 rows × 35 columns</p>\n",
       "</div>"
      ],
      "text/plain": [
       "   USMER  MEDICAL_UNIT  SEX  PATIENT_TYPE  INTUBED  PNEUMONIA  AGE  PREGNANT  \\\n",
       "0      2             1    1             1        3          1   65         2   \n",
       "1      2             1    2             1        3          1   72         0   \n",
       "2      2             1    2             2        1          2   55         0   \n",
       "3      2             1    1             1        3          2   53         2   \n",
       "4      2             1    2             1        3          2   68         0   \n",
       "\n",
       "   DIABETES  COPD  ...  is_INMSUPR_defined  is_HIPERTENSION_defined  \\\n",
       "0         2     2  ...                 1.0                      1.0   \n",
       "1         2     2  ...                 1.0                      1.0   \n",
       "2         1     2  ...                 1.0                      1.0   \n",
       "3         2     2  ...                 1.0                      1.0   \n",
       "4         1     2  ...                 1.0                      1.0   \n",
       "\n",
       "   is_CARDIOVASCULAR_defined  is_RENAL_CHRONIC_defined  \\\n",
       "0                        1.0                       1.0   \n",
       "1                        1.0                       1.0   \n",
       "2                        1.0                       1.0   \n",
       "3                        1.0                       1.0   \n",
       "4                        1.0                       1.0   \n",
       "\n",
       "   is_OTHER_DISEASE_defined  is_OBESITY_defined  is_TOBACCO_defined  \\\n",
       "0                       1.0                 1.0                 1.0   \n",
       "1                       1.0                 1.0                 1.0   \n",
       "2                       1.0                 1.0                 1.0   \n",
       "3                       1.0                 1.0                 1.0   \n",
       "4                       1.0                 1.0                 1.0   \n",
       "\n",
       "   is_INTUBED_defined  is_ICU_defined  covid_degree  \n",
       "0                 2.0             2.0           3.0  \n",
       "1                 2.0             2.0           0.0  \n",
       "2                 1.0             1.0           3.0  \n",
       "3                 2.0             2.0           0.0  \n",
       "4                 2.0             2.0           3.0  \n",
       "\n",
       "[5 rows x 35 columns]"
      ]
     },
     "execution_count": 234,
     "metadata": {},
     "output_type": "execute_result"
    }
   ],
   "source": [
    "data6.head()"
   ]
  },
  {
   "cell_type": "code",
   "execution_count": 235,
   "id": "2e9ab58e",
   "metadata": {
    "scrolled": true
   },
   "outputs": [
    {
     "data": {
      "text/plain": [
       "USMER                        0.112671\n",
       "MEDICAL_UNIT                 0.149030\n",
       "SEX                         -0.081383\n",
       "PATIENT_TYPE                -0.515582\n",
       "INTUBED                      0.588534\n",
       "PNEUMONIA                    0.469278\n",
       "AGE                         -0.320801\n",
       "PREGNANT                     0.078313\n",
       "DIABETES                     0.215516\n",
       "COPD                         0.089624\n",
       "ASTHMA                      -0.017907\n",
       "INMSUPR                      0.049993\n",
       "HIPERTENSION                 0.203231\n",
       "OTHER_DISEASE                0.056416\n",
       "CARDIOVASCULAR               0.076410\n",
       "OBESITY                      0.056649\n",
       "RENAL_CHRONIC                0.118744\n",
       "TOBACCO                      0.005441\n",
       "ICU                          0.507512\n",
       "DIED                         1.000000\n",
       "is_PNEUMONIA_defined         0.013135\n",
       "is_PREGNANT_defined         -0.079860\n",
       "is_DIABETES_defined         -0.031558\n",
       "is_COPD_defined             -0.033580\n",
       "is_ASTHMA_defined           -0.033355\n",
       "is_INMSUPR_defined          -0.032483\n",
       "is_HIPERTENSION_defined     -0.031118\n",
       "is_CARDIOVASCULAR_defined   -0.034306\n",
       "is_RENAL_CHRONIC_defined    -0.033001\n",
       "is_OTHER_DISEASE_defined    -0.035085\n",
       "is_OBESITY_defined          -0.033547\n",
       "is_TOBACCO_defined          -0.032305\n",
       "is_INTUBED_defined           0.508433\n",
       "is_ICU_defined               0.508600\n",
       "covid_degree                -0.188135\n",
       "Name: DIED, dtype: float64"
      ]
     },
     "execution_count": 235,
     "metadata": {},
     "output_type": "execute_result"
    }
   ],
   "source": [
    "data6.corr()['DIED']"
   ]
  },
  {
   "cell_type": "markdown",
   "id": "74e8c1d8",
   "metadata": {},
   "source": [
    "#### Scaling em todas as features e embaralhar os dados"
   ]
  },
  {
   "cell_type": "code",
   "execution_count": 236,
   "id": "3c5be39a",
   "metadata": {},
   "outputs": [],
   "source": [
    "def z_scale(feature):\n",
    "    std = feature.std()\n",
    "    mean = feature.mean()\n",
    "    return (feature - mean)/std\n",
    "\n",
    "def scale(feature):\n",
    "    minimum = min(feature)\n",
    "    maximum = max(feature)\n",
    "    return (feature - minimum)/(maximum - minimum)"
   ]
  },
  {
   "cell_type": "code",
   "execution_count": 237,
   "id": "298aab32",
   "metadata": {},
   "outputs": [],
   "source": [
    "def shuffle_data(data, random_state):\n",
    "    rand = np.random.RandomState(random_state)\n",
    "    return data.reindex(rand.permutation(data.index))"
   ]
  },
  {
   "cell_type": "code",
   "execution_count": 238,
   "id": "03795b70",
   "metadata": {},
   "outputs": [],
   "source": [
    "label = 'DIED'"
   ]
  },
  {
   "cell_type": "code",
   "execution_count": 239,
   "id": "6b6910b8",
   "metadata": {},
   "outputs": [],
   "source": [
    "features = list(set(data6.columns).difference({label}))"
   ]
  },
  {
   "cell_type": "code",
   "execution_count": 240,
   "id": "698d881c",
   "metadata": {},
   "outputs": [],
   "source": [
    "data7 = data6.copy()\n",
    "# Scaling\n",
    "for feature in features:\n",
    "    data7[feature] = scale(data7[feature])\n",
    "    \n",
    "# Shuffling\n",
    "data7 = shuffle_data(data7, 0)"
   ]
  },
  {
   "cell_type": "markdown",
   "id": "2efc0b2c",
   "metadata": {},
   "source": [
    "# Separando os Dados e Criando o Modelo"
   ]
  },
  {
   "cell_type": "markdown",
   "id": "758e5598",
   "metadata": {},
   "source": [
    "## Importando as funções"
   ]
  },
  {
   "cell_type": "code",
   "execution_count": 298,
   "id": "aeeaf00d",
   "metadata": {},
   "outputs": [],
   "source": [
    "from sklearn.model_selection import train_test_split\n",
    "from sklearn.linear_model import LogisticRegression\n",
    "from sklearn import metrics"
   ]
  },
  {
   "cell_type": "code",
   "execution_count": 299,
   "id": "2b9c286d",
   "metadata": {},
   "outputs": [],
   "source": [
    "X = data7[features]\n",
    "y = data7[label]"
   ]
  },
  {
   "cell_type": "code",
   "execution_count": 300,
   "id": "dd2a3c46",
   "metadata": {},
   "outputs": [],
   "source": [
    "X_train, X_test, y_train, y_test = train_test_split(X, y, test_size = 0.2, random_state = 0)"
   ]
  },
  {
   "cell_type": "code",
   "execution_count": 301,
   "id": "a7a2469c",
   "metadata": {},
   "outputs": [],
   "source": [
    "model = LogisticRegression(random_state = 0, max_iter = 1000)"
   ]
  },
  {
   "cell_type": "code",
   "execution_count": 302,
   "id": "6c378dfe",
   "metadata": {
    "scrolled": false
   },
   "outputs": [
    {
     "data": {
      "text/plain": [
       "LogisticRegression(max_iter=1000, random_state=0)"
      ]
     },
     "execution_count": 302,
     "metadata": {},
     "output_type": "execute_result"
    }
   ],
   "source": [
    "model.fit(X_train, y_train)"
   ]
  },
  {
   "cell_type": "markdown",
   "id": "cd7a1877",
   "metadata": {},
   "source": [
    "#### Threshold = 0.5 (default)"
   ]
  },
  {
   "cell_type": "code",
   "execution_count": 304,
   "id": "6f2ac4cf",
   "metadata": {},
   "outputs": [
    {
     "data": {
      "text/plain": [
       "array([[  7675,   7777],\n",
       "       [  3211, 191052]], dtype=int64)"
      ]
     },
     "execution_count": 304,
     "metadata": {},
     "output_type": "execute_result"
    }
   ],
   "source": [
    "init_y_pred = model.predict(X_test)\n",
    "init_cnf_matrix = metrics.confusion_matrix(y_test, init_y_pred)\n",
    "init_cnf_matrix"
   ]
  },
  {
   "cell_type": "code",
   "execution_count": 305,
   "id": "21b95c99",
   "metadata": {},
   "outputs": [
    {
     "name": "stdout",
     "output_type": "stream",
     "text": [
      "              precision    recall  f1-score   support\n",
      "\n",
      "         1.0       0.71      0.50      0.58     15452\n",
      "         2.0       0.96      0.98      0.97    194263\n",
      "\n",
      "    accuracy                           0.95    209715\n",
      "   macro avg       0.83      0.74      0.78    209715\n",
      "weighted avg       0.94      0.95      0.94    209715\n",
      "\n"
     ]
    }
   ],
   "source": [
    "print(metrics.classification_report(y_test, init_y_pred))"
   ]
  },
  {
   "cell_type": "markdown",
   "id": "5d56f573",
   "metadata": {},
   "source": [
    "## Analisando a performance do modelo"
   ]
  },
  {
   "cell_type": "code",
   "execution_count": 246,
   "id": "471995fa",
   "metadata": {
    "scrolled": true
   },
   "outputs": [
    {
     "data": {
      "text/plain": [
       "array([[8.11091313e-04, 9.99188909e-01],\n",
       "       [1.41920539e-02, 9.85807946e-01],\n",
       "       [5.90331588e-03, 9.94096684e-01],\n",
       "       ...,\n",
       "       [1.71370221e-03, 9.98286298e-01],\n",
       "       [4.59920677e-03, 9.95400793e-01],\n",
       "       [6.75926516e-03, 9.93240735e-01]])"
      ]
     },
     "execution_count": 246,
     "metadata": {},
     "output_type": "execute_result"
    }
   ],
   "source": [
    "model.predict_proba(X_test)"
   ]
  },
  {
   "cell_type": "code",
   "execution_count": 306,
   "id": "c9694079",
   "metadata": {},
   "outputs": [],
   "source": [
    "def custom_predict(ml_model, X_data, threshold):\n",
    "    probs = ml_model.predict_proba(X_data) \n",
    "    return (probs[:, 1] > threshold).astype(int) + 1 # Para corrigir o fato de estamos usando {1,2}."
   ]
  },
  {
   "cell_type": "code",
   "execution_count": 248,
   "id": "a84280f6",
   "metadata": {},
   "outputs": [],
   "source": [
    "y_pred = custom_predict(model, X_test, 0.81)\n",
    "y_pred_proba = model.predict_proba(X_test)[:, 1]"
   ]
  },
  {
   "cell_type": "code",
   "execution_count": 249,
   "id": "7556a9fd",
   "metadata": {
    "scrolled": true
   },
   "outputs": [
    {
     "data": {
      "text/plain": [
       "array([[ 12337,   3115],\n",
       "       [ 13190, 181073]], dtype=int64)"
      ]
     },
     "execution_count": 249,
     "metadata": {},
     "output_type": "execute_result"
    }
   ],
   "source": [
    "cnf_matrix = metrics.confusion_matrix(y_test, y_pred)\n",
    "cnf_matrix"
   ]
  },
  {
   "cell_type": "code",
   "execution_count": 250,
   "id": "85b8fe22",
   "metadata": {
    "scrolled": true
   },
   "outputs": [
    {
     "name": "stdout",
     "output_type": "stream",
     "text": [
      "              precision    recall  f1-score   support\n",
      "\n",
      "         1.0       0.48      0.80      0.60     15452\n",
      "         2.0       0.98      0.93      0.96    194263\n",
      "\n",
      "    accuracy                           0.92    209715\n",
      "   macro avg       0.73      0.87      0.78    209715\n",
      "weighted avg       0.95      0.92      0.93    209715\n",
      "\n"
     ]
    }
   ],
   "source": [
    "print(metrics.classification_report(y_test, y_pred))"
   ]
  },
  {
   "cell_type": "markdown",
   "id": "e9d11bed",
   "metadata": {},
   "source": [
    "Nesse caso, aumentar o threshold aumenta o recall do positivo. Isso acontece porque o valor 1, que representa o positivo, é menor que o valor 2, que representa o negativo, gerando um resultado contrário ao esperado."
   ]
  },
  {
   "cell_type": "code",
   "execution_count": 251,
   "id": "5e3bad1d",
   "metadata": {},
   "outputs": [
    {
     "data": {
      "text/plain": [
       "0.8652551645810982"
      ]
     },
     "execution_count": 251,
     "metadata": {},
     "output_type": "execute_result"
    }
   ],
   "source": [
    "metrics.roc_auc_score(y_test, y_pred)"
   ]
  },
  {
   "cell_type": "markdown",
   "id": "885c03c5",
   "metadata": {},
   "source": [
    "Tratamos a label como sendo binária no conjunto {1, 2}, com 1 significando 'Sim' e 2 significando 'Não'. E se modificássemos a label para o caso padrão, em que 0 significa 'Não' e 1 'Sim'?"
   ]
  },
  {
   "cell_type": "code",
   "execution_count": 280,
   "id": "c3e2d656",
   "metadata": {},
   "outputs": [],
   "source": [
    "def custom_predict2(ml_model, X_data, threshold):\n",
    "    probs = ml_model.predict_proba(X_data) \n",
    "    return (probs[:, 1] > threshold).astype(int)"
   ]
  },
  {
   "cell_type": "code",
   "execution_count": 274,
   "id": "a13656f2",
   "metadata": {},
   "outputs": [
    {
     "data": {
      "text/plain": [
       "875680     2.0\n",
       "1046906    2.0\n",
       "646861     2.0\n",
       "704385     2.0\n",
       "798051     2.0\n",
       "Name: DIED, dtype: float64"
      ]
     },
     "execution_count": 274,
     "metadata": {},
     "output_type": "execute_result"
    }
   ],
   "source": [
    "data7['DIED'].head()"
   ]
  },
  {
   "cell_type": "code",
   "execution_count": 275,
   "id": "707f3002",
   "metadata": {},
   "outputs": [],
   "source": [
    "data8 = data7.copy()\n",
    "data8.loc[data8['DIED'] == 2, 'DIED'] = 0"
   ]
  },
  {
   "cell_type": "code",
   "execution_count": 276,
   "id": "acfd4c0a",
   "metadata": {
    "scrolled": true
   },
   "outputs": [
    {
     "data": {
      "text/plain": [
       "USMER                       -0.112671\n",
       "MEDICAL_UNIT                -0.149030\n",
       "SEX                          0.081383\n",
       "PATIENT_TYPE                 0.515582\n",
       "INTUBED                     -0.588534\n",
       "PNEUMONIA                   -0.469278\n",
       "AGE                          0.320801\n",
       "PREGNANT                    -0.078313\n",
       "DIABETES                    -0.215516\n",
       "COPD                        -0.089624\n",
       "ASTHMA                       0.017907\n",
       "INMSUPR                     -0.049993\n",
       "HIPERTENSION                -0.203231\n",
       "OTHER_DISEASE               -0.056416\n",
       "CARDIOVASCULAR              -0.076410\n",
       "OBESITY                     -0.056649\n",
       "RENAL_CHRONIC               -0.118744\n",
       "TOBACCO                     -0.005441\n",
       "ICU                         -0.507512\n",
       "DIED                         1.000000\n",
       "is_PNEUMONIA_defined        -0.013135\n",
       "is_PREGNANT_defined          0.079860\n",
       "is_DIABETES_defined          0.031558\n",
       "is_COPD_defined              0.033580\n",
       "is_ASTHMA_defined            0.033355\n",
       "is_INMSUPR_defined           0.032483\n",
       "is_HIPERTENSION_defined      0.031118\n",
       "is_CARDIOVASCULAR_defined    0.034306\n",
       "is_RENAL_CHRONIC_defined     0.033001\n",
       "is_OTHER_DISEASE_defined     0.035085\n",
       "is_OBESITY_defined           0.033547\n",
       "is_TOBACCO_defined           0.032305\n",
       "is_INTUBED_defined          -0.508433\n",
       "is_ICU_defined              -0.508600\n",
       "covid_degree                 0.188135\n",
       "Name: DIED, dtype: float64"
      ]
     },
     "execution_count": 276,
     "metadata": {},
     "output_type": "execute_result"
    }
   ],
   "source": [
    "data8.corr()['DIED']"
   ]
  },
  {
   "cell_type": "markdown",
   "id": "f2efa03a",
   "metadata": {},
   "source": [
    "Os sinais das correlações mudaram, mas será que o resultado do modelo muda?"
   ]
  },
  {
   "cell_type": "code",
   "execution_count": 256,
   "id": "71051a1f",
   "metadata": {},
   "outputs": [],
   "source": [
    "X = data8[features]\n",
    "y = data8[label]"
   ]
  },
  {
   "cell_type": "code",
   "execution_count": 257,
   "id": "42050ee2",
   "metadata": {},
   "outputs": [],
   "source": [
    "X_train, X_test, y_train, y_test = train_test_split(X, y, test_size = 0.2, random_state = 0)"
   ]
  },
  {
   "cell_type": "code",
   "execution_count": 258,
   "id": "ab3ff40a",
   "metadata": {},
   "outputs": [],
   "source": [
    "model2 = LogisticRegression(random_state = 0, max_iter = 1000)"
   ]
  },
  {
   "cell_type": "code",
   "execution_count": 259,
   "id": "5db945df",
   "metadata": {},
   "outputs": [
    {
     "data": {
      "text/plain": [
       "LogisticRegression(max_iter=1000, random_state=0)"
      ]
     },
     "execution_count": 259,
     "metadata": {},
     "output_type": "execute_result"
    }
   ],
   "source": [
    "model2.fit(X_train, y_train)"
   ]
  },
  {
   "cell_type": "code",
   "execution_count": 292,
   "id": "f1730150",
   "metadata": {
    "scrolled": true
   },
   "outputs": [],
   "source": [
    "y_pred2 = custom_predict2(model2, X_test, 0.19) # 0.81 + 0.19 = 1.00"
   ]
  },
  {
   "cell_type": "code",
   "execution_count": 293,
   "id": "43a6a456",
   "metadata": {
    "scrolled": true
   },
   "outputs": [
    {
     "data": {
      "text/plain": [
       "array([0, 0, 0, ..., 0, 0, 0])"
      ]
     },
     "execution_count": 293,
     "metadata": {},
     "output_type": "execute_result"
    }
   ],
   "source": [
    "y_pred2"
   ]
  },
  {
   "cell_type": "code",
   "execution_count": 294,
   "id": "69041cfa",
   "metadata": {},
   "outputs": [
    {
     "data": {
      "text/plain": [
       "array([[181073,  13190],\n",
       "       [  3115,  12337]], dtype=int64)"
      ]
     },
     "execution_count": 294,
     "metadata": {},
     "output_type": "execute_result"
    }
   ],
   "source": [
    "cnf_matrix2 = metrics.confusion_matrix(y_test, y_pred2)\n",
    "cnf_matrix2"
   ]
  },
  {
   "cell_type": "code",
   "execution_count": 295,
   "id": "75a32fd3",
   "metadata": {
    "scrolled": true
   },
   "outputs": [
    {
     "name": "stdout",
     "output_type": "stream",
     "text": [
      "              precision    recall  f1-score   support\n",
      "\n",
      "         0.0       0.98      0.93      0.96    194263\n",
      "         1.0       0.48      0.80      0.60     15452\n",
      "\n",
      "    accuracy                           0.92    209715\n",
      "   macro avg       0.73      0.87      0.78    209715\n",
      "weighted avg       0.95      0.92      0.93    209715\n",
      "\n"
     ]
    }
   ],
   "source": [
    "print(metrics.classification_report(y_test, y_pred2))"
   ]
  },
  {
   "cell_type": "code",
   "execution_count": 297,
   "id": "e46a2e53",
   "metadata": {},
   "outputs": [
    {
     "data": {
      "text/plain": [
       "0.8652551645810981"
      ]
     },
     "execution_count": 297,
     "metadata": {},
     "output_type": "execute_result"
    }
   ],
   "source": [
    "metrics.roc_auc_score(y_test, y_pred2)"
   ]
  },
  {
   "cell_type": "markdown",
   "id": "9d5293d4",
   "metadata": {},
   "source": [
    "O resultado final não muda! Isso acontece porque, depois da convergência do modelo, temos valores de pesos que se adaptam à forma como os dados são representados devido ao fato de estarmos sempre minimizando a mesma função, a log loss. Além disso, no caso de chamarmos o método 'predict' do modelo, a biblioteca sklearn já possui uma forma de corrigir o resultado da predição para diferentes valores binários de label que possamos colocar. No fim, o que importa são as probabilidades geradas pela função de ativação (sigmoid) no interior do modelo (que são as mesmas em ambos) e o significado de cada número ligado a uma classificação: no primeiro modelo, 1 significa 'Positivo' e 2 significa 'Negativo'; por sua vez, no segundo modelo, 0 significa 'Negativo' e 1 significa 'Positivo'."
   ]
  },
  {
   "cell_type": "markdown",
   "id": "ac17bd67",
   "metadata": {},
   "source": [
    "#### Boas práticas\n",
    "\n",
    "Em termos de boas práticas, é melhor utilizar a seguinte convenção para a label de um modelo de classificação como a Regressão Logística: \n",
    "\n",
    "- 0 significa 'Negativo' e \n",
    "- 1 significa 'Positivo'\n",
    "\n",
    "Isso facilita o entendimento do código e das relações entre features e labels, além de facilitar a convergência  do modelo por parte da label. Nesse sentido, também é útil utilizar a mesma convenção para as features binárias."
   ]
  }
 ],
 "metadata": {
  "kernelspec": {
   "display_name": "Python 3 (ipykernel)",
   "language": "python",
   "name": "python3"
  },
  "language_info": {
   "codemirror_mode": {
    "name": "ipython",
    "version": 3
   },
   "file_extension": ".py",
   "mimetype": "text/x-python",
   "name": "python",
   "nbconvert_exporter": "python",
   "pygments_lexer": "ipython3",
   "version": "3.9.7"
  }
 },
 "nbformat": 4,
 "nbformat_minor": 5
}
