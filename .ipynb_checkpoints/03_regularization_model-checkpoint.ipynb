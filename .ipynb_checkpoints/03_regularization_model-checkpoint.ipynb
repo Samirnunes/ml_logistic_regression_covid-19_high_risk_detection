{
 "cells": [
  {
   "cell_type": "markdown",
   "id": "7a0930eb",
   "metadata": {},
   "source": [
    "## Bibliotecas"
   ]
  },
  {
   "cell_type": "code",
   "execution_count": 43,
   "id": "b6272481",
   "metadata": {},
   "outputs": [],
   "source": [
    "import pandas as pd\n",
    "import numpy as np\n",
    "import matplotlib.pyplot as plt"
   ]
  },
  {
   "cell_type": "markdown",
   "id": "72c55414",
   "metadata": {},
   "source": [
    "## Importando o dataset"
   ]
  },
  {
   "cell_type": "code",
   "execution_count": 44,
   "id": "bee9c893",
   "metadata": {},
   "outputs": [],
   "source": [
    "data = pd.read_csv('adm_data.csv')\n",
    "data.rename(columns = {'Chance of Admit ': 'Chance of Admit'}, inplace = True)\n",
    "data.rename(columns = {'LOR ': 'LOR'}, inplace = True)"
   ]
  },
  {
   "cell_type": "code",
   "execution_count": 45,
   "id": "b7544dc2",
   "metadata": {},
   "outputs": [],
   "source": [
    "features = ['GRE Score', 'TOEFL Score', 'University Rating', 'SOP', 'LOR', 'CGPA', 'Research']\n",
    "label = 'Chance of Admit'"
   ]
  },
  {
   "cell_type": "markdown",
   "id": "6dee6bd6",
   "metadata": {},
   "source": [
    "## Modelo com Regularização para Complexidade\n",
    "\n",
    "Iremos modificar o modelo implementado anteriormente e adicionar o termo de complexidade à função de custo, definindo-o pela fórmula de regularização $L_{2}$ ($L_{2}$ Regularization formula). Tal termo é dado por:\n",
    "\n",
    "$L_{2}$ regularization term = $ \\sum_{i = 1}^{m} w_{i}^{2}$\n",
    "\n",
    "Definimos $\\lambda$ como o coeficiente de regularização, um hiperparâmetro do modelo que multiplica a função de complexidade. Quanto maior $\\lambda$, maior o efeito de regularização na complexidade, isto é, mais penalizados os pesos muito grandes nas features são. Dessa forma, a nova função que se quer minimizar no modelo é dada por:\n",
    "\n",
    "$f(\\theta)$ = Loss + $\\lambda$ Complexity = $\\frac{1}{n} \\sum_{i = 1}^{n} (\\hat{y}_{i} - y_{i})^{2} + \\lambda \\sum_{i = 1}^{m} w_{i}^{2}$\n",
    "\n",
    "cujas derivadas parciais são dadas por:\n",
    "\n",
    "$\\frac{\\partial f}{\\partial w_{k}} = \\frac{2}{n}\\sum_{i = 1}^{n} (\\hat{y}_{i} - y_{i}) \\cdot (x_{k})_{i} + 2\\lambda w_{k}$, para toda feature $x_{k}$ com peso $w_{k}$.\n",
    "\n",
    "$\\frac{\\partial f}{\\partial b} = \\frac{2}{n}\\sum_{i = 1}^{n} (\\hat{y}_{i} - y_{i})$\n",
    "\n",
    "Assim, obtemos os novos valores do peso e do viés após uma iteração:\n",
    "\n",
    "$w_{k}' = (1 - 2 \\alpha \\lambda)\\;w_{k} - \\frac{2 \\alpha}{n}\\sum_{i = 1}^{n} (\\hat{y}_{i} - y_{i}) \\cdot (x_{k})_{i}$, para toda feature $x_{k}$ com peso $w_{k}$.\n",
    "\n",
    "\n",
    "$b' = b - \\frac{2 \\alpha}{n}\\sum_{i = 1}^{n} (\\hat{y}_{i} - y_{i})$"
   ]
  },
  {
   "cell_type": "markdown",
   "id": "a9a0082c",
   "metadata": {},
   "source": [
    "### Implementação"
   ]
  },
  {
   "cell_type": "code",
   "execution_count": 46,
   "id": "a2565997",
   "metadata": {},
   "outputs": [],
   "source": [
    "class Regularization_Linear_Regression_Model():\n",
    "    def __init__(self, features, label, ws: list,\n",
    "                 b = 0, alpha = 0.1, lambda_reg = 0.1, random_state = 0):\n",
    "        self.features = features\n",
    "        self.label = label\n",
    "        for i in range(0, len(ws)):\n",
    "            ws[i] = float(ws[i])\n",
    "        self.ws = np.array(ws) # weights\n",
    "        self.b = b\n",
    "        self.alpha = alpha\n",
    "        self.lambda_reg = lambda_reg\n",
    "        self.rand = np.random.RandomState(random_state)\n",
    "        \n",
    "    def print_parameters(self):\n",
    "        for i in range(1, len(self.ws) + 1):\n",
    "            print(f'w{i} = {self.ws[i - 1]}')\n",
    "        print (f'b = {self.b}')\n",
    "        \n",
    "    def get_parameters(self):\n",
    "        i_vals = list(range(1, len(self.ws) + 1))\n",
    "        parameters = {f'w{i}': self.ws[i - 1] for i in i_vals}\n",
    "        parameters['b'] = self.b\n",
    "        return parameters\n",
    "        \n",
    "    def get_single_prediction(self, xs: list):\n",
    "        '''Get the prediction for a list with all the features' values.'''\n",
    "        for i in range(0, len(xs)):\n",
    "            xs[i] = float(xs[i])\n",
    "        xs = np.array(xs)\n",
    "        pred = np.dot(self.ws, xs) + self.b\n",
    "        return pred\n",
    "    \n",
    "    def predict(self, X_test):\n",
    "        n = len(X_test)\n",
    "        predictions = np.zeros(n)\n",
    "        for i in range(0, n):\n",
    "            xs = list(X_test.iloc[i])\n",
    "            predictions[i] += self.get_single_prediction(xs)\n",
    "        return predictions\n",
    "    \n",
    "    def get_loss(self, X_test, y_test):\n",
    "        n = len(X_test)\n",
    "        predictions = self.predict(X_test)\n",
    "        diff = predictions - y_test\n",
    "        loss = (1/n)*np.dot(diff, diff)\n",
    "        return loss\n",
    "    \n",
    "    def get_complexity(self):\n",
    "        return np.dot(self.ws, self.ws)\n",
    "    \n",
    "    def get_structural_risk(self, X_test, y_test):\n",
    "        return self.get_loss(X_test, y_test) + self.lambda_reg * self.get_complexity()\n",
    "               \n",
    "    def sgd_update_parameters(self, batch_size: int):\n",
    "        n = len(self.label)\n",
    "        index_list = list(range(0, n))\n",
    "        random_indices = self.rand.choice(index_list, size = batch_size, replace = True) # bootstrap sample\n",
    "        xs_sample = list()\n",
    "        y_sample = np.array(self.label.iloc[random_indices])\n",
    "        preds_sample = np.zeros(batch_size)\n",
    "        for i in range(0, batch_size):\n",
    "            xs = list(self.features.iloc[random_indices[i]])\n",
    "            preds_sample[i] += self.get_single_prediction(xs)\n",
    "        for col in self.features:\n",
    "            xs_sample.append(np.array(self.features[col].iloc[random_indices])) # len(xs_sample) = len(self.ws)\n",
    "        diff_sample = preds_sample - y_sample\n",
    "        partial_w = np.zeros(len(self.ws))\n",
    "        for i in range(0, len(self.ws)):\n",
    "            partial_w[i] += (2/batch_size) * np.dot(diff_sample, xs_sample[i]) + 2*self.lambda_reg*self.ws[i]\n",
    "        partial_b = (2/batch_size) * np.sum(diff_sample)\n",
    "        self.ws -= self.alpha * partial_w\n",
    "        self.b -= self.alpha * partial_b\n",
    "        \n",
    "    def sgd(self, iterations: int, batch_size: float, print_loss: bool): # stochastic gradient descent\n",
    "        for i in range(0, iterations):\n",
    "            self.sgd_update_parameters(batch_size)\n",
    "            if print_loss:\n",
    "                print(f'loss = {self.get_loss(self.features, self.label)}')\n",
    "    \n",
    "    @staticmethod\n",
    "    def shuffle_data(data, random_state):\n",
    "        rand = np.random.RandomState(random_state)\n",
    "        return data.reindex(rand.permutation(data.index))\n",
    "    \n",
    "    @staticmethod\n",
    "    def train_val_test_split(data, test_split: float, val_split: float):\n",
    "        '''Get train, validation and test dataframes from data.'''\n",
    "        n = len(data)\n",
    "        test_size = int(test_split * n)\n",
    "        val_size = int(val_split * n)\n",
    "        test_data = data.iloc[list(range(0, test_size))]\n",
    "        val_data = data.iloc[list(range(test_size, test_size + val_size))]\n",
    "        train_data = data.iloc[list(range(test_size + val_size, n))]\n",
    "        return train_data, val_data, test_data"
   ]
  },
  {
   "cell_type": "markdown",
   "id": "03e4fd84",
   "metadata": {},
   "source": [
    "## Shuffling and Split"
   ]
  },
  {
   "cell_type": "code",
   "execution_count": 47,
   "id": "4bd4a9c5",
   "metadata": {},
   "outputs": [],
   "source": [
    "random_state = 0\n",
    "data_shuffled = Regularization_Linear_Regression_Model.shuffle_data(data, random_state = random_state)"
   ]
  },
  {
   "cell_type": "code",
   "execution_count": 48,
   "id": "4483b0f6",
   "metadata": {},
   "outputs": [],
   "source": [
    "train_data, val_data, test_data = Regularization_Linear_Regression_Model.train_val_test_split(data_shuffled, test_split = 0.2, val_split = 0.2)"
   ]
  },
  {
   "cell_type": "markdown",
   "id": "d8e5994c",
   "metadata": {},
   "source": [
    "# Pre-Processing"
   ]
  },
  {
   "cell_type": "markdown",
   "id": "ca540cd9",
   "metadata": {},
   "source": [
    "#### Obs: o pré-processamento deve vir depois do processo de split, para evitar adicionar viés aos dados de teste por influência dos dados de treino."
   ]
  },
  {
   "cell_type": "markdown",
   "id": "b93ef0ce",
   "metadata": {},
   "source": [
    "### Mudando a escala dos dados para [0, 1]\n",
    "\n",
    "Transformaremos [min, max] -> [0, 1] para cada coluna."
   ]
  },
  {
   "cell_type": "code",
   "execution_count": 49,
   "id": "9e0576b2",
   "metadata": {},
   "outputs": [],
   "source": [
    "def scale(feature):\n",
    "    minimum = min(feature)\n",
    "    maximum = max(feature)\n",
    "    return feature.apply(lambda x: (x-minimum)/(maximum - minimum))"
   ]
  },
  {
   "cell_type": "code",
   "execution_count": 50,
   "id": "59d4c3f0",
   "metadata": {},
   "outputs": [],
   "source": [
    "train_data_scaled = train_data.copy()\n",
    "val_data_scaled = val_data.copy()\n",
    "test_data_scaled = test_data.copy()\n",
    "for feature in features:\n",
    "    train_data_scaled[feature] = scale(train_data_scaled[feature])\n",
    "    val_data_scaled[feature] = scale(val_data_scaled[feature])\n",
    "    test_data_scaled[feature] = scale(test_data_scaled[feature])"
   ]
  },
  {
   "cell_type": "markdown",
   "id": "949825b0",
   "metadata": {},
   "source": [
    "# Training"
   ]
  },
  {
   "cell_type": "markdown",
   "id": "4fc4af98",
   "metadata": {},
   "source": [
    "### Vamos variar valores de lambda de 0 a 1 para verificar o que acontece com o custo e com a complexidade do modelo, mantendo os outros parâmetros constantes."
   ]
  },
  {
   "cell_type": "code",
   "execution_count": 51,
   "id": "d49185bb",
   "metadata": {},
   "outputs": [],
   "source": [
    "lambda_reg_vals = np.arange(0, 1.1, 0.1)"
   ]
  },
  {
   "cell_type": "code",
   "execution_count": 52,
   "id": "537c5e62",
   "metadata": {},
   "outputs": [
    {
     "data": {
      "text/plain": [
       "array([0. , 0.1, 0.2, 0.3, 0.4, 0.5, 0.6, 0.7, 0.8, 0.9, 1. ])"
      ]
     },
     "execution_count": 52,
     "metadata": {},
     "output_type": "execute_result"
    }
   ],
   "source": [
    "lambda_reg_vals"
   ]
  },
  {
   "cell_type": "code",
   "execution_count": 53,
   "id": "c618b6c9",
   "metadata": {},
   "outputs": [],
   "source": [
    "ws = list(np.zeros(len(features)))\n",
    "b = 0\n",
    "alpha = 0.1\n",
    "models = []\n",
    "for lambda_reg in lambda_reg_vals:\n",
    "    model = Regularization_Linear_Regression_Model(features = train_data_scaled[features], label = train_data_scaled[label]\n",
    "                                        , ws = ws, b = b, alpha = alpha, lambda_reg = lambda_reg,\n",
    "                                        random_state = random_state)\n",
    "    model.sgd(iterations = 100, batch_size = 10, print_loss = False)\n",
    "    models.append(model)"
   ]
  },
  {
   "cell_type": "code",
   "execution_count": 54,
   "id": "d9e2689f",
   "metadata": {},
   "outputs": [],
   "source": [
    "n = len(lambda_reg_vals)\n",
    "i_vals = list(range(n))\n",
    "lambda_row = {f'Model {i}': model.lambda_reg for (i, model) in zip(i_vals, models)}"
   ]
  },
  {
   "cell_type": "code",
   "execution_count": 55,
   "id": "f9380ba5",
   "metadata": {},
   "outputs": [],
   "source": [
    "df_models = pd.DataFrame([lambda_row])\n",
    "training_loss_row = {f'Model {i}': model.get_loss(train_data_scaled[features], train_data_scaled[label]) for (i, model) in zip(i_vals, models)}\n",
    "val_loss_row = {f'Model {i}': model.get_loss(val_data_scaled[features], val_data_scaled[label]) for (i, model) in zip(i_vals, models)}\n",
    "test_loss_row = {f'Model {i}': model.get_loss(test_data_scaled[features], test_data_scaled[label]) for (i, model) in zip(i_vals, models)}\n",
    "complexity_row = {f'Model {i}': model.get_complexity() for (i, model) in zip(i_vals, models)}\n",
    "\n",
    "df_models = df_models.append(training_loss_row, ignore_index = True)\n",
    "df_models = df_models.append(val_loss_row, ignore_index = True)\n",
    "df_models = df_models.append(test_loss_row, ignore_index = True)\n",
    "df_models = df_models.append(complexity_row, ignore_index = True)\n",
    "df_models = df_models.rename(index ={0: 'Lambda', 1: 'Training Loss', 2: 'Validation Loss', 3: 'Test Loss', 4: 'Complexity'})"
   ]
  },
  {
   "cell_type": "code",
   "execution_count": 56,
   "id": "68c0df44",
   "metadata": {},
   "outputs": [
    {
     "data": {
      "text/html": [
       "<div>\n",
       "<style scoped>\n",
       "    .dataframe tbody tr th:only-of-type {\n",
       "        vertical-align: middle;\n",
       "    }\n",
       "\n",
       "    .dataframe tbody tr th {\n",
       "        vertical-align: top;\n",
       "    }\n",
       "\n",
       "    .dataframe thead th {\n",
       "        text-align: right;\n",
       "    }\n",
       "</style>\n",
       "<table border=\"1\" class=\"dataframe\">\n",
       "  <thead>\n",
       "    <tr style=\"text-align: right;\">\n",
       "      <th></th>\n",
       "      <th>Model 0</th>\n",
       "      <th>Model 1</th>\n",
       "      <th>Model 2</th>\n",
       "      <th>Model 3</th>\n",
       "      <th>Model 4</th>\n",
       "      <th>Model 5</th>\n",
       "      <th>Model 6</th>\n",
       "      <th>Model 7</th>\n",
       "      <th>Model 8</th>\n",
       "      <th>Model 9</th>\n",
       "      <th>Model 10</th>\n",
       "    </tr>\n",
       "  </thead>\n",
       "  <tbody>\n",
       "    <tr>\n",
       "      <th>Lambda</th>\n",
       "      <td>0.000000</td>\n",
       "      <td>0.100000</td>\n",
       "      <td>0.200000</td>\n",
       "      <td>0.300000</td>\n",
       "      <td>0.400000</td>\n",
       "      <td>0.500000</td>\n",
       "      <td>0.600000</td>\n",
       "      <td>0.700000</td>\n",
       "      <td>0.800000</td>\n",
       "      <td>0.900000</td>\n",
       "      <td>1.000000</td>\n",
       "    </tr>\n",
       "    <tr>\n",
       "      <th>Training Loss</th>\n",
       "      <td>0.004383</td>\n",
       "      <td>0.005426</td>\n",
       "      <td>0.007197</td>\n",
       "      <td>0.008900</td>\n",
       "      <td>0.010383</td>\n",
       "      <td>0.011639</td>\n",
       "      <td>0.012701</td>\n",
       "      <td>0.013604</td>\n",
       "      <td>0.014377</td>\n",
       "      <td>0.015046</td>\n",
       "      <td>0.015631</td>\n",
       "    </tr>\n",
       "    <tr>\n",
       "      <th>Validation Loss</th>\n",
       "      <td>0.006495</td>\n",
       "      <td>0.005850</td>\n",
       "      <td>0.006532</td>\n",
       "      <td>0.007475</td>\n",
       "      <td>0.008400</td>\n",
       "      <td>0.009233</td>\n",
       "      <td>0.009962</td>\n",
       "      <td>0.010597</td>\n",
       "      <td>0.011149</td>\n",
       "      <td>0.011633</td>\n",
       "      <td>0.012060</td>\n",
       "    </tr>\n",
       "    <tr>\n",
       "      <th>Test Loss</th>\n",
       "      <td>0.005554</td>\n",
       "      <td>0.005626</td>\n",
       "      <td>0.006689</td>\n",
       "      <td>0.007836</td>\n",
       "      <td>0.008885</td>\n",
       "      <td>0.009801</td>\n",
       "      <td>0.010590</td>\n",
       "      <td>0.011269</td>\n",
       "      <td>0.011857</td>\n",
       "      <td>0.012370</td>\n",
       "      <td>0.012819</td>\n",
       "    </tr>\n",
       "    <tr>\n",
       "      <th>Complexity</th>\n",
       "      <td>0.078639</td>\n",
       "      <td>0.035724</td>\n",
       "      <td>0.021116</td>\n",
       "      <td>0.013950</td>\n",
       "      <td>0.009848</td>\n",
       "      <td>0.007282</td>\n",
       "      <td>0.005576</td>\n",
       "      <td>0.004386</td>\n",
       "      <td>0.003524</td>\n",
       "      <td>0.002881</td>\n",
       "      <td>0.002388</td>\n",
       "    </tr>\n",
       "  </tbody>\n",
       "</table>\n",
       "</div>"
      ],
      "text/plain": [
       "                  Model 0   Model 1   Model 2   Model 3   Model 4   Model 5  \\\n",
       "Lambda           0.000000  0.100000  0.200000  0.300000  0.400000  0.500000   \n",
       "Training Loss    0.004383  0.005426  0.007197  0.008900  0.010383  0.011639   \n",
       "Validation Loss  0.006495  0.005850  0.006532  0.007475  0.008400  0.009233   \n",
       "Test Loss        0.005554  0.005626  0.006689  0.007836  0.008885  0.009801   \n",
       "Complexity       0.078639  0.035724  0.021116  0.013950  0.009848  0.007282   \n",
       "\n",
       "                  Model 6   Model 7   Model 8   Model 9  Model 10  \n",
       "Lambda           0.600000  0.700000  0.800000  0.900000  1.000000  \n",
       "Training Loss    0.012701  0.013604  0.014377  0.015046  0.015631  \n",
       "Validation Loss  0.009962  0.010597  0.011149  0.011633  0.012060  \n",
       "Test Loss        0.010590  0.011269  0.011857  0.012370  0.012819  \n",
       "Complexity       0.005576  0.004386  0.003524  0.002881  0.002388  "
      ]
     },
     "execution_count": 56,
     "metadata": {},
     "output_type": "execute_result"
    }
   ],
   "source": [
    "df_models"
   ]
  },
  {
   "cell_type": "markdown",
   "id": "f32833c1",
   "metadata": {},
   "source": [
    "Verificamos justamente o esperado:\n",
    "\n",
    "- __Aumento do valor de Lambda $\\rightarrow$ Diminuição da Complexidade e Aumento do Custo do Modelo em todos os dados.__"
   ]
  },
  {
   "cell_type": "markdown",
   "id": "63af8a6f",
   "metadata": {},
   "source": [
    "### Podemos verificar esse fato graficamente também:"
   ]
  },
  {
   "cell_type": "code",
   "execution_count": 57,
   "id": "bc78ea15",
   "metadata": {
    "scrolled": true
   },
   "outputs": [
    {
     "data": {
      "text/plain": [
       "<matplotlib.legend.Legend at 0x20f8016d400>"
      ]
     },
     "execution_count": 57,
     "metadata": {},
     "output_type": "execute_result"
    },
    {
     "data": {
      "image/png": "[encoded data removed]",
      "text/plain": [
       "<Figure size 720x576 with 1 Axes>"
      ]
     },
     "metadata": {
      "needs_background": "light"
     },
     "output_type": "display_data"
    }
   ],
   "source": [
    "plt.figure(figsize=(10, 8))\n",
    "plt.plot(lambda_row.values(), complexity_row.values())\n",
    "plt.plot(lambda_row.values(), training_loss_row.values())\n",
    "plt.plot(lambda_row.values(), val_loss_row.values())\n",
    "plt.plot(lambda_row.values(), test_loss_row.values())\n",
    "plt.title('Complexity x Lambda')\n",
    "plt.xlabel('Lambda')\n",
    "plt.ylabel('Complexity')\n",
    "plt.legend(['Complexity', 'Training Loss', 'Validation Loss', 'Test Loss'])"
   ]
  },
  {
   "cell_type": "markdown",
   "id": "112eecd9",
   "metadata": {},
   "source": [
    "### Vamos adicionar também o cálculo do risco estrutural para cada modelo em cada conjunto de dados:"
   ]
  },
  {
   "cell_type": "code",
   "execution_count": 58,
   "id": "2b2f50f1",
   "metadata": {},
   "outputs": [],
   "source": [
    "training_sr_row = {f'Model {i}': model.get_structural_risk(train_data_scaled[features], train_data_scaled[label]) for (i, model) in zip(i_vals, models)}\n",
    "val_sr_row = {f'Model {i}': model.get_structural_risk(val_data_scaled[features], val_data_scaled[label]) for (i, model) in zip(i_vals, models)}\n",
    "test_sr_row = {f'Model {i}': model.get_structural_risk(test_data_scaled[features], val_data_scaled[label]) for (i, model) in zip(i_vals, models)}\n",
    "df_models = df_models.append(training_sr_row, ignore_index = True)\n",
    "df_models = df_models.append(val_sr_row, ignore_index = True)\n",
    "df_models = df_models.append(test_sr_row, ignore_index = True)"
   ]
  },
  {
   "cell_type": "code",
   "execution_count": 59,
   "id": "5df56cb2",
   "metadata": {},
   "outputs": [],
   "source": [
    "df_models = df_models.rename(index ={0: 'Lambda', 1: 'Training Loss', 2: 'Validation Loss', 3: 'Test Loss', 4: 'Complexity',\n",
    "                                    5: 'Training Structural Risk', 6: 'Validation Structural Risk', 7: 'Test Structural Risk'})"
   ]
  },
  {
   "cell_type": "code",
   "execution_count": 60,
   "id": "e6a5c902",
   "metadata": {
    "scrolled": false
   },
   "outputs": [
    {
     "data": {
      "text/html": [
       "<div>\n",
       "<style scoped>\n",
       "    .dataframe tbody tr th:only-of-type {\n",
       "        vertical-align: middle;\n",
       "    }\n",
       "\n",
       "    .dataframe tbody tr th {\n",
       "        vertical-align: top;\n",
       "    }\n",
       "\n",
       "    .dataframe thead th {\n",
       "        text-align: right;\n",
       "    }\n",
       "</style>\n",
       "<table border=\"1\" class=\"dataframe\">\n",
       "  <thead>\n",
       "    <tr style=\"text-align: right;\">\n",
       "      <th></th>\n",
       "      <th>Model 0</th>\n",
       "      <th>Model 1</th>\n",
       "      <th>Model 2</th>\n",
       "      <th>Model 3</th>\n",
       "      <th>Model 4</th>\n",
       "      <th>Model 5</th>\n",
       "      <th>Model 6</th>\n",
       "      <th>Model 7</th>\n",
       "      <th>Model 8</th>\n",
       "      <th>Model 9</th>\n",
       "      <th>Model 10</th>\n",
       "    </tr>\n",
       "  </thead>\n",
       "  <tbody>\n",
       "    <tr>\n",
       "      <th>Lambda</th>\n",
       "      <td>0.000000</td>\n",
       "      <td>0.100000</td>\n",
       "      <td>0.200000</td>\n",
       "      <td>0.300000</td>\n",
       "      <td>0.400000</td>\n",
       "      <td>0.500000</td>\n",
       "      <td>0.600000</td>\n",
       "      <td>0.700000</td>\n",
       "      <td>0.800000</td>\n",
       "      <td>0.900000</td>\n",
       "      <td>1.000000</td>\n",
       "    </tr>\n",
       "    <tr>\n",
       "      <th>Training Loss</th>\n",
       "      <td>0.004383</td>\n",
       "      <td>0.005426</td>\n",
       "      <td>0.007197</td>\n",
       "      <td>0.008900</td>\n",
       "      <td>0.010383</td>\n",
       "      <td>0.011639</td>\n",
       "      <td>0.012701</td>\n",
       "      <td>0.013604</td>\n",
       "      <td>0.014377</td>\n",
       "      <td>0.015046</td>\n",
       "      <td>0.015631</td>\n",
       "    </tr>\n",
       "    <tr>\n",
       "      <th>Validation Loss</th>\n",
       "      <td>0.006495</td>\n",
       "      <td>0.005850</td>\n",
       "      <td>0.006532</td>\n",
       "      <td>0.007475</td>\n",
       "      <td>0.008400</td>\n",
       "      <td>0.009233</td>\n",
       "      <td>0.009962</td>\n",
       "      <td>0.010597</td>\n",
       "      <td>0.011149</td>\n",
       "      <td>0.011633</td>\n",
       "      <td>0.012060</td>\n",
       "    </tr>\n",
       "    <tr>\n",
       "      <th>Test Loss</th>\n",
       "      <td>0.005554</td>\n",
       "      <td>0.005626</td>\n",
       "      <td>0.006689</td>\n",
       "      <td>0.007836</td>\n",
       "      <td>0.008885</td>\n",
       "      <td>0.009801</td>\n",
       "      <td>0.010590</td>\n",
       "      <td>0.011269</td>\n",
       "      <td>0.011857</td>\n",
       "      <td>0.012370</td>\n",
       "      <td>0.012819</td>\n",
       "    </tr>\n",
       "    <tr>\n",
       "      <th>Complexity</th>\n",
       "      <td>0.078639</td>\n",
       "      <td>0.035724</td>\n",
       "      <td>0.021116</td>\n",
       "      <td>0.013950</td>\n",
       "      <td>0.009848</td>\n",
       "      <td>0.007282</td>\n",
       "      <td>0.005576</td>\n",
       "      <td>0.004386</td>\n",
       "      <td>0.003524</td>\n",
       "      <td>0.002881</td>\n",
       "      <td>0.002388</td>\n",
       "    </tr>\n",
       "    <tr>\n",
       "      <th>Training Structural Risk</th>\n",
       "      <td>0.004383</td>\n",
       "      <td>0.008998</td>\n",
       "      <td>0.011420</td>\n",
       "      <td>0.013085</td>\n",
       "      <td>0.014322</td>\n",
       "      <td>0.015281</td>\n",
       "      <td>0.016047</td>\n",
       "      <td>0.016674</td>\n",
       "      <td>0.017196</td>\n",
       "      <td>0.017639</td>\n",
       "      <td>0.018019</td>\n",
       "    </tr>\n",
       "    <tr>\n",
       "      <th>Validation Structural Risk</th>\n",
       "      <td>0.006495</td>\n",
       "      <td>0.009423</td>\n",
       "      <td>0.010756</td>\n",
       "      <td>0.011660</td>\n",
       "      <td>0.012339</td>\n",
       "      <td>0.012874</td>\n",
       "      <td>0.013308</td>\n",
       "      <td>0.013667</td>\n",
       "      <td>0.013969</td>\n",
       "      <td>0.014226</td>\n",
       "      <td>0.014448</td>\n",
       "    </tr>\n",
       "    <tr>\n",
       "      <th>Test Structural Risk</th>\n",
       "      <td>0.034185</td>\n",
       "      <td>0.030306</td>\n",
       "      <td>0.027347</td>\n",
       "      <td>0.025315</td>\n",
       "      <td>0.023880</td>\n",
       "      <td>0.022832</td>\n",
       "      <td>0.022039</td>\n",
       "      <td>0.021423</td>\n",
       "      <td>0.020930</td>\n",
       "      <td>0.020527</td>\n",
       "      <td>0.020191</td>\n",
       "    </tr>\n",
       "  </tbody>\n",
       "</table>\n",
       "</div>"
      ],
      "text/plain": [
       "                             Model 0   Model 1   Model 2   Model 3   Model 4  \\\n",
       "Lambda                      0.000000  0.100000  0.200000  0.300000  0.400000   \n",
       "Training Loss               0.004383  0.005426  0.007197  0.008900  0.010383   \n",
       "Validation Loss             0.006495  0.005850  0.006532  0.007475  0.008400   \n",
       "Test Loss                   0.005554  0.005626  0.006689  0.007836  0.008885   \n",
       "Complexity                  0.078639  0.035724  0.021116  0.013950  0.009848   \n",
       "Training Structural Risk    0.004383  0.008998  0.011420  0.013085  0.014322   \n",
       "Validation Structural Risk  0.006495  0.009423  0.010756  0.011660  0.012339   \n",
       "Test Structural Risk        0.034185  0.030306  0.027347  0.025315  0.023880   \n",
       "\n",
       "                             Model 5   Model 6   Model 7   Model 8   Model 9  \\\n",
       "Lambda                      0.500000  0.600000  0.700000  0.800000  0.900000   \n",
       "Training Loss               0.011639  0.012701  0.013604  0.014377  0.015046   \n",
       "Validation Loss             0.009233  0.009962  0.010597  0.011149  0.011633   \n",
       "Test Loss                   0.009801  0.010590  0.011269  0.011857  0.012370   \n",
       "Complexity                  0.007282  0.005576  0.004386  0.003524  0.002881   \n",
       "Training Structural Risk    0.015281  0.016047  0.016674  0.017196  0.017639   \n",
       "Validation Structural Risk  0.012874  0.013308  0.013667  0.013969  0.014226   \n",
       "Test Structural Risk        0.022832  0.022039  0.021423  0.020930  0.020527   \n",
       "\n",
       "                            Model 10  \n",
       "Lambda                      1.000000  \n",
       "Training Loss               0.015631  \n",
       "Validation Loss             0.012060  \n",
       "Test Loss                   0.012819  \n",
       "Complexity                  0.002388  \n",
       "Training Structural Risk    0.018019  \n",
       "Validation Structural Risk  0.014448  \n",
       "Test Structural Risk        0.020191  "
      ]
     },
     "execution_count": 60,
     "metadata": {},
     "output_type": "execute_result"
    }
   ],
   "source": [
    "df_models"
   ]
  },
  {
   "cell_type": "markdown",
   "id": "cac0545c",
   "metadata": {},
   "source": [
    "- A análise dos riscos estruturais dos modelos nos indica a mesma resposta da análise dos valores de perda do modelo nos dados de treinamento, validação e de teste, que nos leva a crer que o modelo com $lambda = 0$ é o melhor, dado que possui menores perdas e tais valores nos três datasets são muito próximos, negando a possibilidade de overfitting nos dados de treino. Tal modelo também é aquele com os menores riscos estruturais."
   ]
  },
  {
   "cell_type": "markdown",
   "id": "3ca409af",
   "metadata": {},
   "source": [
    "### Verificando que de fato os pesos das features diminuem:"
   ]
  },
  {
   "cell_type": "code",
   "execution_count": 61,
   "id": "b7cfbba1",
   "metadata": {},
   "outputs": [
    {
     "name": "stdout",
     "output_type": "stream",
     "text": [
      "Model 0\n",
      "w1 = 0.11879119170129392\n",
      "w2 = 0.12178581623485109\n",
      "w3 = 0.03466165172927982\n",
      "w4 = 0.08296755000680148\n",
      "w5 = 0.12104512820940831\n",
      "w6 = 0.16274519530202722\n",
      "w7 = 0.021741583370602384\n",
      "b = 0.34781088671437677\n",
      "\n",
      "\n",
      "Model 1\n",
      "w1 = 0.08118039932360324\n",
      "w2 = 0.07889967100547851\n",
      "w3 = 0.0547340895348308\n",
      "w4 = 0.06671654408719359\n",
      "w5 = 0.07265414640176264\n",
      "w6 = 0.09163433047301697\n",
      "w7 = 0.042258830522776666\n",
      "b = 0.4392254507020785\n",
      "\n",
      "\n",
      "Model 2\n",
      "w1 = 0.06131208966207382\n",
      "w2 = 0.057773617925894936\n",
      "w3 = 0.05089358446998807\n",
      "w4 = 0.053224595569805855\n",
      "w5 = 0.05274188602667516\n",
      "w6 = 0.06293781699597925\n",
      "w7 = 0.043053126692259316\n",
      "b = 0.4958052963932588\n",
      "\n",
      "\n",
      "Model 3\n",
      "w1 = 0.0491401263798048\n",
      "w2 = 0.04549276772457452\n",
      "w3 = 0.04422284849947052\n",
      "w4 = 0.0435109236586815\n",
      "w5 = 0.04186229696433106\n",
      "w6 = 0.047999692073942016\n",
      "w7 = 0.039505257295544695\n",
      "b = 0.5337708608809415\n",
      "\n",
      "\n",
      "Model 4\n",
      "w1 = 0.0408744205562382\n",
      "w2 = 0.03744154093570303\n",
      "w3 = 0.038381496888524366\n",
      "w4 = 0.03655319026774845\n",
      "w5 = 0.03481068722856712\n",
      "w6 = 0.03873172456175994\n",
      "w7 = 0.03541025587080822\n",
      "b = 0.5607678203993759\n",
      "\n",
      "\n",
      "Model 5\n",
      "w1 = 0.03486978647761241\n",
      "w2 = 0.03172124533385754\n",
      "w3 = 0.03370515254889906\n",
      "w4 = 0.03142338423049987\n",
      "w5 = 0.029775802794898696\n",
      "w6 = 0.03234501428679122\n",
      "w7 = 0.03168499209730162\n",
      "b = 0.5808329171611563\n",
      "\n",
      "\n",
      "Model 6\n",
      "w1 = 0.0303024179633248\n",
      "w2 = 0.027427271673539963\n",
      "w3 = 0.02997633274812418\n",
      "w4 = 0.02750737007580304\n",
      "w5 = 0.025957098891817767\n",
      "w6 = 0.027651182649363754\n",
      "w7 = 0.028493848553971118\n",
      "b = 0.5962821916047955\n",
      "\n",
      "\n",
      "Model 7\n",
      "w1 = 0.026709640891707753\n",
      "w2 = 0.024073071530004406\n",
      "w3 = 0.026952646000884678\n",
      "w4 = 0.024420350666749756\n",
      "w5 = 0.022937467078919475\n",
      "w6 = 0.02404760906732032\n",
      "w7 = 0.02580440049105461\n",
      "b = 0.6085278224695052\n",
      "\n",
      "\n",
      "Model 8\n",
      "w1 = 0.023809125964962877\n",
      "w2 = 0.02137234040754946\n",
      "w3 = 0.024448680482042694\n",
      "w4 = 0.02191930806563018\n",
      "w5 = 0.02047563254232486\n",
      "w6 = 0.02118963407213984\n",
      "w7 = 0.023541197825796563\n",
      "b = 0.6184719913451656\n",
      "\n",
      "\n",
      "Model 9\n",
      "w1 = 0.021418017410935054\n",
      "w2 = 0.019145177201109802\n",
      "w3 = 0.022333193597970483\n",
      "w4 = 0.01984655586591932\n",
      "w5 = 0.018421610365676258\n",
      "w6 = 0.018864000243667304\n",
      "w7 = 0.02162881231550746\n",
      "b = 0.6267133124401923\n",
      "\n",
      "\n",
      "Model 10\n",
      "w1 = 0.0194124807073022\n",
      "w2 = 0.01727279646573374\n",
      "w3 = 0.020514633724419966\n",
      "w4 = 0.018096443462068186\n",
      "w5 = 0.016676866881203588\n",
      "w6 = 0.01693151063597535\n",
      "w7 = 0.020002573109868797\n",
      "b = 0.6336619772492368\n",
      "\n",
      "\n"
     ]
    }
   ],
   "source": [
    "i = 0\n",
    "for model in models:\n",
    "    print(f'Model {i}')\n",
    "    model.print_parameters()\n",
    "    print('\\n')\n",
    "    i += 1"
   ]
  },
  {
   "cell_type": "markdown",
   "id": "4a52db40",
   "metadata": {},
   "source": [
    "### Verificando isso graficamente:"
   ]
  },
  {
   "cell_type": "code",
   "execution_count": 62,
   "id": "4272c00e",
   "metadata": {},
   "outputs": [],
   "source": [
    "ws_str = [f'w{i + 1}' for i in range(len(features))]"
   ]
  },
  {
   "cell_type": "code",
   "execution_count": 63,
   "id": "91f352eb",
   "metadata": {
    "scrolled": true
   },
   "outputs": [
    {
     "data": {
      "text/plain": [
       "['w1', 'w2', 'w3', 'w4', 'w5', 'w6', 'w7']"
      ]
     },
     "execution_count": 63,
     "metadata": {},
     "output_type": "execute_result"
    }
   ],
   "source": [
    "ws_str"
   ]
  },
  {
   "cell_type": "code",
   "execution_count": 64,
   "id": "163c594e",
   "metadata": {},
   "outputs": [],
   "source": [
    "ws = []\n",
    "for w_str in ws_str:\n",
    "    w_list = []\n",
    "    for model in models:\n",
    "        w_list.append(model.get_parameters()[w_str])\n",
    "    ws.append(w_list)"
   ]
  },
  {
   "cell_type": "code",
   "execution_count": 65,
   "id": "15f80c84",
   "metadata": {},
   "outputs": [
    {
     "data": {
      "text/plain": [
       "Text(0, 0.5, 'Weight')"
      ]
     },
     "execution_count": 65,
     "metadata": {},
     "output_type": "execute_result"
    },
    {
     "data": {
      "image/png": "[encoded data removed]",
      "text/plain": [
       "<Figure size 720x576 with 1 Axes>"
      ]
     },
     "metadata": {
      "needs_background": "light"
     },
     "output_type": "display_data"
    }
   ],
   "source": [
    "plt.figure(figsize=(10, 8))\n",
    "for i in range(0, len(features)):\n",
    "    plt.plot(lambda_reg_vals, ws[i])\n",
    "plt.title('Weights x Lambda')\n",
    "plt.xlabel('Lambda')\n",
    "plt.ylabel('Weight')"
   ]
  },
  {
   "cell_type": "markdown",
   "id": "bec9b527",
   "metadata": {},
   "source": [
    "- Vemos que quando aumentamos suficientemente o valor de lambda, os pesos tendem a diminuir e a ficarem próximos de zero."
   ]
  },
  {
   "cell_type": "markdown",
   "id": "7d98115e",
   "metadata": {},
   "source": [
    "- Poderíamos analisar também a distribuição dos pesos em cada modelo, verificando que se aproxima de uma distribuição normal na medida em que aumentamos o valor de $\\lambda$. No entanto, como há poucas features, a visualização de tal processo não é boa."
   ]
  }
 ],
 "metadata": {
  "kernelspec": {
   "display_name": "Python 3 (ipykernel)",
   "language": "python",
   "name": "python3"
  },
  "language_info": {
   "codemirror_mode": {
    "name": "ipython",
    "version": 3
   },
   "file_extension": ".py",
   "mimetype": "text/x-python",
   "name": "python",
   "nbconvert_exporter": "python",
   "pygments_lexer": "ipython3",
   "version": "3.9.7"
  }
 },
 "nbformat": 4,
 "nbformat_minor": 5
}
